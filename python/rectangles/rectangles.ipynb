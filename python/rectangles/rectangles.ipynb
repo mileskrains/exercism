{
 "cells": [
  {
   "cell_type": "code",
   "execution_count": 13,
   "metadata": {},
   "outputs": [],
   "source": [
    "lines = ['++',\n",
    "         '||',\n",
    "         '++']"
   ]
  },
  {
   "cell_type": "code",
   "execution_count": 44,
   "metadata": {},
   "outputs": [],
   "source": [
    "lines = ['  +-+',\n",
    "         '  | |',\n",
    "         '+-+-+',\n",
    "         '| | |',\n",
    "         '+-+-+']"
   ]
  },
  {
   "cell_type": "code",
   "execution_count": 56,
   "metadata": {},
   "outputs": [],
   "source": [
    "lines = ['+---+--+----+',\n",
    "         '|   +--+----+',\n",
    "         '+---+--+    |',\n",
    "         '|   +--+----+',\n",
    "         '+---+--+--+-+',\n",
    "         '+---+--+--+-+',\n",
    "         '+------+  | |',\n",
    "         '          +-+']"
   ]
  },
  {
   "cell_type": "code",
   "execution_count": 10,
   "metadata": {},
   "outputs": [],
   "source": [
    "lines = ['  +-+',\n",
    "         '    |',\n",
    "         '+-+-+',\n",
    "         '| | -',\n",
    "         '+-+-+']"
   ]
  },
  {
   "cell_type": "code",
   "execution_count": 53,
   "metadata": {},
   "outputs": [],
   "source": [
    "lines = ['+------+----+',\n",
    "         '|      |    |',\n",
    "         '+---+--+    |',\n",
    "         '|   |       |',\n",
    "         '+---+-------+']"
   ]
  },
  {
   "cell_type": "code",
   "execution_count": 57,
   "metadata": {},
   "outputs": [
    {
     "data": {
      "text/plain": [
       "60"
      ]
     },
     "execution_count": 57,
     "metadata": {},
     "output_type": "execute_result"
    }
   ],
   "source": [
    "from itertools import combinations\n",
    "\n",
    "def update_tracker(tracker, col, lines):\n",
    "    start_row, end_row, closed_ct, open_ct, continuing = tracker\n",
    "    subcol = ''.join(line[col] for line in lines[start_row:end_row+1])\n",
    "    if (subcol.startswith('+') and \n",
    "        subcol.endswith('+') and \n",
    "        ' ' not in subcol and \n",
    "        '-' not in subcol):\n",
    "        if continuing:\n",
    "            closed_ct += open_ct\n",
    "        open_ct += 1\n",
    "        continuing = True\n",
    "    elif continuing and subcol[0] in '+-' and subcol[-1] in '+-':\n",
    "        continuing = True\n",
    "    else:\n",
    "        open_ct = 0\n",
    "        continuing = False\n",
    "    return (start_row, end_row, closed_ct, open_ct, continuing)\n",
    "\n",
    "\n",
    "def count(lines):\n",
    "    corner_rows = [rn for rn, r in enumerate(lines) if '+' in r]\n",
    "    if corner_rows == []:\n",
    "        return 0\n",
    "\n",
    "    trackers = [(start_row, end_row, 0, 0, False)\n",
    "                for start_row, end_row in combinations(corner_rows, 2)]\n",
    "\n",
    "    for col in range(len(lines[0])):\n",
    "        trackers = [update_tracker(tr, col, lines) for tr in trackers]\n",
    "\n",
    "    return sum([tr[2] for tr in trackers])\n",
    "\n",
    "count(lines)"
   ]
  },
  {
   "cell_type": "code",
   "execution_count": null,
   "metadata": {},
   "outputs": [],
   "source": []
  },
  {
   "cell_type": "code",
   "execution_count": null,
   "metadata": {},
   "outputs": [],
   "source": []
  },
  {
   "cell_type": "code",
   "execution_count": null,
   "metadata": {},
   "outputs": [],
   "source": []
  },
  {
   "cell_type": "code",
   "execution_count": null,
   "metadata": {},
   "outputs": [],
   "source": []
  },
  {
   "cell_type": "code",
   "execution_count": null,
   "metadata": {},
   "outputs": [],
   "source": []
  },
  {
   "cell_type": "code",
   "execution_count": null,
   "metadata": {},
   "outputs": [],
   "source": []
  },
  {
   "cell_type": "code",
   "execution_count": null,
   "metadata": {},
   "outputs": [],
   "source": []
  },
  {
   "cell_type": "code",
   "execution_count": null,
   "metadata": {},
   "outputs": [],
   "source": []
  },
  {
   "cell_type": "code",
   "execution_count": null,
   "metadata": {},
   "outputs": [],
   "source": []
  },
  {
   "cell_type": "code",
   "execution_count": null,
   "metadata": {},
   "outputs": [],
   "source": []
  },
  {
   "cell_type": "code",
   "execution_count": null,
   "metadata": {},
   "outputs": [],
   "source": []
  },
  {
   "cell_type": "code",
   "execution_count": null,
   "metadata": {},
   "outputs": [],
   "source": []
  },
  {
   "cell_type": "code",
   "execution_count": null,
   "metadata": {},
   "outputs": [],
   "source": []
  },
  {
   "cell_type": "code",
   "execution_count": null,
   "metadata": {},
   "outputs": [],
   "source": []
  }
 ],
 "metadata": {
  "kernelspec": {
   "display_name": "Python 3",
   "language": "python",
   "name": "python3"
  },
  "language_info": {
   "codemirror_mode": {
    "name": "ipython",
    "version": 3
   },
   "file_extension": ".py",
   "mimetype": "text/x-python",
   "name": "python",
   "nbconvert_exporter": "python",
   "pygments_lexer": "ipython3",
   "version": "3.6.3"
  }
 },
 "nbformat": 4,
 "nbformat_minor": 2
}
