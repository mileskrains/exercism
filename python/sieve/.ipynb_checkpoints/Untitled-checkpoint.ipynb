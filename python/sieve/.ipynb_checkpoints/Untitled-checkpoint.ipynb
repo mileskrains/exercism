{
 "cells": [
  {
   "cell_type": "code",
   "execution_count": 62,
   "metadata": {},
   "outputs": [
    {
     "name": "stdout",
     "output_type": "stream",
     "text": [
      "[2, 3, 5, 7, 11, 13, 17, 19, 23, 29, 31, 37, 41, 43, 47, 53, 59, 61, 67, 71, 73, 79, 83, 89, 97]\n"
     ]
    }
   ],
   "source": [
    "import math\n",
    "\n",
    "\n",
    "def sieve(limit):\n",
    "    if limit < 2:\n",
    "        return []\n",
    "    vals = list(range(2, limit+1))\n",
    "    term = math.sqrt(limit)\n",
    "    cpos = 0\n",
    "    cv = vals[cpos]\n",
    "    while cv < term:\n",
    "        vals = [val for val in vals if val==cv or val%cv != 0]\n",
    "        cpos += 1\n",
    "        cv = vals[cpos]\n",
    "\n",
    "    return vals\n",
    "\n",
    "print(sieve(100))"
   ]
  },
  {
   "cell_type": "code",
   "execution_count": 77,
   "metadata": {},
   "outputs": [],
   "source": [
    "res = sieve(2500000)"
   ]
  },
  {
   "cell_type": "code",
   "execution_count": 78,
   "metadata": {},
   "outputs": [
    {
     "name": "stdout",
     "output_type": "stream",
     "text": [
      "[1229, 1033, 983, 958, 930, 924, 878, 902, 876, 879, 861, 848, 858, 851, 838, 835, 814, 845, 828, 814, 823, 811, 819, 784, 823, 793, 805, 790, 792, 773, 803, 808, 796, 778, 795, 780, 765, 778, 767, 793, 754, 776, 772, 779, 765, 752, 765, 782, 761, 772, 753, 770, 764, 747, 750, 750, 747, 769, 763, 747, 763, 751, 729, 733, 757, 733, 745, 754, 752, 728, 763, 723, 760, 742, 707, 740, 755, 735, 738, 745, 732, 733, 745, 729, 727, 725, 753, 728, 732, 719, 752, 708, 740, 713, 720, 711, 732, 717, 710, 721, 753, 719, 732, 701, 731, 698, 716, 722, 706, 738, 736, 716, 718, 718, 700, 728, 734, 726, 735, 713, 676, 744, 693, 694, 724, 713, 718, 710, 722, 689, 709, 703, 713, 706, 692, 714, 709, 723, 695, 741, 679, 682, 718, 723, 702, 701, 716, 705, 706, 697, 731, 702, 691, 686, 698, 713, 681, 701, 693, 676, 719, 694, 710, 692, 692, 701, 716, 702, 675, 713, 696, 685, 691, 689, 706, 684, 679, 700, 688, 713, 704, 672, 718, 675, 701, 707, 703, 689, 697, 691, 689, 696, 711, 685, 692, 684, 673, 670, 690, 714, 705, 690, 693, 690, 671, 696, 694, 673, 686, 674, 699, 683, 697, 673, 693, 712, 667, 690, 679, 664, 701, 660, 695, 680, 683, 688, 701, 694, 662, 685, 690, 662, 672, 671, 667, 690, 691, 662, 705, 681, 660, 692, 672, 657, 701, 687, 668, 672, 687]\n"
     ]
    }
   ],
   "source": [
    "width = 10000\n",
    "right = width\n",
    "counter = 0\n",
    "counts = []\n",
    "for pos in range(len(res)):\n",
    "    if res[pos] <= right:\n",
    "        counter += 1\n",
    "    else:\n",
    "        counts.append(counter)\n",
    "        counter = 1\n",
    "        right += width\n",
    "print(counts)"
   ]
  },
  {
   "cell_type": "code",
   "execution_count": null,
   "metadata": {},
   "outputs": [],
   "source": []
  },
  {
   "cell_type": "code",
   "execution_count": 62,
   "metadata": {},
   "outputs": [
    {
     "name": "stdout",
     "output_type": "stream",
     "text": [
      "[2, 3, 5, 7, 11, 13, 17, 19, 23, 29, 31, 37, 41, 43, 47, 53, 59, 61, 67, 71, 73, 79, 83, 89, 97]\n"
     ]
    }
   ],
   "source": [
    "import math\n",
    "\n",
    "\n",
    "def sieve(limit):\n",
    "    if limit < 2:\n",
    "        return []\n",
    "    vals = list(range(2, limit+1))\n",
    "    term = math.sqrt(limit)\n",
    "    cpos = 0\n",
    "    cv = vals[cpos]\n",
    "    while cv < term:\n",
    "        vals = [val for val in vals if val==cv or val%cv != 0]\n",
    "        cpos += 1\n",
    "        cv = vals[cpos]\n",
    "\n",
    "    return vals\n",
    "\n",
    "print(sieve(100))"
   ]
  },
  {
   "cell_type": "code",
   "execution_count": 64,
   "metadata": {},
   "outputs": [
    {
     "name": "stdout",
     "output_type": "stream",
     "text": [
      "CPU times: user 1min 3s, sys: 2.33 s, total: 1min 5s\n",
      "Wall time: 1min 5s\n"
     ]
    }
   ],
   "source": [
    "%%time\n",
    "\n",
    "res = sieve(10000000)"
   ]
  },
  {
   "cell_type": "code",
   "execution_count": 67,
   "metadata": {},
   "outputs": [],
   "source": [
    "def sieve_of_eratosthenes(max_integer):\n",
    "    sieve = [True for _ in range(max_integer + 1)]\n",
    "    sieve[0:1] = [False, False]\n",
    "    for start in range(2, max_integer + 1):\n",
    "        if sieve[start]:\n",
    "            for i in range(2 * start, max_integer + 1, start):\n",
    "                sieve[i] = False\n",
    "    primes = []\n",
    "    for i in range(2, max_integer + 1):\n",
    "        if sieve[i]:\n",
    "            primes.append(i)\n",
    "    return primes"
   ]
  },
  {
   "cell_type": "code",
   "execution_count": 68,
   "metadata": {},
   "outputs": [
    {
     "name": "stdout",
     "output_type": "stream",
     "text": [
      "CPU times: user 4.88 s, sys: 99.1 ms, total: 4.98 s\n",
      "Wall time: 5.01 s\n"
     ]
    }
   ],
   "source": [
    "%%time\n",
    "\n",
    "res = sieve_of_eratosthenes(10000000)"
   ]
  },
  {
   "cell_type": "code",
   "execution_count": 69,
   "metadata": {},
   "outputs": [
    {
     "data": {
      "text/plain": [
       "[9999889,\n",
       " 9999901,\n",
       " 9999907,\n",
       " 9999929,\n",
       " 9999931,\n",
       " 9999937,\n",
       " 9999943,\n",
       " 9999971,\n",
       " 9999973,\n",
       " 9999991]"
      ]
     },
     "execution_count": 69,
     "metadata": {},
     "output_type": "execute_result"
    }
   ],
   "source": [
    "res[-10:]"
   ]
  },
  {
   "cell_type": "code",
   "execution_count": null,
   "metadata": {},
   "outputs": [],
   "source": []
  },
  {
   "cell_type": "code",
   "execution_count": null,
   "metadata": {},
   "outputs": [],
   "source": []
  },
  {
   "cell_type": "code",
   "execution_count": null,
   "metadata": {},
   "outputs": [],
   "source": []
  },
  {
   "cell_type": "code",
   "execution_count": null,
   "metadata": {},
   "outputs": [],
   "source": []
  },
  {
   "cell_type": "code",
   "execution_count": null,
   "metadata": {},
   "outputs": [],
   "source": []
  },
  {
   "cell_type": "code",
   "execution_count": null,
   "metadata": {},
   "outputs": [],
   "source": []
  },
  {
   "cell_type": "code",
   "execution_count": null,
   "metadata": {},
   "outputs": [],
   "source": []
  },
  {
   "cell_type": "code",
   "execution_count": null,
   "metadata": {},
   "outputs": [],
   "source": []
  }
 ],
 "metadata": {
  "kernelspec": {
   "display_name": "Python 3",
   "language": "python",
   "name": "python3"
  },
  "language_info": {
   "codemirror_mode": {
    "name": "ipython",
    "version": 3
   },
   "file_extension": ".py",
   "mimetype": "text/x-python",
   "name": "python",
   "nbconvert_exporter": "python",
   "pygments_lexer": "ipython3",
   "version": "3.6.3"
  }
 },
 "nbformat": 4,
 "nbformat_minor": 2
}
