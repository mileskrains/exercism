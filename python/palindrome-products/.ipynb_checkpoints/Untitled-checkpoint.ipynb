{
 "cells": [
  {
   "cell_type": "code",
   "execution_count": 46,
   "metadata": {},
   "outputs": [],
   "source": [
    "def largest_palindrome(max_factor, min_factor=1):\n",
    "    lpp = 0\n",
    "    for x in range(min_factor, max_factor+1):\n",
    "        for y in range(x, max_factor+1):\n",
    "            prod = x * y\n",
    "            if str(prod) == str(prod)[::-1]:\n",
    "                if prod > lpp:\n",
    "                    lpp = prod\n",
    "                    lpp_factors = [{x, y}]\n",
    "                elif prod == lpp:\n",
    "                    lpp_factors.append({x, y})\n",
    "    if len(lpp_factors)==1:\n",
    "        lpp_factors = lpp_factors[0]\n",
    "    return lpp, lpp_factors\n",
    "\n",
    "\n",
    "def smallest_palindrome(max_factor, min_factor=1):\n",
    "    spp = max_factor**2+1\n",
    "    for x in range(min_factor, max_factor+1):\n",
    "        for y in range(x, max_factor+1):\n",
    "            prod = x * y\n",
    "            if str(prod) == str(prod)[::-1]:\n",
    "                if prod < spp:\n",
    "                    spp = prod\n",
    "                    spp_factors = [{x, y}]\n",
    "                elif prod == spp:\n",
    "                    spp_factors.append({x, y})\n",
    "    if len(spp_factors)==1:\n",
    "        spp_factors = spp_factors[0]\n",
    "    return spp, spp_factors"
   ]
  },
  {
   "cell_type": "code",
   "execution_count": 43,
   "metadata": {},
   "outputs": [],
   "source": [
    "def largest_palindrome(max_factor, min_factor=1):\n",
    "    lpp = 0\n",
    "    for x in range(min_factor, max_factor+1):\n",
    "        for y in range(x, max_factor+1):\n",
    "            prod = x * y\n",
    "            if str(prod) == str(prod)[::-1]:\n",
    "                if prod > lpp:\n",
    "                    lpp = prod\n",
    "                    lpp_factors = {x, y}\n",
    "    return lpp, lpp_factors\n",
    "\n",
    "\n",
    "def smallest_palindrome(max_factor, min_factor=1):\n",
    "    spp = max_factor**2+1\n",
    "    for x in range(min_factor, max_factor+1):\n",
    "        for y in range(x, max_factor+1):\n",
    "            prod = x * y\n",
    "            if str(prod) == str(prod)[::-1]:\n",
    "                if prod < spp:\n",
    "                    spp = prod\n",
    "                    spp_factors = {x, y}\n",
    "    return spp, spp_factors"
   ]
  },
  {
   "cell_type": "code",
   "execution_count": 44,
   "metadata": {},
   "outputs": [
    {
     "name": "stdout",
     "output_type": "stream",
     "text": [
      "(906609, {913, 993})\n",
      "(10201, {101})\n"
     ]
    }
   ],
   "source": [
    "max_factor = 999\n",
    "min_factor = 100\n",
    "\n",
    "print(largest_palindrome(max_factor, min_factor))\n",
    "\n",
    "print(smallest_palindrome(max_factor, min_factor))"
   ]
  },
  {
   "cell_type": "code",
   "execution_count": 45,
   "metadata": {},
   "outputs": [
    {
     "name": "stdout",
     "output_type": "stream",
     "text": [
      "9 {1, 3, 9}\n",
      "1 {1}\n"
     ]
    }
   ],
   "source": [
    "max_factor = 9\n",
    "min_factor = 1\n",
    "\n",
    "value, factors = largest_palindrome(max_factor, min_factor)\n",
    "print(value, factors)\n",
    "set(factors)\n",
    "value, factors = smallest_palindrome(max_factor, min_factor)\n",
    "print(value, factors)"
   ]
  },
  {
   "cell_type": "code",
   "execution_count": null,
   "metadata": {},
   "outputs": [],
   "source": []
  },
  {
   "cell_type": "code",
   "execution_count": null,
   "metadata": {},
   "outputs": [],
   "source": []
  },
  {
   "cell_type": "code",
   "execution_count": null,
   "metadata": {},
   "outputs": [],
   "source": []
  },
  {
   "cell_type": "code",
   "execution_count": null,
   "metadata": {},
   "outputs": [],
   "source": []
  },
  {
   "cell_type": "code",
   "execution_count": null,
   "metadata": {},
   "outputs": [],
   "source": []
  },
  {
   "cell_type": "code",
   "execution_count": null,
   "metadata": {},
   "outputs": [],
   "source": []
  },
  {
   "cell_type": "code",
   "execution_count": null,
   "metadata": {},
   "outputs": [],
   "source": []
  },
  {
   "cell_type": "code",
   "execution_count": null,
   "metadata": {},
   "outputs": [],
   "source": []
  },
  {
   "cell_type": "code",
   "execution_count": null,
   "metadata": {},
   "outputs": [],
   "source": []
  },
  {
   "cell_type": "code",
   "execution_count": null,
   "metadata": {},
   "outputs": [],
   "source": []
  },
  {
   "cell_type": "code",
   "execution_count": null,
   "metadata": {},
   "outputs": [],
   "source": []
  },
  {
   "cell_type": "code",
   "execution_count": null,
   "metadata": {},
   "outputs": [],
   "source": []
  },
  {
   "cell_type": "code",
   "execution_count": null,
   "metadata": {},
   "outputs": [],
   "source": []
  },
  {
   "cell_type": "code",
   "execution_count": null,
   "metadata": {},
   "outputs": [],
   "source": []
  },
  {
   "cell_type": "code",
   "execution_count": null,
   "metadata": {},
   "outputs": [],
   "source": []
  },
  {
   "cell_type": "code",
   "execution_count": null,
   "metadata": {},
   "outputs": [],
   "source": []
  },
  {
   "cell_type": "code",
   "execution_count": null,
   "metadata": {},
   "outputs": [],
   "source": []
  },
  {
   "cell_type": "code",
   "execution_count": null,
   "metadata": {},
   "outputs": [],
   "source": []
  },
  {
   "cell_type": "code",
   "execution_count": null,
   "metadata": {},
   "outputs": [],
   "source": []
  },
  {
   "cell_type": "code",
   "execution_count": null,
   "metadata": {},
   "outputs": [],
   "source": []
  },
  {
   "cell_type": "code",
   "execution_count": null,
   "metadata": {},
   "outputs": [],
   "source": []
  },
  {
   "cell_type": "code",
   "execution_count": null,
   "metadata": {},
   "outputs": [],
   "source": []
  }
 ],
 "metadata": {
  "kernelspec": {
   "display_name": "Python 3",
   "language": "python",
   "name": "python3"
  },
  "language_info": {
   "codemirror_mode": {
    "name": "ipython",
    "version": 3
   },
   "file_extension": ".py",
   "mimetype": "text/x-python",
   "name": "python",
   "nbconvert_exporter": "python",
   "pygments_lexer": "ipython3",
   "version": "3.6.3"
  }
 },
 "nbformat": 4,
 "nbformat_minor": 2
}
