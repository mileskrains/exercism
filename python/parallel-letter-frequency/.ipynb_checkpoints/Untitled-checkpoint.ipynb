{
 "cells": [
  {
   "cell_type": "markdown",
   "metadata": {},
   "source": [
    "parallel letter frequencies\n",
    "\n",
    "\n",
    "try to use map/reduce as the parallelism approach here ... also refer to Dan Bader and other sources of simple examples of parallelism / concurrency in python"
   ]
  },
  {
   "cell_type": "code",
   "execution_count": 28,
   "metadata": {},
   "outputs": [],
   "source": [
    "\"\"\"\n",
    "Python Parallel Processing (in 60 seconds or less)\n",
    "https://dbader.org/blog/python-parallel-computing-in-60-seconds\n",
    "\"\"\"\n",
    "import collections\n",
    "import concurrent.futures\n",
    "import time\n",
    "from collections import Counter\n",
    "from functools import reduce"
   ]
  },
  {
   "cell_type": "code",
   "execution_count": 2,
   "metadata": {},
   "outputs": [],
   "source": [
    "Scientist = collections.namedtuple('Scientist', [\n",
    "    'name',\n",
    "    'born',\n",
    "])"
   ]
  },
  {
   "cell_type": "code",
   "execution_count": 3,
   "metadata": {},
   "outputs": [],
   "source": [
    "scientists = (\n",
    "    Scientist(name='Ada Lovelace', born=1815),\n",
    "    Scientist(name='Emmy Noether', born=1882),\n",
    "    Scientist(name='Marie Curie', born=1867),\n",
    "    Scientist(name='Tu Youyou', born=1930),\n",
    "    Scientist(name='Ada Yonath', born=1939),\n",
    "    Scientist(name='Vera Rubin', born=1928),\n",
    "    Scientist(name='Sally Ride', born=1951),\n",
    ")"
   ]
  },
  {
   "cell_type": "code",
   "execution_count": 17,
   "metadata": {},
   "outputs": [
    {
     "name": "stdout",
     "output_type": "stream",
     "text": [
      "({'name': 'Ada Lovelace', 'age': 202}, {'name': 'Emmy Noether', 'age': 135}, {'name': 'Marie Curie', 'age': 150}, {'name': 'Tu Youyou', 'age': 87}, {'name': 'Ada Yonath', 'age': 78}, {'name': 'Vera Rubin', 'age': 89}, {'name': 'Sally Ride', 'age': 66})\n",
      "CPU times: user 20.9 ms, sys: 49.3 ms, total: 70.2 ms\n",
      "Wall time: 1.07 s\n"
     ]
    }
   ],
   "source": [
    "%%time\n",
    "\n",
    "def process_item(item):\n",
    "    time.sleep(1)\n",
    "    return {\n",
    "        'name': item.name,\n",
    "        'age': 2017 - item.born\n",
    "    }\n",
    "\n",
    "with concurrent.futures.ProcessPoolExecutor(max_workers=len(scientists)) as executor:\n",
    "    result = executor.map(process_item, scientists)\n",
    "\n",
    "print(tuple(result))"
   ]
  },
  {
   "cell_type": "code",
   "execution_count": 8,
   "metadata": {},
   "outputs": [
    {
     "name": "stdout",
     "output_type": "stream",
     "text": [
      "({'name': 'Ada Lovelace', 'age': 202}, {'name': 'Emmy Noether', 'age': 135}, {'name': 'Marie Curie', 'age': 150}, {'name': 'Tu Youyou', 'age': 87}, {'name': 'Ada Yonath', 'age': 78}, {'name': 'Vera Rubin', 'age': 89}, {'name': 'Sally Ride', 'age': 66})\n",
      "CPU times: user 19.4 ms, sys: 15.7 ms, total: 35.1 ms\n",
      "Wall time: 7.02 s\n"
     ]
    }
   ],
   "source": [
    "%%time\n",
    "\n",
    "def process_item(item):\n",
    "    time.sleep(1)\n",
    "    return {\n",
    "        'name': item.name,\n",
    "        'age': 2017 - item.born\n",
    "    }\n",
    "\n",
    "result = map(process_item, scientists)\n",
    "\n",
    "print(tuple(result))"
   ]
  },
  {
   "cell_type": "code",
   "execution_count": 13,
   "metadata": {},
   "outputs": [
    {
     "name": "stdout",
     "output_type": "stream",
     "text": [
      "['3 Quotes from Excerism Homepage:', \"\\tOne moment you feel like you're\", \"getting it. The next moment you're\", 'stuck.', '\\tYou know what it’s like to be fluent.', 'Suddenly you’re feeling incompetent', 'and clumsy.', '\\tHaphazard, convoluted code is', 'infuriating, not to mention costly. That', 'slapdash explosion of complexity is an', 'expensive yak shave waiting to', 'happen.']\n",
      "Counter({'e': 35, 'o': 26, 't': 26, 'n': 23, 'i': 19, 'a': 15, 's': 14, 'u': 12, 'l': 12, 'm': 11, 'y': 10, 'h': 9, 'p': 9, 'c': 8, 'r': 7, 'd': 7, 'f': 6, 'g': 6, 'x': 5, 'k': 5, 'w': 3, 'v': 3, 'q': 1, 'b': 1, 'z': 1})\n"
     ]
    }
   ],
   "source": [
    "text_input = \"3 Quotes from Excerism Homepage:\\n\" + \\\n",
    "                     \"\\tOne moment you feel like you're\\n\" + \\\n",
    "                     \"getting it. The next moment you're\\n\" + \\\n",
    "                     \"stuck.\\n\" + \\\n",
    "                     \"\\tYou know what it’s like to be fluent.\\n\" + \\\n",
    "                     \"Suddenly you’re feeling incompetent\\n\" + \\\n",
    "                     \"and clumsy.\\n\" + \\\n",
    "                     \"\\tHaphazard, convoluted code is\\n\" + \\\n",
    "                     \"infuriating, not to mention costly. That\\n\" + \\\n",
    "                     \"slapdash explosion of complexity is an\\n\" + \\\n",
    "                     \"expensive yak shave waiting to\\n\" + \\\n",
    "                     \"happen.\"\n",
    "print(text_input.split('\\n'))\n",
    "expected = collections.Counter([x for x in text_input.lower() if x.isalpha()])\n",
    "print(expected)"
   ]
  },
  {
   "cell_type": "code",
   "execution_count": 30,
   "metadata": {},
   "outputs": [],
   "source": [
    "def to_letter_counts(text):\n",
    "    return Counter([c for c in text.lower() if c.isalpha()])\n",
    "\n",
    "counters = map(to_letter_list, text_input.split('\\n'))\n",
    "\n",
    "all_count = reduce(lambda d1, d2: d1 + d2, counters)"
   ]
  },
  {
   "cell_type": "code",
   "execution_count": null,
   "metadata": {},
   "outputs": [],
   "source": []
  },
  {
   "cell_type": "code",
   "execution_count": null,
   "metadata": {},
   "outputs": [],
   "source": []
  },
  {
   "cell_type": "code",
   "execution_count": null,
   "metadata": {},
   "outputs": [],
   "source": []
  },
  {
   "cell_type": "code",
   "execution_count": null,
   "metadata": {},
   "outputs": [],
   "source": []
  },
  {
   "cell_type": "code",
   "execution_count": null,
   "metadata": {},
   "outputs": [],
   "source": []
  },
  {
   "cell_type": "code",
   "execution_count": null,
   "metadata": {},
   "outputs": [],
   "source": []
  },
  {
   "cell_type": "code",
   "execution_count": null,
   "metadata": {},
   "outputs": [],
   "source": []
  },
  {
   "cell_type": "code",
   "execution_count": null,
   "metadata": {},
   "outputs": [],
   "source": []
  },
  {
   "cell_type": "code",
   "execution_count": null,
   "metadata": {},
   "outputs": [],
   "source": []
  },
  {
   "cell_type": "code",
   "execution_count": null,
   "metadata": {},
   "outputs": [],
   "source": []
  },
  {
   "cell_type": "code",
   "execution_count": null,
   "metadata": {},
   "outputs": [],
   "source": []
  },
  {
   "cell_type": "code",
   "execution_count": null,
   "metadata": {},
   "outputs": [],
   "source": []
  },
  {
   "cell_type": "code",
   "execution_count": null,
   "metadata": {},
   "outputs": [],
   "source": []
  },
  {
   "cell_type": "code",
   "execution_count": null,
   "metadata": {},
   "outputs": [],
   "source": []
  },
  {
   "cell_type": "code",
   "execution_count": null,
   "metadata": {},
   "outputs": [],
   "source": []
  },
  {
   "cell_type": "code",
   "execution_count": null,
   "metadata": {},
   "outputs": [],
   "source": []
  },
  {
   "cell_type": "code",
   "execution_count": null,
   "metadata": {},
   "outputs": [],
   "source": []
  }
 ],
 "metadata": {
  "kernelspec": {
   "display_name": "Python 3",
   "language": "python",
   "name": "python3"
  },
  "language_info": {
   "codemirror_mode": {
    "name": "ipython",
    "version": 3
   },
   "file_extension": ".py",
   "mimetype": "text/x-python",
   "name": "python",
   "nbconvert_exporter": "python",
   "pygments_lexer": "ipython3",
   "version": "3.6.3"
  }
 },
 "nbformat": 4,
 "nbformat_minor": 2
}
