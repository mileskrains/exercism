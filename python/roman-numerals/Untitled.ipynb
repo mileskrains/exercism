{
 "cells": [
  {
   "cell_type": "code",
   "execution_count": 33,
   "metadata": {},
   "outputs": [],
   "source": [
    "def numeral(number):\n",
    "    r_vals = ((1000, 'M'),\n",
    "              (500, 'D'),\n",
    "              (100, 'C'),\n",
    "              (50, 'L'),\n",
    "              (10, 'X'),\n",
    "              (5, 'V'), \n",
    "              (1, 'I'))\n",
    "    r_replacements = (('DCCCC', 'CM'),\n",
    "                      ('CCCC', 'CD'),\n",
    "                      ('LXXXX', 'XC'),\n",
    "                      ('XXXX', 'XL'),\n",
    "                      ('VIIII', 'IX'),\n",
    "                      ('IIII', 'IV'))\n",
    "    \n",
    "    def strip_roman(number):\n",
    "        for v, c in r_vals:\n",
    "            if number >= v:\n",
    "                return c, number - v\n",
    "            \n",
    "    rds = ''\n",
    "    while number:\n",
    "        c, number = strip_roman(number)\n",
    "        rds += c\n",
    "    for s, r in r_replacements:\n",
    "        rds = rds.replace(s, r)\n",
    "    return rds"
   ]
  },
  {
   "cell_type": "code",
   "execution_count": 34,
   "metadata": {},
   "outputs": [
    {
     "data": {
      "text/plain": [
       "'DLXXV'"
      ]
     },
     "execution_count": 34,
     "metadata": {},
     "output_type": "execute_result"
    }
   ],
   "source": [
    "numeral(575)"
   ]
  },
  {
   "cell_type": "code",
   "execution_count": null,
   "metadata": {},
   "outputs": [],
   "source": []
  },
  {
   "cell_type": "code",
   "execution_count": null,
   "metadata": {},
   "outputs": [],
   "source": []
  },
  {
   "cell_type": "code",
   "execution_count": null,
   "metadata": {},
   "outputs": [],
   "source": []
  },
  {
   "cell_type": "code",
   "execution_count": null,
   "metadata": {},
   "outputs": [],
   "source": []
  },
  {
   "cell_type": "code",
   "execution_count": null,
   "metadata": {},
   "outputs": [],
   "source": []
  }
 ],
 "metadata": {
  "kernelspec": {
   "display_name": "Python 3",
   "language": "python",
   "name": "python3"
  },
  "language_info": {
   "codemirror_mode": {
    "name": "ipython",
    "version": 3
   },
   "file_extension": ".py",
   "mimetype": "text/x-python",
   "name": "python",
   "nbconvert_exporter": "python",
   "pygments_lexer": "ipython3",
   "version": "3.6.3"
  }
 },
 "nbformat": 4,
 "nbformat_minor": 2
}
