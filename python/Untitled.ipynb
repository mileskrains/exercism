{
 "cells": [
  {
   "cell_type": "code",
   "execution_count": null,
   "metadata": {},
   "outputs": [],
   "source": []
  },
  {
   "cell_type": "code",
   "execution_count": null,
   "metadata": {},
   "outputs": [],
   "source": []
  },
  {
   "cell_type": "code",
   "execution_count": null,
   "metadata": {},
   "outputs": [],
   "source": []
  },
  {
   "cell_type": "code",
   "execution_count": null,
   "metadata": {},
   "outputs": [],
   "source": []
  },
  {
   "cell_type": "code",
   "execution_count": null,
   "metadata": {},
   "outputs": [],
   "source": [
    "# ocr_numbers"
   ]
  },
  {
   "cell_type": "code",
   "execution_count": 8,
   "metadata": {},
   "outputs": [],
   "source": [
    "num_grid = [\"    _  _ \",\n",
    "            \"  | _| _|\",\n",
    "            \"  ||_  _|\",\n",
    "            \"         \",\n",
    "            \"    _  _ \",\n",
    "            \"|_||_ |_ \",\n",
    "            \"  | _||_|\",\n",
    "            \"         \",\n",
    "            \" _  _  _ \",\n",
    "            \"  ||_||_|\",\n",
    "            \"  ||_| _|\",\n",
    "            \"         \",\n",
    "            ]"
   ]
  },
  {
   "cell_type": "code",
   "execution_count": 93,
   "metadata": {},
   "outputs": [],
   "source": [
    "num_grid = [\n",
    "            \"       _     _        _  _ \",\n",
    "            \"  |  || |  || |  |  || || |\",\n",
    "            \"  |  ||_|  ||_|  |  ||_||_|\",\n",
    "            \"                           \"\n",
    "        ]"
   ]
  },
  {
   "cell_type": "code",
   "execution_count": 12,
   "metadata": {},
   "outputs": [],
   "source": [
    "def convert(input_grid):\n",
    "    line_lens_vary = len(set(map(len, input_grid))) != 1\n",
    "    if line_lens_vary or len(input_grid) % 4 != 0 or len(input_grid[0]) % 3 != 0:\n",
    "        raise ValueError\n",
    "    segs_to_digit = {(' _ ', '| |', '|_|', '   '): '0',\n",
    "                     ('   ', '  |', '  |', '   '): '1',\n",
    "                     (' _ ', ' _|', '|_ ', '   '): '2',\n",
    "                     (' _ ', ' _|', ' _|', '   '): '3',\n",
    "                     ('   ', '|_|', '  |', '   '): '4',\n",
    "                     (' _ ', '|_ ', ' _|', '   '): '5',\n",
    "                     (' _ ', '|_ ', '|_|', '   '): '6',\n",
    "                     (' _ ', '  |', '  |', '   '): '7',\n",
    "                     (' _ ', '|_|', '|_|', '   '): '8',\n",
    "                     (' _ ', '|_|', ' _|', '   '): '9'}\n",
    "    row_ct = len(input_grid)//4\n",
    "    out = []\n",
    "    for drn in range(row_ct):\n",
    "        dig_row = input_grid[drn*4:drn*4+4]\n",
    "        row_digits_ct = len(dig_row[0])//3\n",
    "        row = ''\n",
    "        for rdn in range(row_digits_ct):\n",
    "            digit = [line[rdn*3:rdn*3+3] for line in dig_row]\n",
    "            row += segs_to_digit.get(tuple(digit), '?')\n",
    "        out.append(row)\n",
    "    return ','.join(out)"
   ]
  },
  {
   "cell_type": "code",
   "execution_count": 13,
   "metadata": {},
   "outputs": [
    {
     "data": {
      "text/plain": [
       "'123,456,789'"
      ]
     },
     "execution_count": 13,
     "metadata": {},
     "output_type": "execute_result"
    }
   ],
   "source": [
    "convert(num_grid)"
   ]
  },
  {
   "cell_type": "code",
   "execution_count": null,
   "metadata": {},
   "outputs": [],
   "source": []
  },
  {
   "cell_type": "code",
   "execution_count": null,
   "metadata": {},
   "outputs": [],
   "source": []
  },
  {
   "cell_type": "code",
   "execution_count": null,
   "metadata": {},
   "outputs": [],
   "source": [
    "# phone_number"
   ]
  },
  {
   "cell_type": "code",
   "execution_count": 9,
   "metadata": {},
   "outputs": [
    {
     "data": {
      "text/plain": [
       "(<__main__.Phone at 0x10ce4e080>, '223', '(223) 456-7890')"
      ]
     },
     "execution_count": 9,
     "metadata": {},
     "output_type": "execute_result"
    }
   ],
   "source": [
    "class Phone(object):\n",
    "    def __init__(self, phone_number):\n",
    "        self._raw = phone_number\n",
    "        ph = ''.join(ch for ch in phone_number if ch.isdigit())\n",
    "        ph = ph[1:] if len(ph)==11 and ph[0] == '1' else ph\n",
    "        if len(ph) != 10 or int(ph[0])<2 or int(ph[3])<2:\n",
    "            raise ValueError\n",
    "        self.number = ph\n",
    "    \n",
    "    @property\n",
    "    def area_code(self):\n",
    "        return self.number[:3]\n",
    "    \n",
    "    def pretty(self):\n",
    "        ph = self.number\n",
    "        return f'({ph[:3]}) {ph[3:6]}-{ph[6:]}'\n",
    "\n",
    "ph = Phone('2234567890')\n",
    "ph, ph.area_code, ph.pretty()"
   ]
  },
  {
   "cell_type": "code",
   "execution_count": null,
   "metadata": {},
   "outputs": [],
   "source": []
  },
  {
   "cell_type": "code",
   "execution_count": null,
   "metadata": {},
   "outputs": [],
   "source": []
  },
  {
   "cell_type": "code",
   "execution_count": 1,
   "metadata": {
    "code_folding": []
   },
   "outputs": [],
   "source": [
    "# wordy"
   ]
  },
  {
   "cell_type": "code",
   "execution_count": 72,
   "metadata": {
    "code_folding": []
   },
   "outputs": [],
   "source": [
    "def split_on_digit(q):\n",
    "    f = 'X'\n",
    "    fa = ''\n",
    "    while f.isalpha():\n",
    "        fa = fa + ' ' + f\n",
    "        f, q = q.split(maxsplit=1)\n",
    "    return fa[3:], int(f), q\n",
    "\n",
    "def calculate(question):\n",
    "    q = question.replace('?', ' ?')\n",
    "    _, operand, rest = split_on_digit(q)\n",
    "    is_continuing = True\n",
    "    while is_continuing:\n",
    "        operator, operand_2, rest = split_on_digit(rest)\n",
    "        ops_dict = {'plus': operand + operand_2,\n",
    "                   'minus': operand - operand_2,\n",
    "                   'multiplied by': operand * operand_2,\n",
    "                   'divided by': operand / operand_2}\n",
    "        operand = ops_dict.get(operator, 'ERROR')\n",
    "        if operand == 'ERROR':\n",
    "            raise ValueError\n",
    "        if rest == '?':\n",
    "            is_continuing = False\n",
    "    return operand"
   ]
  },
  {
   "cell_type": "code",
   "execution_count": 73,
   "metadata": {
    "code_folding": []
   },
   "outputs": [
    {
     "data": {
      "text/plain": [
       "-77.0"
      ]
     },
     "execution_count": 73,
     "metadata": {},
     "output_type": "execute_result"
    }
   ],
   "source": [
    "question = \"What is -333 divided by 3 plus 1 minus -33?\"\n",
    "calculate(question)"
   ]
  },
  {
   "cell_type": "code",
   "execution_count": null,
   "metadata": {},
   "outputs": [],
   "source": []
  },
  {
   "cell_type": "code",
   "execution_count": null,
   "metadata": {},
   "outputs": [],
   "source": []
  },
  {
   "cell_type": "code",
   "execution_count": null,
   "metadata": {},
   "outputs": [],
   "source": [
    "# queen attack"
   ]
  },
  {
   "cell_type": "code",
   "execution_count": null,
   "metadata": {},
   "outputs": [],
   "source": [
    "def board(white_position, black_position):\n",
    "    board = [['_']*8]*8\n",
    "    for (r, c), ch in zip((white_position, black_position), ('W', 'B')):\n",
    "        if min(r, c) < 0 or max(r, c) > 7 or white_position==black_position:\n",
    "            raise ValueError\n",
    "        rm = board[r][:]\n",
    "        rm[c] = ch\n",
    "        board[r] = rm\n",
    "    return list(map(lambda r: ''.join(r), board))\n",
    "\n",
    "\n",
    "def can_attack(white_position, black_position):\n",
    "    wr, wc = white_position\n",
    "    br, bc = black_position\n",
    "    if min(wr, wc, br, bc) < 0 or max(wr, wc, br, bc) > 7 or (wr, wc)==(br, bc):\n",
    "        raise ValueError\n",
    "    return wr==br or wc==bc or abs(wr-br)==abs(wc-bc)"
   ]
  },
  {
   "cell_type": "code",
   "execution_count": null,
   "metadata": {},
   "outputs": [],
   "source": [
    "board((2, 3), (5, 6))"
   ]
  },
  {
   "cell_type": "code",
   "execution_count": null,
   "metadata": {},
   "outputs": [],
   "source": []
  },
  {
   "cell_type": "code",
   "execution_count": null,
   "metadata": {},
   "outputs": [],
   "source": []
  },
  {
   "cell_type": "code",
   "execution_count": null,
   "metadata": {},
   "outputs": [],
   "source": [
    "# minesweeper"
   ]
  },
  {
   "cell_type": "code",
   "execution_count": null,
   "metadata": {},
   "outputs": [],
   "source": [
    "def star_ct(r, c, inp):\n",
    "    row_ct = len(inp)\n",
    "    col_ct = len(inp[0])\n",
    "    stars = 0\n",
    "    for ri in [r-1, r, r+1]:\n",
    "        for ci in [c-1, c, c+1]:\n",
    "            if 0 <= ri < row_ct and 0 <= ci < col_ct:\n",
    "                if inp[ri][ci] == '*':\n",
    "                    stars += 1\n",
    "    return str(stars) if stars else ' '\n",
    "\n",
    "def board(input_board_array):\n",
    "    if len(set(map(len, input_board_array))) > 1:\n",
    "        raise ValueError('rows are not of equal length')\n",
    "    out = []\n",
    "    for r, row in enumerate(input_board_array):\n",
    "        out_row = []\n",
    "        for c, val in enumerate(row):\n",
    "            if val == ' ':\n",
    "                out_row.append(star_ct(r, c, input_board_array))\n",
    "            elif val == '*':\n",
    "                out_row.append('*')\n",
    "            else:\n",
    "                raise ValueError('invalid char encountered')\n",
    "        out.append(''.join(out_row))\n",
    "    return out"
   ]
  },
  {
   "cell_type": "code",
   "execution_count": null,
   "metadata": {},
   "outputs": [],
   "source": [
    "inp = [\"***\", \"* *\", \"***\"]\n",
    "board(inp)"
   ]
  },
  {
   "cell_type": "code",
   "execution_count": null,
   "metadata": {},
   "outputs": [],
   "source": [
    "inp = [\" * * \"]\n",
    "board(inp)"
   ]
  },
  {
   "cell_type": "code",
   "execution_count": null,
   "metadata": {},
   "outputs": [],
   "source": [
    "inp = [\" \",\n",
    "       \"*\",\n",
    "       \" \",\n",
    "       \"*\",\n",
    "       \" \"]\n",
    "board(inp)"
   ]
  },
  {
   "cell_type": "code",
   "execution_count": null,
   "metadata": {},
   "outputs": [],
   "source": [
    "inp = [\"*\",\n",
    "       \" \",\n",
    "       \"  \",\n",
    "       \" \",\n",
    "       \"*\"]\n",
    "board(inp)"
   ]
  },
  {
   "cell_type": "code",
   "execution_count": null,
   "metadata": {},
   "outputs": [],
   "source": [
    "len(set(map(len, inp))) > 1"
   ]
  },
  {
   "cell_type": "code",
   "execution_count": null,
   "metadata": {},
   "outputs": [],
   "source": []
  },
  {
   "cell_type": "code",
   "execution_count": null,
   "metadata": {},
   "outputs": [],
   "source": []
  },
  {
   "cell_type": "code",
   "execution_count": null,
   "metadata": {},
   "outputs": [],
   "source": [
    "# check_brackets"
   ]
  },
  {
   "cell_type": "code",
   "execution_count": null,
   "metadata": {},
   "outputs": [],
   "source": [
    "def check_brackets(input_string):\n",
    "    br_opening = '{[('\n",
    "    br_closing = '}])'\n",
    "    br_closes = dict(zip(br_closing, br_opening))\n",
    "    br_stack = []\n",
    "    for ch in input_string:\n",
    "        if ch in br_opening:\n",
    "            br_stack.append(ch)\n",
    "        if ch in br_closing:\n",
    "            if br_stack and br_closes[ch] == br_stack[-1]:\n",
    "                br_stack.pop()\n",
    "            else:\n",
    "                return False\n",
    "    return br_stack == []\n",
    "        \n",
    "\n",
    "\n",
    "check_brackets(\"[({]})\"), check_brackets(\"([{}({}[])])\")"
   ]
  },
  {
   "cell_type": "code",
   "execution_count": null,
   "metadata": {},
   "outputs": [],
   "source": []
  },
  {
   "cell_type": "code",
   "execution_count": null,
   "metadata": {},
   "outputs": [],
   "source": []
  }
 ],
 "metadata": {
  "kernelspec": {
   "display_name": "Python 3",
   "language": "python",
   "name": "python3"
  },
  "language_info": {
   "codemirror_mode": {
    "name": "ipython",
    "version": 3
   },
   "file_extension": ".py",
   "mimetype": "text/x-python",
   "name": "python",
   "nbconvert_exporter": "python",
   "pygments_lexer": "ipython3",
   "version": "3.6.3"
  }
 },
 "nbformat": 4,
 "nbformat_minor": 2
}
