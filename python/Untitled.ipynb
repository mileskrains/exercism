{
 "cells": [
  {
   "cell_type": "code",
   "execution_count": null,
   "metadata": {},
   "outputs": [],
   "source": []
  },
  {
   "cell_type": "code",
   "execution_count": null,
   "metadata": {},
   "outputs": [],
   "source": []
  },
  {
   "cell_type": "code",
   "execution_count": null,
   "metadata": {},
   "outputs": [],
   "source": []
  },
  {
   "cell_type": "code",
   "execution_count": null,
   "metadata": {},
   "outputs": [],
   "source": []
  },
  {
   "cell_type": "code",
   "execution_count": null,
   "metadata": {},
   "outputs": [],
   "source": [
    "# poker"
   ]
  },
  {
   "cell_type": "code",
   "execution_count": 1,
   "metadata": {},
   "outputs": [],
   "source": [
    "from itertools import product\n",
    "from random import sample\n",
    "\n",
    "ranks = '2 3 4 5 6 7 8 9 10 J Q K A'.split()\n",
    "suits = 'S H C D'.split()\n",
    "deck = [r+s for r, s in product(ranks, suits)]"
   ]
  },
  {
   "cell_type": "code",
   "execution_count": 23,
   "metadata": {},
   "outputs": [],
   "source": [
    "from collections import defaultdict\n",
    "\n",
    "def rank_and_suit_dicts(hand):\n",
    "    ranks = '2 3 4 5 6 7 8 9 10 J Q K A'.split()\n",
    "    rank_val_dict = dict(zip(ranks, range(13)))\n",
    "    rbs = defaultdict(list)\n",
    "    sbr = defaultdict(list)\n",
    "    for card in hand:\n",
    "        rank, suit = rank_val_dict[card[:-1]], card[-1]\n",
    "        rbs[suit].append(rank)\n",
    "        sbr[rank].append(suit)\n",
    "    return rbs, sbr\n",
    "\n",
    "\n",
    "def is_sequential(ranklist):\n",
    "    return max(ranklist) - min(ranklist) == len(ranklist) - 1\n",
    "\n",
    "\n",
    "def score(hand):\n",
    "    rbs, sbr = rank_and_suit_dicts(hand)\n",
    "    suit_counts = sorted(map(len,rbs.values()))\n",
    "    rank_counts = sorted(map(len,sbr.values()))\n",
    "    kicker = 0\n",
    "    # straight flush?\n",
    "    if suit_counts == [5] and is_sequential(list(sbr.keys())):\n",
    "        hand_score = 9\n",
    "        rank = max(sbr.keys())\n",
    "    # four of a kind?\n",
    "    elif rank_counts == [1, 4]:\n",
    "        hand_score = 8\n",
    "        rank = [k for k, v in sbr.items() if len(v) == 4][0]\n",
    "        kicker = [k for k, v in sbr.items() if len(v) == 1][0]\n",
    "    # full house?\n",
    "    elif rank_counts == [2, 3]:\n",
    "        hand_score = 7\n",
    "        triplet_score = [k for k, v in sbr.items() if len(v) == 3][0]\n",
    "        pair_score = [k for k, v in sbr.items() if len(v) == 2][0]\n",
    "        rank = 13 * triplet_score + pair_score\n",
    "    # flush?\n",
    "    elif suit_counts == [5]:\n",
    "        hand_score = 6\n",
    "        rank = max(sbr.keys())\n",
    "    # straight?\n",
    "    elif is_sequential(sbr.keys()):\n",
    "        hand_score = 5\n",
    "        rank = max(sbr.keys())\n",
    "    # three of a kind?\n",
    "    elif rank_counts == [1, 1, 3]:\n",
    "        hand_score = 4\n",
    "        rank = [k for k, v in sbr.items() if len(v) == 3][0]\n",
    "        kicker = max([k for k, v in sbr.items() if len(v) == 1])\n",
    "    # two pair?\n",
    "    elif rank_counts == [1, 2, 2]:\n",
    "        hand_score = 3\n",
    "        pair_scores = [k for k, v in sbr.items() if len(v) == 2]\n",
    "        rank = max(pair_scores)\n",
    "        low_pair_score = min(pair_scores)\n",
    "        single_card_score = [k for k, v in sbr.items() if len(v) == 1][0]\n",
    "        kicker = 13 * low_pair_score + single_card_score\n",
    "    # pair?\n",
    "    elif rank_counts == [1, 1, 1, 2]:\n",
    "        hand_score = 2\n",
    "        rank = [k for k, v in sbr.items() if len(v) == 2][0]\n",
    "        k3, k2, k1 = sorted([k for k, v in sbr.items() if len(v) == 1])\n",
    "        kicker = (13**2 * k1) + (13 * k2) + k3 \n",
    "    # high card\n",
    "    else:\n",
    "        hand_score = 1\n",
    "        k4, k3, k2, k1, high = sorted(sbr.keys())\n",
    "        rank = high\n",
    "        kicker = (13**3 * k1) + (13**2 * k2) + (13 * k3) + k4 \n",
    "    return hand_score, rank, kicker\n",
    "\n",
    "\n",
    "def poker(hands):\n",
    "    scored_hands = sorted([(score(hand), hand) for hand in hands])\n",
    "    return [hand \n",
    "            for score, hand in scored_hands \n",
    "            if score == scored_hands[-1][0]]"
   ]
  },
  {
   "cell_type": "code",
   "execution_count": 24,
   "metadata": {},
   "outputs": [
    {
     "data": {
      "text/plain": [
       "((8, 1, 2), (8, 1, 0))"
      ]
     },
     "execution_count": 24,
     "metadata": {},
     "output_type": "execute_result"
    }
   ],
   "source": [
    "fourOf3low = '3S 3H 2S 3D 3C'.split()\n",
    "fourOf3high = '3S 3H 4S 3D 3C'.split()\n",
    "\n",
    "score(fourOf3high), score(fourOf3low)"
   ]
  },
  {
   "cell_type": "code",
   "execution_count": 7,
   "metadata": {},
   "outputs": [],
   "source": [
    "sflush = '8S 9S 10S JS QS'.split()\n",
    "foak = '4S 4C 4D 4H 10H'.split()\n",
    "fullh = '3S 3D 5D 5H 5C'.split()\n",
    "flush = '2C 4C 7C JC AC'.split()\n",
    "straight = '3S 4H 5D 6H 7C'.split()\n",
    "throak = '2S 4C 4D 4H 10H'.split()\n",
    "twop = '8S 8D 5D 5H JC'.split()\n",
    "pair = '3S 4S 4D 6H 7C'.split()\n",
    "high = '2S 4S 5D 8H JH'.split()"
   ]
  },
  {
   "cell_type": "code",
   "execution_count": 19,
   "metadata": {},
   "outputs": [
    {
     "data": {
      "text/plain": [
       "[['8S', '8D', '5D', '5H', 'JC']]"
      ]
     },
     "execution_count": 19,
     "metadata": {},
     "output_type": "execute_result"
    }
   ],
   "source": [
    "rand = sample(deck, 5)\n",
    "rand2 = sample(deck, 5)\n",
    "poker([rand, rand2, twop, pair])"
   ]
  },
  {
   "cell_type": "markdown",
   "metadata": {},
   "source": [
    "9: straight flush: sequential ranks, same suit\n",
    "8: four of a kind: four of same rank, kicker wins tie\n",
    "7: full house: three of a kind, and one pair\n",
    "6: flush: five cards of suit, non-sequential\n",
    "5: straight: five sequential cards of differing suits\n",
    "4: three of a kind: kickers break tie\n",
    "3: two pair: kbt\n",
    "2: one pair: \n",
    "1: high card:"
   ]
  },
  {
   "cell_type": "code",
   "execution_count": null,
   "metadata": {},
   "outputs": [],
   "source": []
  },
  {
   "cell_type": "code",
   "execution_count": null,
   "metadata": {},
   "outputs": [],
   "source": []
  },
  {
   "cell_type": "code",
   "execution_count": null,
   "metadata": {},
   "outputs": [],
   "source": [
    "# tree-building"
   ]
  },
  {
   "cell_type": "code",
   "execution_count": 3,
   "metadata": {},
   "outputs": [],
   "source": [
    "class Record():\n",
    "    def __init__(self, record_id, parent_id):\n",
    "        self.record_id = record_id\n",
    "        self.parent_id = parent_id\n",
    "\n",
    "\n",
    "class Node():\n",
    "    def __init__(self, node_id):\n",
    "        self.node_id = node_id\n",
    "        self.children = []\n",
    "\n",
    "\n",
    "def BuildTree(records):\n",
    "    root = None\n",
    "    records.sort(key=lambda x: x.record_id)\n",
    "    ordered_id = [i.record_id for i in records]\n",
    "    if records:\n",
    "        if ordered_id[-1] != len(ordered_id) - 1:\n",
    "            raise ValueError\n",
    "        if ordered_id[0] != 0:\n",
    "            raise ValueError\n",
    "    trees = []\n",
    "    parent = {}\n",
    "    for i in range(len(ordered_id)):\n",
    "        for j in records:\n",
    "            if ordered_id[i] == j.record_id:\n",
    "                if j.record_id == 0:\n",
    "                    if j.parent_id != 0:\n",
    "                        raise ValueError\n",
    "                if j.record_id < j.parent_id:\n",
    "                    raise ValueError\n",
    "                if j.record_id == j.parent_id:\n",
    "                    if j.record_id != 0:\n",
    "                        raise ValueError\n",
    "                trees.append(Node(ordered_id[i]))\n",
    "    for i in range(len(ordered_id)):\n",
    "        for j in trees:\n",
    "            if i == j.node_id:\n",
    "                parent = j\n",
    "        for j in records:\n",
    "            if j.parent_id == i:\n",
    "                for k in trees:\n",
    "                    if k.node_id == 0:\n",
    "                        continue\n",
    "                    if j.record_id == k.node_id:\n",
    "                        child = k\n",
    "                        parent.children.append(child)\n",
    "    if len(trees) > 0:\n",
    "        root = trees[0]\n",
    "    return root\n"
   ]
  },
  {
   "cell_type": "code",
   "execution_count": 4,
   "metadata": {},
   "outputs": [],
   "source": [
    "def find_parent(root, p_id):\n",
    "    to_visit = [root]\n",
    "    while to_visit:\n",
    "        node = to_visit.pop()\n",
    "        if node.node_id == p_id:\n",
    "            return node\n",
    "        else:\n",
    "            to_visit.extend(node.children)\n",
    "    raise ValueError\n",
    "\n",
    "    \n",
    "def BuildTree(records):\n",
    "    if not records:\n",
    "        return None\n",
    "    if not sorted([r.record_id for r in records]) == list(range(len(records))):\n",
    "        raise ValueError\n",
    "    records.sort(key=lambda x: (x.parent_id, x.record_id))\n",
    "    root = Node(0)\n",
    "    for rec in records[1:]:\n",
    "        if rec.parent_id >= rec.record_id:\n",
    "            raise ValueError\n",
    "        node = find_parent(root, rec.parent_id)\n",
    "        node.children.append(Node(rec.record_id))\n",
    "    return root"
   ]
  },
  {
   "cell_type": "code",
   "execution_count": 6,
   "metadata": {},
   "outputs": [],
   "source": [
    "records = [\n",
    "            Record(6, 2),\n",
    "            Record(0, 0),\n",
    "            Record(3, 1),\n",
    "            Record(2, 0),\n",
    "            Record(4, 1),\n",
    "            Record(5, 2),\n",
    "            Record(1, 0)\n",
    "        ]\n",
    "\n",
    "root = BuildTree(records)"
   ]
  },
  {
   "cell_type": "code",
   "execution_count": null,
   "metadata": {},
   "outputs": [],
   "source": []
  },
  {
   "cell_type": "code",
   "execution_count": null,
   "metadata": {},
   "outputs": [],
   "source": []
  },
  {
   "cell_type": "code",
   "execution_count": null,
   "metadata": {},
   "outputs": [],
   "source": [
    "# transpose"
   ]
  },
  {
   "cell_type": "code",
   "execution_count": 32,
   "metadata": {},
   "outputs": [],
   "source": [
    "from itertools import zip_longest\n",
    "\n",
    "\n",
    "def transpose(input_lines):\n",
    "    if not input_lines:\n",
    "        return ''\n",
    "    inp = [line.replace(' ', '~') for line in input_lines.split('\\n')]\n",
    "    transpose = list(map(lambda z: ''.join(z),\n",
    "                         zip_longest(*inp, fillvalue=' ')))\n",
    "    transpose = [line.rstrip().replace('~', ' ') for line in transpose]\n",
    "    return '\\n'.join(transpose)"
   ]
  },
  {
   "cell_type": "code",
   "execution_count": 33,
   "metadata": {},
   "outputs": [
    {
     "name": "stdout",
     "output_type": "stream",
     "text": [
      "tini\n",
      "hsos\n",
      "i t \n",
      "s  i\n",
      "  st\n",
      "  o\n",
      "   \n",
      "  h\n",
      "  a\n",
      "  r\n",
      "  d\n"
     ]
    }
   ],
   "source": [
    "print(transpose('this\\nis\\nnot so hard\\nis it'))"
   ]
  },
  {
   "cell_type": "code",
   "execution_count": null,
   "metadata": {},
   "outputs": [],
   "source": []
  },
  {
   "cell_type": "code",
   "execution_count": null,
   "metadata": {},
   "outputs": [],
   "source": []
  },
  {
   "cell_type": "code",
   "execution_count": null,
   "metadata": {},
   "outputs": [],
   "source": [
    "# dot_ds"
   ]
  },
  {
   "cell_type": "code",
   "execution_count": 49,
   "metadata": {},
   "outputs": [],
   "source": [
    "NODE, EDGE, ATTR = range(3)\n",
    "\n",
    "\n",
    "class Node(object):\n",
    "    def __init__(self, name, attrs={}):\n",
    "        self.name = name\n",
    "        self.attrs = attrs\n",
    "\n",
    "    def __eq__(self, other):\n",
    "        return self.name == other.name and self.attrs == other.attrs\n",
    "\n",
    "\n",
    "class Edge(object):\n",
    "    def __init__(self, src, dst, attrs={}):\n",
    "        self.src = src\n",
    "        self.dst = dst\n",
    "        self.attrs = attrs\n",
    "\n",
    "    def __eq__(self, other):\n",
    "        return (self.src == other.src and\n",
    "                self.dst == other.dst and\n",
    "                self.attrs == other.attrs)\n",
    "\n",
    "\n",
    "def validate_graph_data(data):\n",
    "    if not type(data) == list or min(map(len, data)) < 3:\n",
    "        raise TypeError\n",
    "    for k, *d in data:\n",
    "        dtypes = list(map(type, d))\n",
    "        if k not in (ATTR, NODE, EDGE):\n",
    "            raise ValueError\n",
    "        elif (\n",
    "                (k == ATTR and dtypes != [str, str]) or\n",
    "                (k == NODE and not (dtypes == [str, dict] or\n",
    "                                    dtypes == [str, set])) or\n",
    "                (k == EDGE and dtypes != [str, str, dict])\n",
    "             ):\n",
    "            raise ValueError\n",
    "\n",
    "\n",
    "class Graph(object):\n",
    "    def __init__(self, data=[]):\n",
    "        self.attrs = {}\n",
    "        self.nodes = []\n",
    "        self.edges = []\n",
    "        if data:\n",
    "            validate_graph_data(data)\n",
    "            self.assign(data)\n",
    "\n",
    "    def assign(self, data):\n",
    "        for k, *d in data:\n",
    "            if k == ATTR:\n",
    "                self.attrs[d[0]] = d[1]\n",
    "            elif k == NODE:\n",
    "                self.nodes.append(Node(*d))\n",
    "            elif k == EDGE:\n",
    "                self.edges.append(Edge(*d))\n"
   ]
  },
  {
   "cell_type": "code",
   "execution_count": 50,
   "metadata": {},
   "outputs": [
    {
     "data": {
      "text/plain": [
       "3"
      ]
     },
     "execution_count": 50,
     "metadata": {},
     "output_type": "execute_result"
    }
   ],
   "source": [
    "data = [(ATTR, \"foo\", \"1\"),\n",
    "        (ATTR, \"title\", \"Testing Attrs\"),\n",
    "        (NODE, \"a\", {\"color\": \"green\"}),\n",
    "        (NODE, \"c\", {}),\n",
    "        (NODE, \"b\", {\"label\", \"Beta!\"}),\n",
    "        (EDGE, \"b\", \"c\", {}),\n",
    "        (EDGE, \"a\", \"b\", {\"color\": \"blue\"}),\n",
    "        (ATTR, \"bar\", \"true\"),\n",
    "        ]\n",
    "\n",
    "min(map(len, data))"
   ]
  },
  {
   "cell_type": "code",
   "execution_count": 51,
   "metadata": {},
   "outputs": [],
   "source": [
    "g = Graph(data)"
   ]
  },
  {
   "cell_type": "code",
   "execution_count": 44,
   "metadata": {},
   "outputs": [
    {
     "data": {
      "text/plain": [
       "[<__main__.Node at 0x1079e0e10>,\n",
       " <__main__.Node at 0x1079e0eb8>,\n",
       " <__main__.Node at 0x1079e0f98>]"
      ]
     },
     "execution_count": 44,
     "metadata": {},
     "output_type": "execute_result"
    }
   ],
   "source": [
    "g.nodes"
   ]
  },
  {
   "cell_type": "code",
   "execution_count": 30,
   "metadata": {},
   "outputs": [
    {
     "data": {
      "text/plain": [
       "list"
      ]
     },
     "execution_count": 30,
     "metadata": {},
     "output_type": "execute_result"
    }
   ],
   "source": [
    "type([])"
   ]
  },
  {
   "cell_type": "code",
   "execution_count": null,
   "metadata": {},
   "outputs": [],
   "source": []
  },
  {
   "cell_type": "code",
   "execution_count": null,
   "metadata": {},
   "outputs": [],
   "source": []
  },
  {
   "cell_type": "code",
   "execution_count": null,
   "metadata": {},
   "outputs": [],
   "source": []
  },
  {
   "cell_type": "code",
   "execution_count": null,
   "metadata": {},
   "outputs": [],
   "source": []
  },
  {
   "cell_type": "code",
   "execution_count": 1,
   "metadata": {},
   "outputs": [],
   "source": [
    "# triangle"
   ]
  },
  {
   "cell_type": "code",
   "execution_count": null,
   "metadata": {},
   "outputs": [],
   "source": [
    "class TriangleError(Exception):\n",
    "    pass\n",
    "\n",
    "\n",
    "class Triangle(object):\n",
    "    def __init__(self, side_a, side_b, side_c):\n",
    "        self.validate(side_a, side_b, side_c)\n",
    "        self._a = side_a\n",
    "        self._b = side_b\n",
    "        self._c = side_c\n",
    "    \n",
    "    @staticmethod\n",
    "    def validate(a, b, c):\n",
    "        if min(a, b, c) <= 0 or max(a, b, c) >= sum([a, b, c]) - max(a, b, c):\n",
    "            raise TriangleError\n",
    "\n",
    "    def kind(self):\n",
    "        uniq_to_kind = {1: 'equilateral', 2: 'isosceles', 3: 'scalene'}\n",
    "        return uniq_to_kind[len({self._a, self._b, self._c})]\n",
    " "
   ]
  },
  {
   "cell_type": "code",
   "execution_count": 22,
   "metadata": {},
   "outputs": [
    {
     "data": {
      "text/plain": [
       "'scalene'"
      ]
     },
     "execution_count": 22,
     "metadata": {},
     "output_type": "execute_result"
    }
   ],
   "source": [
    "t = Triangle(3, 4, 5)\n",
    "t.kind()"
   ]
  },
  {
   "cell_type": "code",
   "execution_count": null,
   "metadata": {},
   "outputs": [],
   "source": []
  },
  {
   "cell_type": "code",
   "execution_count": null,
   "metadata": {},
   "outputs": [],
   "source": []
  },
  {
   "cell_type": "code",
   "execution_count": 15,
   "metadata": {},
   "outputs": [],
   "source": [
    "# house"
   ]
  },
  {
   "cell_type": "code",
   "execution_count": 104,
   "metadata": {},
   "outputs": [],
   "source": [
    "def verse(vn):\n",
    "    lines = (('the house that Jack built.', ''),\n",
    "             ('the malt', 'lay in'),\n",
    "             ('the rat', 'ate'),\n",
    "             ('the cat', 'killed'),\n",
    "             ('the dog', 'worried'),\n",
    "             ('the cow with the crumpled horn', 'tossed'),\n",
    "             ('the maiden all forlorn', 'milked'),\n",
    "             ('the man all tattered and torn', 'kissed'),\n",
    "             ('the priest all shaven and shorn', 'married'),\n",
    "             ('the rooster that crowed in the morn', 'woke'),\n",
    "             ('the farmer sowing his corn', 'kept'),\n",
    "             ('the horse and the hound and the horn', 'belonged to'))\n",
    "    verse = 'This is '\n",
    "    for n in range(vn, -1 , -1):\n",
    "        noun, verb = lines[n]\n",
    "        verse += noun\n",
    "        verse += f'\\nthat {verb} ' if verb else '\\n'\n",
    "    return verse.strip()\n",
    "\n",
    "\n",
    "def rhyme():\n",
    "    return '\\n\\n'.join([verse(n) for n in range(12)])"
   ]
  },
  {
   "cell_type": "code",
   "execution_count": 105,
   "metadata": {},
   "outputs": [
    {
     "name": "stdout",
     "output_type": "stream",
     "text": [
      "This is the rat\n",
      "that ate the malt\n",
      "that lay in the house that Jack built.\n"
     ]
    }
   ],
   "source": [
    "print(verse(2))"
   ]
  },
  {
   "cell_type": "code",
   "execution_count": 106,
   "metadata": {
    "scrolled": false
   },
   "outputs": [
    {
     "name": "stdout",
     "output_type": "stream",
     "text": [
      "This is the house that Jack built.\n",
      "\n",
      "This is the malt\n",
      "that lay in the house that Jack built.\n",
      "\n",
      "This is the rat\n",
      "that ate the malt\n",
      "that lay in the house that Jack built.\n",
      "\n",
      "This is the cat\n",
      "that killed the rat\n",
      "that ate the malt\n",
      "that lay in the house that Jack built.\n",
      "\n",
      "This is the dog\n",
      "that worried the cat\n",
      "that killed the rat\n",
      "that ate the malt\n",
      "that lay in the house that Jack built.\n",
      "\n",
      "This is the cow with the crumpled horn\n",
      "that tossed the dog\n",
      "that worried the cat\n",
      "that killed the rat\n",
      "that ate the malt\n",
      "that lay in the house that Jack built.\n",
      "\n",
      "This is the maiden all forlorn\n",
      "that milked the cow with the crumpled horn\n",
      "that tossed the dog\n",
      "that worried the cat\n",
      "that killed the rat\n",
      "that ate the malt\n",
      "that lay in the house that Jack built.\n",
      "\n",
      "This is the man all tattered and torn\n",
      "that kissed the maiden all forlorn\n",
      "that milked the cow with the crumpled horn\n",
      "that tossed the dog\n",
      "that worried the cat\n",
      "that killed the rat\n",
      "that ate the malt\n",
      "that lay in the house that Jack built.\n",
      "\n",
      "This is the priest all shaven and shorn\n",
      "that married the man all tattered and torn\n",
      "that kissed the maiden all forlorn\n",
      "that milked the cow with the crumpled horn\n",
      "that tossed the dog\n",
      "that worried the cat\n",
      "that killed the rat\n",
      "that ate the malt\n",
      "that lay in the house that Jack built.\n",
      "\n",
      "This is the rooster that crowed in the morn\n",
      "that woke the priest all shaven and shorn\n",
      "that married the man all tattered and torn\n",
      "that kissed the maiden all forlorn\n",
      "that milked the cow with the crumpled horn\n",
      "that tossed the dog\n",
      "that worried the cat\n",
      "that killed the rat\n",
      "that ate the malt\n",
      "that lay in the house that Jack built.\n",
      "\n",
      "This is the farmer sowing his corn\n",
      "that kept the rooster that crowed in the morn\n",
      "that woke the priest all shaven and shorn\n",
      "that married the man all tattered and torn\n",
      "that kissed the maiden all forlorn\n",
      "that milked the cow with the crumpled horn\n",
      "that tossed the dog\n",
      "that worried the cat\n",
      "that killed the rat\n",
      "that ate the malt\n",
      "that lay in the house that Jack built.\n",
      "\n",
      "This is the horse and the hound and the horn\n",
      "that belonged to the farmer sowing his corn\n",
      "that kept the rooster that crowed in the morn\n",
      "that woke the priest all shaven and shorn\n",
      "that married the man all tattered and torn\n",
      "that kissed the maiden all forlorn\n",
      "that milked the cow with the crumpled horn\n",
      "that tossed the dog\n",
      "that worried the cat\n",
      "that killed the rat\n",
      "that ate the malt\n",
      "that lay in the house that Jack built.\n"
     ]
    }
   ],
   "source": [
    "print(rhyme())"
   ]
  },
  {
   "cell_type": "code",
   "execution_count": null,
   "metadata": {},
   "outputs": [],
   "source": []
  },
  {
   "cell_type": "code",
   "execution_count": null,
   "metadata": {},
   "outputs": [],
   "source": []
  },
  {
   "cell_type": "code",
   "execution_count": null,
   "metadata": {},
   "outputs": [],
   "source": [
    "# ocr_numbers"
   ]
  },
  {
   "cell_type": "code",
   "execution_count": 8,
   "metadata": {},
   "outputs": [],
   "source": [
    "num_grid = [\"    _  _ \",\n",
    "            \"  | _| _|\",\n",
    "            \"  ||_  _|\",\n",
    "            \"         \",\n",
    "            \"    _  _ \",\n",
    "            \"|_||_ |_ \",\n",
    "            \"  | _||_|\",\n",
    "            \"         \",\n",
    "            \" _  _  _ \",\n",
    "            \"  ||_||_|\",\n",
    "            \"  ||_| _|\",\n",
    "            \"         \",\n",
    "            ]"
   ]
  },
  {
   "cell_type": "code",
   "execution_count": 93,
   "metadata": {},
   "outputs": [],
   "source": [
    "num_grid = [\n",
    "            \"       _     _        _  _ \",\n",
    "            \"  |  || |  || |  |  || || |\",\n",
    "            \"  |  ||_|  ||_|  |  ||_||_|\",\n",
    "            \"                           \"\n",
    "        ]"
   ]
  },
  {
   "cell_type": "code",
   "execution_count": 12,
   "metadata": {},
   "outputs": [],
   "source": [
    "def convert(input_grid):\n",
    "    line_lens_vary = len(set(map(len, input_grid))) != 1\n",
    "    if line_lens_vary or len(input_grid) % 4 != 0 or len(input_grid[0]) % 3 != 0:\n",
    "        raise ValueError\n",
    "    segs_to_digit = {(' _ ', '| |', '|_|', '   '): '0',\n",
    "                     ('   ', '  |', '  |', '   '): '1',\n",
    "                     (' _ ', ' _|', '|_ ', '   '): '2',\n",
    "                     (' _ ', ' _|', ' _|', '   '): '3',\n",
    "                     ('   ', '|_|', '  |', '   '): '4',\n",
    "                     (' _ ', '|_ ', ' _|', '   '): '5',\n",
    "                     (' _ ', '|_ ', '|_|', '   '): '6',\n",
    "                     (' _ ', '  |', '  |', '   '): '7',\n",
    "                     (' _ ', '|_|', '|_|', '   '): '8',\n",
    "                     (' _ ', '|_|', ' _|', '   '): '9'}\n",
    "    row_ct = len(input_grid)//4\n",
    "    out = []\n",
    "    for drn in range(row_ct):\n",
    "        dig_row = input_grid[drn*4:drn*4+4]\n",
    "        row_digits_ct = len(dig_row[0])//3\n",
    "        row = ''\n",
    "        for rdn in range(row_digits_ct):\n",
    "            digit = [line[rdn*3:rdn*3+3] for line in dig_row]\n",
    "            row += segs_to_digit.get(tuple(digit), '?')\n",
    "        out.append(row)\n",
    "    return ','.join(out)"
   ]
  },
  {
   "cell_type": "code",
   "execution_count": 13,
   "metadata": {},
   "outputs": [
    {
     "data": {
      "text/plain": [
       "'123,456,789'"
      ]
     },
     "execution_count": 13,
     "metadata": {},
     "output_type": "execute_result"
    }
   ],
   "source": [
    "convert(num_grid)"
   ]
  },
  {
   "cell_type": "code",
   "execution_count": null,
   "metadata": {},
   "outputs": [],
   "source": []
  },
  {
   "cell_type": "code",
   "execution_count": null,
   "metadata": {},
   "outputs": [],
   "source": []
  },
  {
   "cell_type": "code",
   "execution_count": null,
   "metadata": {},
   "outputs": [],
   "source": [
    "# phone_number"
   ]
  },
  {
   "cell_type": "code",
   "execution_count": 9,
   "metadata": {},
   "outputs": [
    {
     "data": {
      "text/plain": [
       "(<__main__.Phone at 0x10ce4e080>, '223', '(223) 456-7890')"
      ]
     },
     "execution_count": 9,
     "metadata": {},
     "output_type": "execute_result"
    }
   ],
   "source": [
    "class Phone(object):\n",
    "    def __init__(self, phone_number):\n",
    "        self._raw = phone_number\n",
    "        ph = ''.join(ch for ch in phone_number if ch.isdigit())\n",
    "        ph = ph[1:] if len(ph)==11 and ph[0] == '1' else ph\n",
    "        if len(ph) != 10 or int(ph[0])<2 or int(ph[3])<2:\n",
    "            raise ValueError\n",
    "        self.number = ph\n",
    "    \n",
    "    @property\n",
    "    def area_code(self):\n",
    "        return self.number[:3]\n",
    "    \n",
    "    def pretty(self):\n",
    "        ph = self.number\n",
    "        return f'({ph[:3]}) {ph[3:6]}-{ph[6:]}'\n",
    "\n",
    "ph = Phone('2234567890')\n",
    "ph, ph.area_code, ph.pretty()"
   ]
  },
  {
   "cell_type": "code",
   "execution_count": null,
   "metadata": {},
   "outputs": [],
   "source": []
  },
  {
   "cell_type": "code",
   "execution_count": null,
   "metadata": {},
   "outputs": [],
   "source": []
  },
  {
   "cell_type": "code",
   "execution_count": 1,
   "metadata": {
    "code_folding": []
   },
   "outputs": [],
   "source": [
    "# wordy"
   ]
  },
  {
   "cell_type": "code",
   "execution_count": 72,
   "metadata": {
    "code_folding": []
   },
   "outputs": [],
   "source": [
    "def split_on_digit(q):\n",
    "    f = 'X'\n",
    "    fa = ''\n",
    "    while f.isalpha():\n",
    "        fa = fa + ' ' + f\n",
    "        f, q = q.split(maxsplit=1)\n",
    "    return fa[3:], int(f), q\n",
    "\n",
    "def calculate(question):\n",
    "    q = question.replace('?', ' ?')\n",
    "    _, operand, rest = split_on_digit(q)\n",
    "    is_continuing = True\n",
    "    while is_continuing:\n",
    "        operator, operand_2, rest = split_on_digit(rest)\n",
    "        ops_dict = {'plus': operand + operand_2,\n",
    "                   'minus': operand - operand_2,\n",
    "                   'multiplied by': operand * operand_2,\n",
    "                   'divided by': operand / operand_2}\n",
    "        operand = ops_dict.get(operator, 'ERROR')\n",
    "        if operand == 'ERROR':\n",
    "            raise ValueError\n",
    "        if rest == '?':\n",
    "            is_continuing = False\n",
    "    return operand"
   ]
  },
  {
   "cell_type": "code",
   "execution_count": 73,
   "metadata": {
    "code_folding": []
   },
   "outputs": [
    {
     "data": {
      "text/plain": [
       "-77.0"
      ]
     },
     "execution_count": 73,
     "metadata": {},
     "output_type": "execute_result"
    }
   ],
   "source": [
    "question = \"What is -333 divided by 3 plus 1 minus -33?\"\n",
    "calculate(question)"
   ]
  },
  {
   "cell_type": "code",
   "execution_count": null,
   "metadata": {},
   "outputs": [],
   "source": []
  },
  {
   "cell_type": "code",
   "execution_count": null,
   "metadata": {},
   "outputs": [],
   "source": []
  },
  {
   "cell_type": "code",
   "execution_count": null,
   "metadata": {},
   "outputs": [],
   "source": [
    "# queen attack"
   ]
  },
  {
   "cell_type": "code",
   "execution_count": null,
   "metadata": {},
   "outputs": [],
   "source": [
    "def board(white_position, black_position):\n",
    "    board = [['_']*8]*8\n",
    "    for (r, c), ch in zip((white_position, black_position), ('W', 'B')):\n",
    "        if min(r, c) < 0 or max(r, c) > 7 or white_position==black_position:\n",
    "            raise ValueError\n",
    "        rm = board[r][:]\n",
    "        rm[c] = ch\n",
    "        board[r] = rm\n",
    "    return list(map(lambda r: ''.join(r), board))\n",
    "\n",
    "\n",
    "def can_attack(white_position, black_position):\n",
    "    wr, wc = white_position\n",
    "    br, bc = black_position\n",
    "    if min(wr, wc, br, bc) < 0 or max(wr, wc, br, bc) > 7 or (wr, wc)==(br, bc):\n",
    "        raise ValueError\n",
    "    return wr==br or wc==bc or abs(wr-br)==abs(wc-bc)"
   ]
  },
  {
   "cell_type": "code",
   "execution_count": null,
   "metadata": {},
   "outputs": [],
   "source": [
    "board((2, 3), (5, 6))"
   ]
  },
  {
   "cell_type": "code",
   "execution_count": null,
   "metadata": {},
   "outputs": [],
   "source": []
  },
  {
   "cell_type": "code",
   "execution_count": null,
   "metadata": {},
   "outputs": [],
   "source": []
  },
  {
   "cell_type": "code",
   "execution_count": null,
   "metadata": {},
   "outputs": [],
   "source": [
    "# minesweeper"
   ]
  },
  {
   "cell_type": "code",
   "execution_count": null,
   "metadata": {},
   "outputs": [],
   "source": [
    "def star_ct(r, c, inp):\n",
    "    row_ct = len(inp)\n",
    "    col_ct = len(inp[0])\n",
    "    stars = 0\n",
    "    for ri in [r-1, r, r+1]:\n",
    "        for ci in [c-1, c, c+1]:\n",
    "            if 0 <= ri < row_ct and 0 <= ci < col_ct:\n",
    "                if inp[ri][ci] == '*':\n",
    "                    stars += 1\n",
    "    return str(stars) if stars else ' '\n",
    "\n",
    "def board(input_board_array):\n",
    "    if len(set(map(len, input_board_array))) > 1:\n",
    "        raise ValueError('rows are not of equal length')\n",
    "    out = []\n",
    "    for r, row in enumerate(input_board_array):\n",
    "        out_row = []\n",
    "        for c, val in enumerate(row):\n",
    "            if val == ' ':\n",
    "                out_row.append(star_ct(r, c, input_board_array))\n",
    "            elif val == '*':\n",
    "                out_row.append('*')\n",
    "            else:\n",
    "                raise ValueError('invalid char encountered')\n",
    "        out.append(''.join(out_row))\n",
    "    return out"
   ]
  },
  {
   "cell_type": "code",
   "execution_count": null,
   "metadata": {},
   "outputs": [],
   "source": [
    "inp = [\"***\", \"* *\", \"***\"]\n",
    "board(inp)"
   ]
  },
  {
   "cell_type": "code",
   "execution_count": null,
   "metadata": {},
   "outputs": [],
   "source": [
    "inp = [\" * * \"]\n",
    "board(inp)"
   ]
  },
  {
   "cell_type": "code",
   "execution_count": null,
   "metadata": {},
   "outputs": [],
   "source": [
    "inp = [\" \",\n",
    "       \"*\",\n",
    "       \" \",\n",
    "       \"*\",\n",
    "       \" \"]\n",
    "board(inp)"
   ]
  },
  {
   "cell_type": "code",
   "execution_count": null,
   "metadata": {},
   "outputs": [],
   "source": [
    "inp = [\"*\",\n",
    "       \" \",\n",
    "       \"  \",\n",
    "       \" \",\n",
    "       \"*\"]\n",
    "board(inp)"
   ]
  },
  {
   "cell_type": "code",
   "execution_count": null,
   "metadata": {},
   "outputs": [],
   "source": [
    "len(set(map(len, inp))) > 1"
   ]
  },
  {
   "cell_type": "code",
   "execution_count": null,
   "metadata": {},
   "outputs": [],
   "source": []
  },
  {
   "cell_type": "code",
   "execution_count": null,
   "metadata": {},
   "outputs": [],
   "source": []
  },
  {
   "cell_type": "code",
   "execution_count": null,
   "metadata": {},
   "outputs": [],
   "source": [
    "# check_brackets"
   ]
  },
  {
   "cell_type": "code",
   "execution_count": null,
   "metadata": {},
   "outputs": [],
   "source": [
    "def check_brackets(input_string):\n",
    "    br_opening = '{[('\n",
    "    br_closing = '}])'\n",
    "    br_closes = dict(zip(br_closing, br_opening))\n",
    "    br_stack = []\n",
    "    for ch in input_string:\n",
    "        if ch in br_opening:\n",
    "            br_stack.append(ch)\n",
    "        if ch in br_closing:\n",
    "            if br_stack and br_closes[ch] == br_stack[-1]:\n",
    "                br_stack.pop()\n",
    "            else:\n",
    "                return False\n",
    "    return br_stack == []\n",
    "        \n",
    "\n",
    "\n",
    "check_brackets(\"[({]})\"), check_brackets(\"([{}({}[])])\")"
   ]
  },
  {
   "cell_type": "code",
   "execution_count": null,
   "metadata": {},
   "outputs": [],
   "source": []
  },
  {
   "cell_type": "code",
   "execution_count": null,
   "metadata": {},
   "outputs": [],
   "source": []
  }
 ],
 "metadata": {
  "kernelspec": {
   "display_name": "Python 3",
   "language": "python",
   "name": "python3"
  },
  "language_info": {
   "codemirror_mode": {
    "name": "ipython",
    "version": 3
   },
   "file_extension": ".py",
   "mimetype": "text/x-python",
   "name": "python",
   "nbconvert_exporter": "python",
   "pygments_lexer": "ipython3",
   "version": "3.6.3"
  }
 },
 "nbformat": 4,
 "nbformat_minor": 2
}
