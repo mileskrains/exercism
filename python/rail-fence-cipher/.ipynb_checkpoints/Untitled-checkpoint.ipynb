{
 "cells": [
  {
   "cell_type": "code",
   "execution_count": 13,
   "metadata": {},
   "outputs": [],
   "source": [
    "from itertools import chain, cycle\n",
    "from collections import defaultdict\n",
    "\n",
    "\n",
    "def fence_pattern(rails, message_size):\n",
    "    rail_cycler = cycle(chain(range(1, rails+1), range(rails-1, 1, -1)))\n",
    "    codedict = defaultdict(list)\n",
    "    for k,v in zip(rail_cycler, range(message_size)):\n",
    "        codedict[k].append(v)\n",
    "    return list(chain(*codedict.values()))\n",
    "\n",
    "\n",
    "def encode(rails, message):\n",
    "    fp = fence_pattern(rails, len(message))\n",
    "    return ''.join([message[i] for i in fp])\n",
    "\n",
    "\n",
    "def decode(rails, encoded_message):\n",
    "    fp = fence_pattern(rails, len(encoded_message))\n",
    "    message = [None] * len(encoded_message)\n",
    "    for i,c in zip(fp, encoded_message):\n",
    "        message[i] = c\n",
    "    return ''.join(message)"
   ]
  },
  {
   "cell_type": "code",
   "execution_count": 6,
   "metadata": {},
   "outputs": [
    {
     "data": {
      "text/plain": [
       "'wecrlteerdsoeefeaocaivden'"
      ]
     },
     "execution_count": 6,
     "metadata": {},
     "output_type": "execute_result"
    }
   ],
   "source": [
    "message = 'wearediscoveredfleeatonce'\n",
    "rails = 3\n",
    "\n",
    "rail_cycler = cycle(chain(range(1, rails+1), range(rails-1, 1, -1)))\n",
    "codedict = defaultdict(list)\n",
    "for k,v in zip(rail_cycler, range(len(message))):\n",
    "    codedict[k].append(v)\n",
    "return ''.join([message[i] for i in chain(*codedict.values())])\n",
    "encoded_message"
   ]
  },
  {
   "cell_type": "code",
   "execution_count": 7,
   "metadata": {},
   "outputs": [
    {
     "data": {
      "text/plain": [
       "'wearediscoveredfleeatonce'"
      ]
     },
     "execution_count": 7,
     "metadata": {},
     "output_type": "execute_result"
    }
   ],
   "source": [
    "message = [None] * len(encoded_message)\n",
    "for i,c in zip(chain(*codedict.values()), encoded_message):\n",
    "    message[i] = c\n",
    "return ''.join(message)"
   ]
  },
  {
   "cell_type": "code",
   "execution_count": null,
   "metadata": {},
   "outputs": [],
   "source": []
  },
  {
   "cell_type": "code",
   "execution_count": 12,
   "metadata": {},
   "outputs": [
    {
     "data": {
      "text/plain": [
       "'wearediscoveredfleeatonce'"
      ]
     },
     "execution_count": 12,
     "metadata": {},
     "output_type": "execute_result"
    }
   ],
   "source": [
    "message = 'wearediscoveredfleeatonce'\n",
    "rails = 3\n",
    "\n",
    "encoded_message = encode(rails, message)\n",
    "decoded_message = decode(rails, encoded_message)\n",
    "decoded_message"
   ]
  },
  {
   "cell_type": "code",
   "execution_count": null,
   "metadata": {},
   "outputs": [],
   "source": []
  },
  {
   "cell_type": "code",
   "execution_count": null,
   "metadata": {},
   "outputs": [],
   "source": []
  },
  {
   "cell_type": "code",
   "execution_count": null,
   "metadata": {},
   "outputs": [],
   "source": []
  },
  {
   "cell_type": "code",
   "execution_count": null,
   "metadata": {},
   "outputs": [],
   "source": []
  },
  {
   "cell_type": "code",
   "execution_count": null,
   "metadata": {},
   "outputs": [],
   "source": []
  },
  {
   "cell_type": "code",
   "execution_count": null,
   "metadata": {},
   "outputs": [],
   "source": []
  },
  {
   "cell_type": "code",
   "execution_count": null,
   "metadata": {},
   "outputs": [],
   "source": []
  },
  {
   "cell_type": "code",
   "execution_count": null,
   "metadata": {},
   "outputs": [],
   "source": []
  },
  {
   "cell_type": "code",
   "execution_count": null,
   "metadata": {},
   "outputs": [],
   "source": []
  },
  {
   "cell_type": "code",
   "execution_count": null,
   "metadata": {},
   "outputs": [],
   "source": []
  },
  {
   "cell_type": "code",
   "execution_count": null,
   "metadata": {},
   "outputs": [],
   "source": []
  }
 ],
 "metadata": {
  "kernelspec": {
   "display_name": "Python 3",
   "language": "python",
   "name": "python3"
  },
  "language_info": {
   "codemirror_mode": {
    "name": "ipython",
    "version": 3
   },
   "file_extension": ".py",
   "mimetype": "text/x-python",
   "name": "python",
   "nbconvert_exporter": "python",
   "pygments_lexer": "ipython3",
   "version": "3.6.3"
  }
 },
 "nbformat": 4,
 "nbformat_minor": 2
}
