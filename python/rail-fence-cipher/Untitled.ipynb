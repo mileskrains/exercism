{
 "cells": [
  {
   "cell_type": "code",
   "execution_count": 3,
   "metadata": {},
   "outputs": [],
   "source": [
    "from itertools import chain, cycle\n",
    "from collections import defaultdict\n",
    "\n",
    "\n",
    "def fence_pattern(message_size, rails):\n",
    "    rail_cycler = cycle(chain(range(1, rails+1), range(rails-1, 1, -1)))\n",
    "    codedict = defaultdict(list)\n",
    "    for k,v in zip(rail_cycler, range(message_size)):\n",
    "        codedict[k].append(v)\n",
    "    return list(chain(*codedict.values()))\n",
    "\n",
    "\n",
    "def encode(message, rails):\n",
    "    fp = fence_pattern(len(message), rails)\n",
    "    return ''.join([message[i] for i in fp])\n",
    "\n",
    "\n",
    "def decode(encoded_message, rails):\n",
    "    fp = fence_pattern(len(encoded_message), rails)\n",
    "    message = [None] * len(encoded_message)\n",
    "    for i,c in zip(fp, encoded_message):\n",
    "        message[i] = c\n",
    "    return ''.join(message)"
   ]
  },
  {
   "cell_type": "code",
   "execution_count": 4,
   "metadata": {},
   "outputs": [
    {
     "data": {
      "text/plain": [
       "'wearediscoveredfleeatonce'"
      ]
     },
     "execution_count": 4,
     "metadata": {},
     "output_type": "execute_result"
    }
   ],
   "source": [
    "message = 'wearediscoveredfleeatonce'\n",
    "rails = 3\n",
    "\n",
    "encoded_message = encode(message, rails)\n",
    "decoded_message = decode(encoded_message, rails)\n",
    "decoded_message"
   ]
  },
  {
   "cell_type": "code",
   "execution_count": null,
   "metadata": {},
   "outputs": [],
   "source": []
  },
  {
   "cell_type": "code",
   "execution_count": null,
   "metadata": {},
   "outputs": [],
   "source": []
  },
  {
   "cell_type": "code",
   "execution_count": null,
   "metadata": {},
   "outputs": [],
   "source": []
  },
  {
   "cell_type": "code",
   "execution_count": null,
   "metadata": {},
   "outputs": [],
   "source": []
  },
  {
   "cell_type": "code",
   "execution_count": null,
   "metadata": {},
   "outputs": [],
   "source": []
  },
  {
   "cell_type": "code",
   "execution_count": null,
   "metadata": {},
   "outputs": [],
   "source": []
  },
  {
   "cell_type": "code",
   "execution_count": null,
   "metadata": {},
   "outputs": [],
   "source": []
  },
  {
   "cell_type": "code",
   "execution_count": null,
   "metadata": {},
   "outputs": [],
   "source": []
  },
  {
   "cell_type": "code",
   "execution_count": null,
   "metadata": {},
   "outputs": [],
   "source": []
  },
  {
   "cell_type": "code",
   "execution_count": null,
   "metadata": {},
   "outputs": [],
   "source": []
  },
  {
   "cell_type": "code",
   "execution_count": null,
   "metadata": {},
   "outputs": [],
   "source": []
  }
 ],
 "metadata": {
  "kernelspec": {
   "display_name": "Python 3",
   "language": "python",
   "name": "python3"
  },
  "language_info": {
   "codemirror_mode": {
    "name": "ipython",
    "version": 3
   },
   "file_extension": ".py",
   "mimetype": "text/x-python",
   "name": "python",
   "nbconvert_exporter": "python",
   "pygments_lexer": "ipython3",
   "version": "3.6.3"
  }
 },
 "nbformat": 4,
 "nbformat_minor": 2
}
