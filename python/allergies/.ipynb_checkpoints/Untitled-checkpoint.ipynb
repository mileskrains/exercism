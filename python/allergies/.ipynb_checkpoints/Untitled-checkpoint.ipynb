{
 "cells": [
  {
   "cell_type": "code",
   "execution_count": 16,
   "metadata": {},
   "outputs": [],
   "source": [
    "class Allergies():\n",
    "    \n",
    "    allergen_scores = (128, 64, 32, 16, 8, 4, 2, 1)\n",
    "    allergen_names = 'cats pollen chocolate tomatoes strawberries shellfish peanuts eggs'.split()\n",
    "    score_to_allergen = dict(zip(allergen_scores, allergen_names))\n",
    "\n",
    "    def __init__(self, score):\n",
    "        self._score = score % 256\n",
    "        self._allergen_scores = []\n",
    "        for alsc in self.allergen_scores:\n",
    "            if self._score >= alsc:\n",
    "                self._allergen_scores.append(alsc)\n",
    "                self._score -= alsc\n",
    "        self._allergens = [self.score_to_allergen[score] for score in self._allergen_scores]\n",
    "\n",
    "    def is_allergic_to(self, item):\n",
    "        return item in self._allergens\n",
    "\n",
    "    @property\n",
    "    def lst(self):\n",
    "        return self._allergens\n"
   ]
  },
  {
   "cell_type": "code",
   "execution_count": 17,
   "metadata": {},
   "outputs": [
    {
     "data": {
      "text/plain": [
       "['cats',\n",
       " 'pollen',\n",
       " 'chocolate',\n",
       " 'tomatoes',\n",
       " 'strawberries',\n",
       " 'shellfish',\n",
       " 'peanuts',\n",
       " 'eggs']"
      ]
     },
     "execution_count": 17,
     "metadata": {},
     "output_type": "execute_result"
    }
   ],
   "source": [
    "test = Allergies(255)\n",
    "\n",
    "test.lst"
   ]
  },
  {
   "cell_type": "code",
   "execution_count": null,
   "metadata": {},
   "outputs": [],
   "source": []
  },
  {
   "cell_type": "code",
   "execution_count": null,
   "metadata": {},
   "outputs": [],
   "source": []
  },
  {
   "cell_type": "code",
   "execution_count": null,
   "metadata": {},
   "outputs": [],
   "source": []
  },
  {
   "cell_type": "code",
   "execution_count": null,
   "metadata": {},
   "outputs": [],
   "source": []
  },
  {
   "cell_type": "code",
   "execution_count": null,
   "metadata": {},
   "outputs": [],
   "source": []
  },
  {
   "cell_type": "code",
   "execution_count": null,
   "metadata": {},
   "outputs": [],
   "source": []
  },
  {
   "cell_type": "code",
   "execution_count": null,
   "metadata": {},
   "outputs": [],
   "source": []
  }
 ],
 "metadata": {
  "kernelspec": {
   "display_name": "Python 3",
   "language": "python",
   "name": "python3"
  },
  "language_info": {
   "codemirror_mode": {
    "name": "ipython",
    "version": 3
   },
   "file_extension": ".py",
   "mimetype": "text/x-python",
   "name": "python",
   "nbconvert_exporter": "python",
   "pygments_lexer": "ipython3",
   "version": "3.6.3"
  }
 },
 "nbformat": 4,
 "nbformat_minor": 2
}
