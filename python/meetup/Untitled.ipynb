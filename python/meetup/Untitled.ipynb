{
 "cells": [
  {
   "cell_type": "markdown",
   "metadata": {},
   "source": [
    "ideas:\n",
    "\n",
    "- per test/readme, no parsing necessary. 4 arguments are: year, month, 'day', descriptor\n",
    "- day will be proper weekday name\n",
    "- descriptor will be 'nth' or '-teenth'\n",
    "\n",
    "the month calendar can be obtained from the given year and month, and then a dictionary generated which pulls the given day of the week from the calendar, and generates a lookup based on the descriptor, with duplicate values for the 'teenth' key"
   ]
  },
  {
   "cell_type": "code",
   "execution_count": 1,
   "metadata": {},
   "outputs": [],
   "source": [
    "import datetime"
   ]
  },
  {
   "cell_type": "code",
   "execution_count": 34,
   "metadata": {},
   "outputs": [],
   "source": [
    "def meetup_day(gyear, gmonth, gdow, gdesc):\n",
    "    gmonth_firstdow = datetime.datetime(gyear, gmonth, 1).weekday()\n",
    "    weekdays = 'Monday Tuesday Wednesday Thursday Friday Saturday Sunday'.split()\n",
    "\n",
    "    gdow_firstdate = (weekdays.index(gdow) - gmonth_firstdow + 7) % 7\n",
    "    gdow_dates = list(range(1,32)[gdow_firstdate::7])\n",
    "\n",
    "    try:\n",
    "        datetime.datetime(gyear, gmonth, gdow_dates[-1])\n",
    "    except ValueError:\n",
    "        del gdow_dates[-1]\n",
    "\n",
    "    date_from_desc = dict(zip('1st 2nd 3rd 4th 5th'.split(), gdow_dates))\n",
    "    date_from_desc['last'] = gdow_dates[-1]\n",
    "    date_from_desc['teenth'] = [d for d in gdow_dates if 12<d<20][0]\n",
    "\n",
    "    return datetime.date(gyear, gmonth, date_from_desc[gdesc])"
   ]
  },
  {
   "cell_type": "code",
   "execution_count": 35,
   "metadata": {},
   "outputs": [
    {
     "data": {
      "text/plain": [
       "datetime.date(2017, 4, 19)"
      ]
     },
     "execution_count": 35,
     "metadata": {},
     "output_type": "execute_result"
    }
   ],
   "source": [
    "gyear = 2017\n",
    "gmonth = 4\n",
    "gdow = 'Wednesday'\n",
    "gdesc = 'teenth'\n",
    "\n",
    "meetup_day(gyear, gmonth, gdow, gdesc)"
   ]
  },
  {
   "cell_type": "code",
   "execution_count": null,
   "metadata": {},
   "outputs": [],
   "source": []
  },
  {
   "cell_type": "code",
   "execution_count": null,
   "metadata": {},
   "outputs": [],
   "source": []
  },
  {
   "cell_type": "code",
   "execution_count": null,
   "metadata": {},
   "outputs": [],
   "source": []
  },
  {
   "cell_type": "code",
   "execution_count": null,
   "metadata": {},
   "outputs": [],
   "source": []
  },
  {
   "cell_type": "code",
   "execution_count": null,
   "metadata": {},
   "outputs": [],
   "source": []
  }
 ],
 "metadata": {
  "kernelspec": {
   "display_name": "Python 3",
   "language": "python",
   "name": "python3"
  },
  "language_info": {
   "codemirror_mode": {
    "name": "ipython",
    "version": 3
   },
   "file_extension": ".py",
   "mimetype": "text/x-python",
   "name": "python",
   "nbconvert_exporter": "python",
   "pygments_lexer": "ipython3",
   "version": "3.6.3"
  }
 },
 "nbformat": 4,
 "nbformat_minor": 2
}
