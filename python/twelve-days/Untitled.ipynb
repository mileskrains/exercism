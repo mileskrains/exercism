{
 "cells": [
  {
   "cell_type": "code",
   "execution_count": 31,
   "metadata": {},
   "outputs": [],
   "source": [
    "def verse(day_number):\n",
    "    days = ('twelfth eleventh tenth ninth eighth seventh '\n",
    "            'sixth fifth fourth third second first').split()\n",
    "    gifts = ['twelve Drummers Drumming, ',\n",
    "             'eleven Pipers Piping, ',\n",
    "             'ten Lords-a-Leaping, ',\n",
    "             'nine Ladies Dancing, ',\n",
    "             'eight Maids-a-Milking, ',\n",
    "             'seven Swans-a-Swimming, ',\n",
    "             'six Geese-a-Laying, ',\n",
    "             'five Gold Rings, ',\n",
    "             'four Calling Birds, ',\n",
    "             'three French Hens, ',\n",
    "             'two Turtle Doves, ',\n",
    "             'and a Partridge in a Pear Tree.\\n']\n",
    "    on_text = 'On the {} day of Christmas my true love gave to me, '.format(days[-day_number])\n",
    "    gifts_text =  ''.join(gifts[-day_number:])\n",
    "    if day_number == 1:\n",
    "        gifts_text = gifts_text.replace('and ', '')\n",
    "    return on_text + gifts_text\n",
    "\n",
    "\n",
    "def verses(start, end):\n",
    "    return '\\n'.join([verse(n) for n in range(start, end + 1)]) + '\\n'\n",
    "\n",
    "\n",
    "def sing():\n",
    "    return verses(1, 12)\n"
   ]
  },
  {
   "cell_type": "code",
   "execution_count": 32,
   "metadata": {},
   "outputs": [
    {
     "data": {
      "text/plain": [
       "'On the third day of Christmas my true love gave to me, three French Hens, two Turtle Doves, and a Partidge in a Pear Tree.\\n'"
      ]
     },
     "execution_count": 32,
     "metadata": {},
     "output_type": "execute_result"
    }
   ],
   "source": [
    "verse(3)"
   ]
  },
  {
   "cell_type": "code",
   "execution_count": 33,
   "metadata": {},
   "outputs": [
    {
     "name": "stdout",
     "output_type": "stream",
     "text": [
      "On the first day of Christmas my true love gave to me, a Partidge in a Pear Tree.\n",
      "\n",
      "On the second day of Christmas my true love gave to me, two Turtle Doves, and a Partidge in a Pear Tree.\n",
      "\n",
      "On the third day of Christmas my true love gave to me, three French Hens, two Turtle Doves, and a Partidge in a Pear Tree.\n",
      "\n",
      "\n"
     ]
    }
   ],
   "source": [
    "print(verses(1, 3))"
   ]
  },
  {
   "cell_type": "code",
   "execution_count": 34,
   "metadata": {},
   "outputs": [
    {
     "data": {
      "text/plain": [
       "False"
      ]
     },
     "execution_count": 34,
     "metadata": {},
     "output_type": "execute_result"
    }
   ],
   "source": [
    "expected = (\"On the first day of Christmas my true love gave to me, \"\n",
    "                    \"a Partridge in a Pear Tree.\\n\")\n",
    "verse(1) == expected"
   ]
  },
  {
   "cell_type": "code",
   "execution_count": 35,
   "metadata": {},
   "outputs": [
    {
     "name": "stdout",
     "output_type": "stream",
     "text": [
      "On the first day of Christmas my true love gave to me, a Partridge in a Pear Tree.\n",
      "\n",
      "On the first day of Christmas my true love gave to me, a Partidge in a Pear Tree.\n",
      "\n"
     ]
    }
   ],
   "source": [
    "print(expected)\n",
    "print(verse(1))"
   ]
  },
  {
   "cell_type": "code",
   "execution_count": null,
   "metadata": {},
   "outputs": [],
   "source": []
  },
  {
   "cell_type": "code",
   "execution_count": null,
   "metadata": {},
   "outputs": [],
   "source": []
  },
  {
   "cell_type": "code",
   "execution_count": null,
   "metadata": {},
   "outputs": [],
   "source": []
  },
  {
   "cell_type": "code",
   "execution_count": null,
   "metadata": {},
   "outputs": [],
   "source": []
  },
  {
   "cell_type": "code",
   "execution_count": null,
   "metadata": {},
   "outputs": [],
   "source": []
  },
  {
   "cell_type": "code",
   "execution_count": null,
   "metadata": {},
   "outputs": [],
   "source": []
  },
  {
   "cell_type": "code",
   "execution_count": null,
   "metadata": {},
   "outputs": [],
   "source": []
  },
  {
   "cell_type": "code",
   "execution_count": null,
   "metadata": {},
   "outputs": [],
   "source": []
  },
  {
   "cell_type": "code",
   "execution_count": null,
   "metadata": {},
   "outputs": [],
   "source": []
  },
  {
   "cell_type": "code",
   "execution_count": null,
   "metadata": {},
   "outputs": [],
   "source": []
  },
  {
   "cell_type": "code",
   "execution_count": null,
   "metadata": {},
   "outputs": [],
   "source": []
  },
  {
   "cell_type": "code",
   "execution_count": null,
   "metadata": {},
   "outputs": [],
   "source": []
  },
  {
   "cell_type": "code",
   "execution_count": null,
   "metadata": {},
   "outputs": [],
   "source": []
  },
  {
   "cell_type": "code",
   "execution_count": null,
   "metadata": {},
   "outputs": [],
   "source": []
  },
  {
   "cell_type": "code",
   "execution_count": null,
   "metadata": {},
   "outputs": [],
   "source": []
  },
  {
   "cell_type": "code",
   "execution_count": null,
   "metadata": {},
   "outputs": [],
   "source": []
  },
  {
   "cell_type": "code",
   "execution_count": null,
   "metadata": {},
   "outputs": [],
   "source": []
  }
 ],
 "metadata": {
  "kernelspec": {
   "display_name": "Python 3",
   "language": "python",
   "name": "python3"
  },
  "language_info": {
   "codemirror_mode": {
    "name": "ipython",
    "version": 3
   },
   "file_extension": ".py",
   "mimetype": "text/x-python",
   "name": "python",
   "nbconvert_exporter": "python",
   "pygments_lexer": "ipython3",
   "version": "3.6.3"
  }
 },
 "nbformat": 4,
 "nbformat_minor": 2
}
