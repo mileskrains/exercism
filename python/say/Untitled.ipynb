{
 "cells": [
  {
   "cell_type": "code",
   "execution_count": 5,
   "metadata": {},
   "outputs": [
    {
     "data": {
      "text/plain": [
       "'one billion'"
      ]
     },
     "execution_count": 5,
     "metadata": {},
     "output_type": "execute_result"
    }
   ],
   "source": [
    "def get_part(number, part):\n",
    "    number = number % 1000000000000\n",
    "    _to_slice = {'b': slice(0, 3),\n",
    "                 'm': slice(3, 6),\n",
    "                 't': slice(6, 9),\n",
    "                 'o': slice(9, 12)}\n",
    "    return int(str(number).rjust(12, '0')[_to_slice[part]])\n",
    "\n",
    "\n",
    "def part_say(number, part):\n",
    "    number = number % 1000\n",
    "    hundreds, tens, ones = [int(d) for d in str(number).rjust(3, '0')]\n",
    "    ones_map = dict(zip('123456789',\n",
    "                        'one two three four five six seven eight nine'.split()))\n",
    "    tens_map = dict(zip('23456789',\n",
    "                        'twenty thirty forty fifty sixty seventy eighty ninety'.split()))\n",
    "    teens_map = dict(zip('0123456789',\n",
    "                        'ten eleven twelve thirteen fourteen fifteen sixteen seventeen '\n",
    "                        'eighteen nineteen'.split()))\n",
    "    part_map = {'b': ' billion ', 'm': ' million ', 't': ' thousand ', 'o': ''}\n",
    "    say = ''\n",
    "    if hundreds:\n",
    "        say += ones_map[str(hundreds)] + ' hundred'\n",
    "        if tens or ones:\n",
    "            say += ' and '\n",
    "    if tens == 1:\n",
    "        say += teens_map[str(ones)]\n",
    "    if tens > 1:\n",
    "        say += tens_map[str(tens)]\n",
    "        if ones:\n",
    "            say += '-'\n",
    "    if ones and tens != 1:\n",
    "        say += ones_map[str(ones)]\n",
    "    if say:\n",
    "        say += part_map[part]\n",
    "    return say\n",
    "\n",
    "\n",
    "def say(number):\n",
    "    if number > 999999999999 or number < 0:\n",
    "        raise AttributeError('number must be positive and under 1 trillion')\n",
    "    if number == 0:\n",
    "        return 'zero'\n",
    "    b, m, t, o = [part_say(get_part(int(number), prt), prt) for prt in ['b', 'm', 't', 'o']]\n",
    "    if (b or m or t) and o:\n",
    "        if 0 < get_part(number, 'o') < 100:\n",
    "            o = 'and ' + o\n",
    "    return ''.join([b, m, t, o]).strip()\n",
    "\n",
    "\n",
    "\n",
    "number = 1e9\n",
    "say(number)"
   ]
  },
  {
   "cell_type": "code",
   "execution_count": null,
   "metadata": {},
   "outputs": [],
   "source": []
  },
  {
   "cell_type": "code",
   "execution_count": null,
   "metadata": {},
   "outputs": [],
   "source": []
  },
  {
   "cell_type": "code",
   "execution_count": null,
   "metadata": {},
   "outputs": [],
   "source": []
  },
  {
   "cell_type": "code",
   "execution_count": null,
   "metadata": {},
   "outputs": [],
   "source": []
  },
  {
   "cell_type": "code",
   "execution_count": null,
   "metadata": {},
   "outputs": [],
   "source": []
  },
  {
   "cell_type": "code",
   "execution_count": null,
   "metadata": {},
   "outputs": [],
   "source": []
  },
  {
   "cell_type": "code",
   "execution_count": null,
   "metadata": {},
   "outputs": [],
   "source": []
  }
 ],
 "metadata": {
  "kernelspec": {
   "display_name": "Python 3",
   "language": "python",
   "name": "python3"
  },
  "language_info": {
   "codemirror_mode": {
    "name": "ipython",
    "version": 3
   },
   "file_extension": ".py",
   "mimetype": "text/x-python",
   "name": "python",
   "nbconvert_exporter": "python",
   "pygments_lexer": "ipython3",
   "version": "3.6.3"
  }
 },
 "nbformat": 4,
 "nbformat_minor": 2
}
