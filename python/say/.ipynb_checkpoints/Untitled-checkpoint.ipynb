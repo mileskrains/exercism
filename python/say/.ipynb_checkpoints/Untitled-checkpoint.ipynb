{
 "cells": [
  {
   "cell_type": "code",
   "execution_count": 125,
   "metadata": {},
   "outputs": [],
   "source": [
    "def get_part(number, group):\n",
    "    number = number % 1000000000\n",
    "    _to_slice = {'b': slice(0, 3),\n",
    "                 'm': slice(3, 6),\n",
    "                 't': slice(6, 9),\n",
    "                 'o': slice(9, 12)}\n",
    "    return int(str(number).rjust(12, '0')[_to_slice[group]])"
   ]
  },
  {
   "cell_type": "code",
   "execution_count": 127,
   "metadata": {},
   "outputs": [
    {
     "data": {
      "text/plain": [
       "12"
      ]
     },
     "execution_count": 127,
     "metadata": {},
     "output_type": "execute_result"
    }
   ],
   "source": [
    "number = 12345\n",
    "get_part(number, 't')"
   ]
  },
  {
   "cell_type": "code",
   "execution_count": 160,
   "metadata": {},
   "outputs": [],
   "source": [
    "def part_say(number):\n",
    "    number = number % 1000\n",
    "    hundreds, tens, ones = [int(d) for d in str(number).rjust(3, '0')]\n",
    "    ones_map = dict(zip('123456789',\n",
    "                        'one two three four five six seven eight nine'.split()))\n",
    "    tens_map = dict(zip('23456789',\n",
    "                        'twenty thirty forty fifty sixty seventy eighty ninety'.split()))\n",
    "    teens_map = dict(zip('0123456789',\n",
    "                        'ten eleven twelve thirteen fourteen fifteen sixteen seventeen '\n",
    "                        'eighteen nineteen'.split()))\n",
    "    say = ''\n",
    "    if hundreds:\n",
    "        say += ones_map[str(hundreds)] + ' hundred'\n",
    "        if tens or ones:\n",
    "            say += ' and '\n",
    "    if tens == 1:\n",
    "        say += teens_map[str(ones)]\n",
    "    if tens > 1:\n",
    "        say += tens_map[str(tens)]\n",
    "        if ones:\n",
    "            say += '-'\n",
    "    if ones and tens != 1:\n",
    "        say += ones_map[str(ones)]\n",
    "    return say"
   ]
  },
  {
   "cell_type": "code",
   "execution_count": null,
   "metadata": {},
   "outputs": [],
   "source": []
  },
  {
   "cell_type": "code",
   "execution_count": null,
   "metadata": {},
   "outputs": [],
   "source": []
  },
  {
   "cell_type": "code",
   "execution_count": null,
   "metadata": {},
   "outputs": [],
   "source": []
  },
  {
   "cell_type": "code",
   "execution_count": null,
   "metadata": {},
   "outputs": [],
   "source": []
  },
  {
   "cell_type": "code",
   "execution_count": null,
   "metadata": {},
   "outputs": [],
   "source": []
  },
  {
   "cell_type": "code",
   "execution_count": null,
   "metadata": {},
   "outputs": [],
   "source": []
  },
  {
   "cell_type": "code",
   "execution_count": null,
   "metadata": {},
   "outputs": [],
   "source": []
  },
  {
   "cell_type": "code",
   "execution_count": null,
   "metadata": {},
   "outputs": [],
   "source": []
  },
  {
   "cell_type": "code",
   "execution_count": null,
   "metadata": {},
   "outputs": [],
   "source": []
  }
 ],
 "metadata": {
  "kernelspec": {
   "display_name": "Python 3",
   "language": "python",
   "name": "python3"
  },
  "language_info": {
   "codemirror_mode": {
    "name": "ipython",
    "version": 3
   },
   "file_extension": ".py",
   "mimetype": "text/x-python",
   "name": "python",
   "nbconvert_exporter": "python",
   "pygments_lexer": "ipython3",
   "version": "3.6.3"
  }
 },
 "nbformat": 4,
 "nbformat_minor": 2
}
