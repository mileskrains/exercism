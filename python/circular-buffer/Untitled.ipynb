{
 "cells": [
  {
   "cell_type": "code",
   "execution_count": 34,
   "metadata": {},
   "outputs": [],
   "source": [
    "class CircularBufferException(Exception):\n",
    "    pass\n",
    "\n",
    "\n",
    "class BufferFullException(CircularBufferException):\n",
    "    pass\n",
    "\n",
    "\n",
    "class BufferEmptyException(CircularBufferException):\n",
    "    pass\n",
    "\n",
    "\n",
    "class CircularBuffer():\n",
    "    def __init__(self, capacity):\n",
    "        self.capacity = capacity\n",
    "        self.buffer = [None] * capacity\n",
    "        self.write_pos = 0\n",
    "        self.read_pos = 0\n",
    "        self.empty = True\n",
    "        self.full = False\n",
    "        \n",
    "    def inc_write_pos(self):\n",
    "        self.write_pos += 1\n",
    "        if self.write_pos == self.capacity:\n",
    "            self.write_pos = 0\n",
    "            \n",
    "    def inc_read_pos(self):\n",
    "        self.read_pos += 1\n",
    "        if self.read_pos == self.capacity:\n",
    "            self.read_pos = 0\n",
    "        \n",
    "    def write(self, val, protected=True):\n",
    "        if protected and self.full:\n",
    "            raise BufferFullException\n",
    "        self.buffer[self.write_pos] = val\n",
    "        self.inc_write_pos()\n",
    "        self.empty = False\n",
    "        if self.write_pos == self.read_pos and not self.empty:\n",
    "            self.full = True\n",
    "        pass\n",
    "    \n",
    "    def overwrite(self, val):\n",
    "        if self.full:\n",
    "            self.inc_read_pos()\n",
    "            self.write(val, protected=False)\n",
    "        else:\n",
    "            self.write(val)\n",
    "\n",
    "    def read(self):\n",
    "        if self.empty:\n",
    "            raise BufferEmptyException\n",
    "        val = self.buffer[self.read_pos]\n",
    "        self.buffer[self.read_pos] = None\n",
    "        self.inc_read_pos()\n",
    "        self.full = False\n",
    "        if set(self.buffer) == {None}:\n",
    "            self.empty = True\n",
    "        return val\n",
    "     \n",
    "    def clear(self):\n",
    "        self.buffer = [None] * self.capacity\n",
    "        self.read_pos = self.write_pos\n",
    "        self.empty = True\n",
    "        self.full = False\n"
   ]
  },
  {
   "cell_type": "code",
   "execution_count": 39,
   "metadata": {},
   "outputs": [
    {
     "name": "stdout",
     "output_type": "stream",
     "text": [
      "1\n",
      "['3', '2']\n",
      "2\n",
      "['3', None]\n",
      "3\n",
      "[None, None]\n",
      "True False\n"
     ]
    }
   ],
   "source": [
    "buf = CircularBuffer(2)\n",
    "buf.write('1')\n",
    "buf.write('2')\n",
    "print(buf.read())\n",
    "buf.write('3')\n",
    "print(buf.buffer)\n",
    "print(buf.read())\n",
    "print(buf.buffer)\n",
    "print(buf.read())\n",
    "print(buf.buffer)\n",
    "print(buf.empty, buf.full)"
   ]
  },
  {
   "cell_type": "code",
   "execution_count": 36,
   "metadata": {},
   "outputs": [
    {
     "data": {
      "text/plain": [
       "{'1', None}"
      ]
     },
     "execution_count": 36,
     "metadata": {},
     "output_type": "execute_result"
    }
   ],
   "source": [
    "set([None, None, None, None, '1'])"
   ]
  },
  {
   "cell_type": "code",
   "execution_count": null,
   "metadata": {},
   "outputs": [],
   "source": []
  },
  {
   "cell_type": "code",
   "execution_count": 1,
   "metadata": {},
   "outputs": [],
   "source": [
    "# the following code is after rickh94 on exercism.io ...\n",
    "# using a list and pop methods\n",
    "\n",
    "class BufferFullException(Exception):\n",
    "    pass\n",
    "\n",
    "\n",
    "class BufferEmptyException(Exception):\n",
    "    pass\n",
    "\n",
    "\n",
    "class CircularBuffer():\n",
    "    def __init__(self, capacity):\n",
    "        self.capacity = capacity\n",
    "        self.buffer = []\n",
    "        \n",
    "    def write(self, val):\n",
    "        if len(self.buffer) == capacity:\n",
    "            raise BufferFullException\n",
    "        self.buffer.append(val)\n",
    "    \n",
    "    def overwrite(self, val):\n",
    "        buffer.pop(0)\n",
    "        buffer.append(val)\n",
    "\n",
    "    def read(self):\n",
    "        if self.buffer == []:\n",
    "            raise BufferEmptyException\n",
    "        return buffer.pop(0)\n",
    "     \n",
    "    def clear(self):\n",
    "        self.buffer = []"
   ]
  },
  {
   "cell_type": "code",
   "execution_count": null,
   "metadata": {},
   "outputs": [],
   "source": []
  },
  {
   "cell_type": "code",
   "execution_count": null,
   "metadata": {},
   "outputs": [],
   "source": []
  },
  {
   "cell_type": "code",
   "execution_count": null,
   "metadata": {},
   "outputs": [],
   "source": []
  },
  {
   "cell_type": "code",
   "execution_count": null,
   "metadata": {},
   "outputs": [],
   "source": []
  },
  {
   "cell_type": "code",
   "execution_count": null,
   "metadata": {},
   "outputs": [],
   "source": []
  },
  {
   "cell_type": "code",
   "execution_count": null,
   "metadata": {},
   "outputs": [],
   "source": []
  },
  {
   "cell_type": "code",
   "execution_count": null,
   "metadata": {},
   "outputs": [],
   "source": []
  },
  {
   "cell_type": "code",
   "execution_count": null,
   "metadata": {},
   "outputs": [],
   "source": []
  },
  {
   "cell_type": "code",
   "execution_count": null,
   "metadata": {},
   "outputs": [],
   "source": []
  },
  {
   "cell_type": "code",
   "execution_count": null,
   "metadata": {},
   "outputs": [],
   "source": []
  },
  {
   "cell_type": "code",
   "execution_count": null,
   "metadata": {},
   "outputs": [],
   "source": []
  },
  {
   "cell_type": "code",
   "execution_count": null,
   "metadata": {},
   "outputs": [],
   "source": []
  },
  {
   "cell_type": "code",
   "execution_count": null,
   "metadata": {},
   "outputs": [],
   "source": []
  },
  {
   "cell_type": "code",
   "execution_count": null,
   "metadata": {},
   "outputs": [],
   "source": []
  },
  {
   "cell_type": "code",
   "execution_count": null,
   "metadata": {},
   "outputs": [],
   "source": []
  },
  {
   "cell_type": "code",
   "execution_count": null,
   "metadata": {},
   "outputs": [],
   "source": []
  }
 ],
 "metadata": {
  "kernelspec": {
   "display_name": "Python 3",
   "language": "python",
   "name": "python3"
  },
  "language_info": {
   "codemirror_mode": {
    "name": "ipython",
    "version": 3
   },
   "file_extension": ".py",
   "mimetype": "text/x-python",
   "name": "python",
   "nbconvert_exporter": "python",
   "pygments_lexer": "ipython3",
   "version": "3.6.3"
  }
 },
 "nbformat": 4,
 "nbformat_minor": 2
}
