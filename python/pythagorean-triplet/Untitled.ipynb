{
 "cells": [
  {
   "cell_type": "code",
   "execution_count": 6,
   "metadata": {},
   "outputs": [
    {
     "name": "stdout",
     "output_type": "stream",
     "text": [
      "{(57, 76, 95), (60, 63, 87)}\n"
     ]
    },
    {
     "data": {
      "text/plain": [
       "{(13, 84, 85), (84, 187, 205), (84, 437, 445), (84, 1763, 1765)}"
      ]
     },
     "execution_count": 6,
     "metadata": {},
     "output_type": "execute_result"
    }
   ],
   "source": [
    "import itertools\n",
    "import math\n",
    "\n",
    "\n",
    "def triplets_in_range(range_start, range_end):\n",
    "    triplets = []\n",
    "    for c in range(range_start, range_end+1):\n",
    "        for a in range(range_start, c):\n",
    "            b = math.sqrt(c**2 - a**2)\n",
    "            if b >= range_start and b == int(b):\n",
    "                triplets.append(tuple(sorted([a, int(b), c])))\n",
    "    return set(sorted(list(set(triplets))))\n",
    "\n",
    "\n",
    "def prime_factorization(num):\n",
    "    factors = []\n",
    "    for n in range(2, num+1):\n",
    "        while num % n == 0:\n",
    "            factors.append(n)\n",
    "            num /= n\n",
    "        if num == 1:\n",
    "            break\n",
    "    return factors\n",
    "\n",
    "\n",
    "def triplet_is_coprime(triplet):\n",
    "    factors_list = [list(set(prime_factorization(n))) for n in triplet]\n",
    "    flattened = list(itertools.chain(*factors_list))\n",
    "    return len(flattened) == len(set(flattened))\n",
    "\n",
    "\n",
    "def primitive_triplets(b):\n",
    "    if b/4 != b//4:\n",
    "        raise ValueError('')\n",
    "    triplets = []\n",
    "    for c in range(3, int(b**2/4)+2):\n",
    "        a_squared = c**2 - b**2\n",
    "        if a_squared > 8:\n",
    "            a = math.sqrt(a_squared)\n",
    "            if a == int(a) and triplet_is_coprime((int(a), b, c)):\n",
    "                triplets.append(tuple(sorted([int(a), b, c])))\n",
    "    return set(sorted(list(set(triplets))))\n",
    "\n",
    "\n",
    "def is_triplet(triplet):\n",
    "    a, b, c = sorted(list(triplet))\n",
    "    return a**2 + b**2 == c**2\n",
    "\n",
    "\n",
    "print(triplets_in_range(56, 95))\n",
    "primitive_triplets(84)"
   ]
  },
  {
   "cell_type": "code",
   "execution_count": 4,
   "metadata": {},
   "outputs": [
    {
     "name": "stdout",
     "output_type": "stream",
     "text": [
      "[(3, 4, 5), (6, 8, 10)]\n"
     ]
    },
    {
     "data": {
      "text/plain": [
       "[(175, 288, 337), (288, 20735, 20737)]"
      ]
     },
     "execution_count": 4,
     "metadata": {},
     "output_type": "execute_result"
    }
   ],
   "source": [
    "print(triplets_in_range(1, 10))\n",
    "primitive_triplets(288)"
   ]
  },
  {
   "cell_type": "code",
   "execution_count": 5,
   "metadata": {},
   "outputs": [
    {
     "data": {
      "text/plain": [
       "[(29, 420, 421),\n",
       " (341, 420, 541),\n",
       " (420, 851, 949),\n",
       " (420, 1189, 1261),\n",
       " (420, 1739, 1789),\n",
       " (420, 4891, 4909),\n",
       " (420, 11021, 11029),\n",
       " (420, 44099, 44101)]"
      ]
     },
     "execution_count": 5,
     "metadata": {},
     "output_type": "execute_result"
    }
   ],
   "source": [
    "primitive_triplets(420)"
   ]
  },
  {
   "cell_type": "code",
   "execution_count": null,
   "metadata": {},
   "outputs": [],
   "source": []
  },
  {
   "cell_type": "code",
   "execution_count": null,
   "metadata": {},
   "outputs": [],
   "source": []
  },
  {
   "cell_type": "code",
   "execution_count": null,
   "metadata": {},
   "outputs": [],
   "source": [
    "import functools\n",
    "import itertools\n",
    "import math\n",
    "import operator"
   ]
  },
  {
   "cell_type": "code",
   "execution_count": null,
   "metadata": {},
   "outputs": [],
   "source": [
    "def m_n_vals(b):\n",
    "    if b == 4:\n",
    "        return [[2, 1]]\n",
    "    if (b//4)%2 == 0:\n",
    "        raise ValueError('given value will not generate a primitive triple')\n",
    "    b_prime_facs = prime_factorization(int(b/2))\n",
    "    b_facs = []\n",
    "    iterprod = lambda f: functools.reduce(operator.mul, f)\n",
    "    for fc in range(1, len(b_prime_facs)):\n",
    "        b_facs.extend(itertools.combinations(b_prime_facs, fc))\n",
    "    b_facs = [iterprod(f) for f in b_facs]\n",
    "    m = b_facs[::2]\n",
    "    n = b_facs[::-1][::2]\n",
    "    return [sorted([a, b], reverse=True) for a, b in zip(m, n)]\n",
    "\n",
    "\n",
    "def triplet_from_mn(m, n):\n",
    "    n, m = sorted([m, n])\n",
    "    return tuple(sorted([m**2-n**2, 2*m*n, m**2+n**2]))\n",
    "\n",
    "\n",
    "b = 420\n",
    "print(m_n_vals(b))\n",
    "print(sorted([triplet_from_mn(m, n) for [m, n] in m_n_vals(b)]))"
   ]
  },
  {
   "cell_type": "code",
   "execution_count": null,
   "metadata": {},
   "outputs": [],
   "source": [
    "def triplet_from_mn(m, n):\n",
    "    n, m = sorted([m, n])\n",
    "    return tuple(sorted([m**2-n**2, 2*m*n, m**2+n**2]))\n",
    "\n",
    "\n",
    "def mvp(m, v):\n",
    "    ((a, b), (c, d)) = m\n",
    "    e, f, = v\n",
    "    return a*e+b*f, c*e+d*f\n",
    "\n",
    "\n",
    "def gen_ppt(m=2, n=1, rec_lim = 4, ppts=None):\n",
    "    if ppts == None:\n",
    "        ppts = []\n",
    "    mn1 = ((2, -1), (1, 0))\n",
    "    mn2 = ((2, 1), (1, 0))\n",
    "    mn3 = ((1, 2), (0, 1))\n",
    "    ppts.append(triplet_from_mn(m, n))\n",
    "    if rec_lim:\n",
    "        for mn_gen in (mn1, mn2, mn3):\n",
    "            mm, nn = mvp(mn_gen, (m, n))\n",
    "            gen_ppt(mm, nn, rec_lim-1, ppts)\n",
    "    return ppts\n",
    "    \n",
    "\n",
    "ppts = sorted(gen_ppt(rec_lim = 8))\n",
    "len(ppts)"
   ]
  },
  {
   "cell_type": "code",
   "execution_count": null,
   "metadata": {},
   "outputs": [],
   "source": [
    "[t for t in ppts if 420 in t]"
   ]
  },
  {
   "cell_type": "code",
   "execution_count": null,
   "metadata": {},
   "outputs": [],
   "source": [
    "def prime_factorization(num):\n",
    "    factors = []\n",
    "    for n in range(2, num+1):\n",
    "        while num % n == 0:\n",
    "            factors.append(n)\n",
    "            num /= n\n",
    "        if num == 1:\n",
    "            break\n",
    "    return factors\n",
    "\n",
    "\n",
    "def triplet_is_coprime(triplet):\n",
    "    factors_list = [list(set(prime_factorization(n))) for n in triplet]\n",
    "    flattened = list(itertools.chain(*factors_list))\n",
    "    return len(flattened) == len(set(flattened))\n",
    "\n",
    "\n",
    "def primitive_triplets(number_in_triplet):\n",
    "    triplets = triplets_in_range(3, 30*number_in_triplet)\n",
    "    return [t for t in triplets \n",
    "            if number_in_triplet in t and triplet_is_coprime(t)]"
   ]
  },
  {
   "cell_type": "code",
   "execution_count": null,
   "metadata": {},
   "outputs": [],
   "source": []
  },
  {
   "cell_type": "code",
   "execution_count": null,
   "metadata": {},
   "outputs": [],
   "source": []
  }
 ],
 "metadata": {
  "kernelspec": {
   "display_name": "Python 3",
   "language": "python",
   "name": "python3"
  },
  "language_info": {
   "codemirror_mode": {
    "name": "ipython",
    "version": 3
   },
   "file_extension": ".py",
   "mimetype": "text/x-python",
   "name": "python",
   "nbconvert_exporter": "python",
   "pygments_lexer": "ipython3",
   "version": "3.6.3"
  }
 },
 "nbformat": 4,
 "nbformat_minor": 2
}
