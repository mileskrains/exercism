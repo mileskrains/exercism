{
 "cells": [
  {
   "cell_type": "code",
   "execution_count": 35,
   "metadata": {},
   "outputs": [],
   "source": [
    "class SpaceAge(object):\n",
    "    earth_year_seconds = 31557600\n",
    "    year_mult = {'Mercury': 0.2408467,\n",
    "                 'Venus': 0.61519726,\n",
    "                 'Earth': 1,\n",
    "                 'Mars': 1.8808158,\n",
    "                 'Jupiter': 11.862615,\n",
    "                 'Saturn': 29.447498,\n",
    "                 'Uranus': 84.016846,\n",
    "                 'Neptune': 164.79132}\n",
    "    \n",
    "    def __init__(self, seconds):\n",
    "        self.seconds = seconds\n",
    "        self.earth_age = seconds/self.earth_year_seconds\n",
    "        \n",
    "    def on_planet(self, planet):\n",
    "        return round(self.earth_age / self.year_mult[planet], 2)\n",
    "    \n",
    "    def on_mercury(self):\n",
    "        return self.on_planet('Mercury')\n",
    "        \n",
    "    def on_venus(self):\n",
    "        return self.on_planet('Venus')\n",
    "    \n",
    "    def on_earth(self):\n",
    "        return self.on_planet('Earth')\n",
    "    \n",
    "    def on_mars(self):\n",
    "        return self.on_planet('Mars')\n",
    "    \n",
    "    def on_jupiter(self):\n",
    "        return self.on_planet('Jupiter')\n",
    "    \n",
    "    def on_saturn(self):\n",
    "        return self.on_planet('Saturn')\n",
    "      \n",
    "    def on_uranus(self):\n",
    "        return self.on_planet('Uranus')\n",
    "    \n",
    "    def on_neptune(self):\n",
    "        return self.on_planet('Neptune')"
   ]
  },
  {
   "cell_type": "code",
   "execution_count": 34,
   "metadata": {},
   "outputs": [
    {
     "data": {
      "text/plain": [
       "1.58"
      ]
     },
     "execution_count": 34,
     "metadata": {},
     "output_type": "execute_result"
    }
   ],
   "source": [
    "SpaceAge(8210123456).on_neptune()"
   ]
  },
  {
   "cell_type": "code",
   "execution_count": null,
   "metadata": {},
   "outputs": [],
   "source": []
  },
  {
   "cell_type": "code",
   "execution_count": null,
   "metadata": {},
   "outputs": [],
   "source": []
  },
  {
   "cell_type": "code",
   "execution_count": null,
   "metadata": {},
   "outputs": [],
   "source": []
  },
  {
   "cell_type": "code",
   "execution_count": null,
   "metadata": {},
   "outputs": [],
   "source": []
  },
  {
   "cell_type": "code",
   "execution_count": null,
   "metadata": {},
   "outputs": [],
   "source": []
  },
  {
   "cell_type": "code",
   "execution_count": null,
   "metadata": {},
   "outputs": [],
   "source": []
  },
  {
   "cell_type": "code",
   "execution_count": null,
   "metadata": {},
   "outputs": [],
   "source": []
  },
  {
   "cell_type": "code",
   "execution_count": null,
   "metadata": {},
   "outputs": [],
   "source": []
  },
  {
   "cell_type": "code",
   "execution_count": null,
   "metadata": {},
   "outputs": [],
   "source": []
  },
  {
   "cell_type": "code",
   "execution_count": null,
   "metadata": {},
   "outputs": [],
   "source": []
  },
  {
   "cell_type": "code",
   "execution_count": null,
   "metadata": {},
   "outputs": [],
   "source": []
  },
  {
   "cell_type": "code",
   "execution_count": null,
   "metadata": {},
   "outputs": [],
   "source": []
  },
  {
   "cell_type": "code",
   "execution_count": null,
   "metadata": {},
   "outputs": [],
   "source": []
  }
 ],
 "metadata": {
  "kernelspec": {
   "display_name": "Python 3",
   "language": "python",
   "name": "python3"
  },
  "language_info": {
   "codemirror_mode": {
    "name": "ipython",
    "version": 3
   },
   "file_extension": ".py",
   "mimetype": "text/x-python",
   "name": "python",
   "nbconvert_exporter": "python",
   "pygments_lexer": "ipython3",
   "version": "3.6.3"
  }
 },
 "nbformat": 4,
 "nbformat_minor": 2
}
