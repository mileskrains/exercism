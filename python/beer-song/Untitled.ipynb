{
 "cells": [
  {
   "cell_type": "code",
   "execution_count": 40,
   "metadata": {},
   "outputs": [
    {
     "name": "stdout",
     "output_type": "stream",
     "text": [
      "3 bottles of beer on the wall, 3 bottles of beer.\n",
      "Take one down and pass it around, 2 bottles of beer on the wall.\n",
      "\n",
      "2 bottles of beer on the wall, 2 bottles of beer.\n",
      "Take one down and pass it around, 1 bottle of beer on the wall.\n",
      "\n",
      "1 bottle of beer on the wall, 1 bottle of beer.\n",
      "Take it down and pass it around, no more bottles of beer on the wall.\n",
      "\n",
      "No more bottles of beer on the wall, no more bottles of beer.\n",
      "Go to the store and buy some more, 99 bottles of beer on the wall.\n"
     ]
    }
   ],
   "source": [
    "def _bottles_text(number):\n",
    "    num = str(number) if number > 0 else 'no more'\n",
    "    return f'{num} bottle{\"\" if number==1 else \"s\"} of beer on the wall'\n",
    "\n",
    "\n",
    "def verse(number):\n",
    "    bt = _bottles_text(number)\n",
    "    line_one = f'{bt.capitalize()}, {bt[:-12]}.\\n'\n",
    "    line_two = (f'Take {\"it\" if number==1 else \"one\"} down and pass it'\n",
    "                f' around, {_bottles_text(number-1)}.\\n')\n",
    "    if number == 0:\n",
    "        line_two = f'Go to the store and buy some more, {_bottles_text(99)}.\\n'\n",
    "    return line_one + line_two\n",
    "\n",
    "\n",
    "def song(number1, number2=0):\n",
    "    verses = ''\n",
    "    for vn in range(number1, number2-1, -1):\n",
    "        verses += verse(vn)+'\\n'\n",
    "    return verses.strip()\n",
    "\n",
    "print(song(3))"
   ]
  },
  {
   "cell_type": "code",
   "execution_count": null,
   "metadata": {},
   "outputs": [],
   "source": []
  },
  {
   "cell_type": "code",
   "execution_count": null,
   "metadata": {},
   "outputs": [],
   "source": []
  },
  {
   "cell_type": "code",
   "execution_count": null,
   "metadata": {},
   "outputs": [],
   "source": []
  },
  {
   "cell_type": "code",
   "execution_count": null,
   "metadata": {},
   "outputs": [],
   "source": []
  },
  {
   "cell_type": "code",
   "execution_count": null,
   "metadata": {},
   "outputs": [],
   "source": []
  },
  {
   "cell_type": "code",
   "execution_count": null,
   "metadata": {},
   "outputs": [],
   "source": []
  },
  {
   "cell_type": "code",
   "execution_count": null,
   "metadata": {},
   "outputs": [],
   "source": []
  },
  {
   "cell_type": "code",
   "execution_count": null,
   "metadata": {},
   "outputs": [],
   "source": []
  },
  {
   "cell_type": "code",
   "execution_count": null,
   "metadata": {},
   "outputs": [],
   "source": []
  },
  {
   "cell_type": "code",
   "execution_count": null,
   "metadata": {},
   "outputs": [],
   "source": []
  },
  {
   "cell_type": "code",
   "execution_count": null,
   "metadata": {},
   "outputs": [],
   "source": []
  },
  {
   "cell_type": "code",
   "execution_count": null,
   "metadata": {},
   "outputs": [],
   "source": []
  },
  {
   "cell_type": "code",
   "execution_count": null,
   "metadata": {},
   "outputs": [],
   "source": []
  },
  {
   "cell_type": "code",
   "execution_count": null,
   "metadata": {},
   "outputs": [],
   "source": []
  },
  {
   "cell_type": "code",
   "execution_count": null,
   "metadata": {},
   "outputs": [],
   "source": []
  },
  {
   "cell_type": "code",
   "execution_count": null,
   "metadata": {},
   "outputs": [],
   "source": []
  },
  {
   "cell_type": "code",
   "execution_count": null,
   "metadata": {},
   "outputs": [],
   "source": []
  }
 ],
 "metadata": {
  "kernelspec": {
   "display_name": "Python 3",
   "language": "python",
   "name": "python3"
  },
  "language_info": {
   "codemirror_mode": {
    "name": "ipython",
    "version": 3
   },
   "file_extension": ".py",
   "mimetype": "text/x-python",
   "name": "python",
   "nbconvert_exporter": "python",
   "pygments_lexer": "ipython3",
   "version": "3.6.3"
  }
 },
 "nbformat": 4,
 "nbformat_minor": 2
}
