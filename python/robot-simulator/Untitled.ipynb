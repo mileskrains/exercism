{
 "cells": [
  {
   "cell_type": "code",
   "execution_count": 10,
   "metadata": {},
   "outputs": [
    {
     "name": "stdout",
     "output_type": "stream",
     "text": [
      "(-4, 1)\n",
      "(-1, 0)\n"
     ]
    }
   ],
   "source": [
    "# Globals for the bearings\n",
    "# Change the values as you see fit\n",
    "EAST = (1, 0)\n",
    "NORTH = (0, 1)\n",
    "WEST = (-1, 0)\n",
    "SOUTH = (0, -1)\n",
    "\n",
    "\n",
    "class Robot(object):\n",
    "    def __init__(self, bearing=NORTH, x=0, y=0):\n",
    "        self.bearing = bearing\n",
    "        self.coordinates = (x, y)\n",
    "    \n",
    "    def turn_left(self):\n",
    "        self.bearing = {NORTH: WEST,\n",
    "                        WEST: SOUTH,\n",
    "                        SOUTH: EAST,\n",
    "                        EAST: NORTH}[self.bearing]\n",
    "    \n",
    "    def turn_right(self):\n",
    "        self.bearing = {NORTH: EAST,\n",
    "                        EAST: SOUTH,\n",
    "                        SOUTH: WEST,\n",
    "                        WEST: NORTH}[self.bearing]\n",
    "    \n",
    "    def advance(self):\n",
    "        self.coordinates = (self.coordinates[0] + self.bearing[0],\n",
    "                            self.coordinates[1] + self.bearing[1])\n",
    "    \n",
    "    def simulate(self, sequence):\n",
    "        for s in sequence:\n",
    "            if s == 'L':\n",
    "                self.turn_left()\n",
    "            elif s == 'R':\n",
    "                self.turn_right()\n",
    "            elif s == 'A':\n",
    "                self.advance()\n",
    "\n",
    "    \n",
    "robot = Robot(NORTH, 0, 0)\n",
    "robot.simulate(\"LAAARALA\")\n",
    "print(robot.coordinates)  #(-4, 1)\n",
    "print(robot.bearing)  #WEST"
   ]
  },
  {
   "cell_type": "code",
   "execution_count": null,
   "metadata": {},
   "outputs": [],
   "source": []
  },
  {
   "cell_type": "code",
   "execution_count": null,
   "metadata": {},
   "outputs": [],
   "source": []
  },
  {
   "cell_type": "code",
   "execution_count": null,
   "metadata": {},
   "outputs": [],
   "source": []
  },
  {
   "cell_type": "code",
   "execution_count": null,
   "metadata": {},
   "outputs": [],
   "source": []
  },
  {
   "cell_type": "code",
   "execution_count": null,
   "metadata": {},
   "outputs": [],
   "source": []
  },
  {
   "cell_type": "code",
   "execution_count": null,
   "metadata": {},
   "outputs": [],
   "source": []
  },
  {
   "cell_type": "code",
   "execution_count": null,
   "metadata": {},
   "outputs": [],
   "source": []
  },
  {
   "cell_type": "code",
   "execution_count": null,
   "metadata": {},
   "outputs": [],
   "source": []
  },
  {
   "cell_type": "code",
   "execution_count": null,
   "metadata": {},
   "outputs": [],
   "source": []
  },
  {
   "cell_type": "code",
   "execution_count": null,
   "metadata": {},
   "outputs": [],
   "source": []
  },
  {
   "cell_type": "code",
   "execution_count": null,
   "metadata": {},
   "outputs": [],
   "source": []
  },
  {
   "cell_type": "code",
   "execution_count": null,
   "metadata": {},
   "outputs": [],
   "source": []
  },
  {
   "cell_type": "code",
   "execution_count": null,
   "metadata": {},
   "outputs": [],
   "source": []
  },
  {
   "cell_type": "code",
   "execution_count": null,
   "metadata": {},
   "outputs": [],
   "source": []
  },
  {
   "cell_type": "code",
   "execution_count": null,
   "metadata": {},
   "outputs": [],
   "source": []
  },
  {
   "cell_type": "code",
   "execution_count": null,
   "metadata": {},
   "outputs": [],
   "source": []
  }
 ],
 "metadata": {
  "kernelspec": {
   "display_name": "Python 3",
   "language": "python",
   "name": "python3"
  },
  "language_info": {
   "codemirror_mode": {
    "name": "ipython",
    "version": 3
   },
   "file_extension": ".py",
   "mimetype": "text/x-python",
   "name": "python",
   "nbconvert_exporter": "python",
   "pygments_lexer": "ipython3",
   "version": "3.6.3"
  }
 },
 "nbformat": 4,
 "nbformat_minor": 2
}
