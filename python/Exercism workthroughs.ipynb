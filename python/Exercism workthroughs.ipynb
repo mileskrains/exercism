{
 "cells": [
  {
   "cell_type": "code",
   "execution_count": null,
   "metadata": {},
   "outputs": [],
   "source": []
  },
  {
   "cell_type": "code",
   "execution_count": null,
   "metadata": {},
   "outputs": [],
   "source": []
  },
  {
   "cell_type": "code",
   "execution_count": null,
   "metadata": {},
   "outputs": [],
   "source": []
  },
  {
   "cell_type": "code",
   "execution_count": null,
   "metadata": {},
   "outputs": [],
   "source": []
  },
  {
   "cell_type": "code",
   "execution_count": null,
   "metadata": {},
   "outputs": [],
   "source": []
  },
  {
   "cell_type": "code",
   "execution_count": null,
   "metadata": {},
   "outputs": [],
   "source": []
  },
  {
   "cell_type": "code",
   "execution_count": null,
   "metadata": {},
   "outputs": [],
   "source": []
  },
  {
   "cell_type": "code",
   "execution_count": null,
   "metadata": {},
   "outputs": [],
   "source": [
    "# tournament"
   ]
  },
  {
   "cell_type": "code",
   "execution_count": 1,
   "metadata": {},
   "outputs": [],
   "source": [
    "from collections import defaultdict\n",
    "\n",
    "\n",
    "def tally(tournament_results):\n",
    "    results = 'Team'.ljust(31, ' ') + '| MP |  W |  D |  L |  P\\n'\n",
    "    if not tournament_results:\n",
    "        return results.strip()\n",
    "    tally_dict = defaultdict(lambda : defaultdict(int))\n",
    "    contests = tournament_results.split('\\n')\n",
    "    for contest in contests:\n",
    "        p1, p2, res = contest.split(';')\n",
    "        tally_dict[p1]['MP'] += 1\n",
    "        tally_dict[p2]['MP'] += 1\n",
    "        if res == 'loss':\n",
    "            p1, p2 = p2, p1\n",
    "            res = 'win'\n",
    "        if res == 'win':\n",
    "            tally_dict[p1]['W'] += 1\n",
    "            tally_dict[p1]['P'] += 3\n",
    "            tally_dict[p2]['L'] += 1\n",
    "        elif res == 'draw':\n",
    "            tally_dict[p1]['D'] += 1\n",
    "            tally_dict[p1]['P'] += 1\n",
    "            tally_dict[p2]['D'] += 1\n",
    "            tally_dict[p2]['P'] += 1\n",
    "    table = []\n",
    "    for k, v in tally_dict.items():\n",
    "        table.append([k] + [v[vk] for vk in 'MP W D L P'.split()])\n",
    "    table.sort(key=lambda t: (-t[1], -t[2], -t[3], -t[4], -t[5], t[0]))\n",
    "    for t, mp, w, d, l, p in table:\n",
    "        results += ' |  '.join([str(val)\n",
    "                                for val in (t.ljust(30, ' '), mp, w, d, l, p)]) + '\\n'\n",
    "    return results.strip()\n"
   ]
  },
  {
   "cell_type": "code",
   "execution_count": 2,
   "metadata": {},
   "outputs": [
    {
     "name": "stdout",
     "output_type": "stream",
     "text": [
      "Team                           | MP |  W |  D |  L |  P\n",
      "Devastating Donkeys            |  3 |  2 |  1 |  0 |  7\n",
      "Allegoric Alaskans             |  3 |  2 |  0 |  1 |  6\n",
      "Blithering Badgers             |  3 |  1 |  0 |  2 |  3\n",
      "Courageous Californians        |  3 |  0 |  1 |  2 |  1\n"
     ]
    }
   ],
   "source": [
    "results = ('Allegoric Alaskans;Blithering Badgers;win\\n'\n",
    "           'Devastating Donkeys;Courageous Californians;draw\\n'\n",
    "           'Devastating Donkeys;Allegoric Alaskans;win\\n'\n",
    "           'Courageous Californians;Blithering Badgers;loss\\n'\n",
    "           'Blithering Badgers;Devastating Donkeys;loss\\n'\n",
    "           'Allegoric Alaskans;Courageous Californians;win')\n",
    "\n",
    "print(tally(results))"
   ]
  },
  {
   "cell_type": "code",
   "execution_count": 3,
   "metadata": {},
   "outputs": [
    {
     "name": "stdout",
     "output_type": "stream",
     "text": [
      "Team                           | MP |  W |  D |  L |  P\n",
      "Allegoric Alaskans             |  1 |  0 |  1 |  0 |  1\n",
      "Blithering Badgers             |  1 |  0 |  1 |  0 |  1\n"
     ]
    }
   ],
   "source": [
    "results = 'Allegoric Alaskans;Blithering Badgers;draw'\n",
    "print(tally(results))"
   ]
  },
  {
   "cell_type": "code",
   "execution_count": null,
   "metadata": {},
   "outputs": [],
   "source": []
  },
  {
   "cell_type": "code",
   "execution_count": null,
   "metadata": {},
   "outputs": [],
   "source": []
  },
  {
   "cell_type": "code",
   "execution_count": null,
   "metadata": {},
   "outputs": [],
   "source": [
    "# alphametics"
   ]
  },
  {
   "cell_type": "code",
   "execution_count": 1,
   "metadata": {},
   "outputs": [],
   "source": [
    "from itertools import permutations\n",
    "\n",
    "\n",
    "def solve(puzzle):\n",
    "    words = [w for w in puzzle.split() if w.isalpha()]\n",
    "    nonzero = set([w[0] for w in words])\n",
    "    letters = list(set(''.join(words))-nonzero) + list(nonzero)\n",
    "    perms = permutations('0123456789', len(letters))\n",
    "    for perm in perms:\n",
    "        conv_dict = dict(zip(letters, perm))\n",
    "        if '0' in perm[-len(nonzero):]:\n",
    "            continue\n",
    "        if eval(''.join([conv_dict[c] if c.isalpha() else c for c in puzzle])):\n",
    "            return {k: int(v) for k, v in conv_dict.items()}\n",
    "    return {}"
   ]
  },
  {
   "cell_type": "code",
   "execution_count": 2,
   "metadata": {},
   "outputs": [
    {
     "name": "stdout",
     "output_type": "stream",
     "text": [
      "CPU times: user 458 ms, sys: 4.68 ms, total: 462 ms\n",
      "Wall time: 462 ms\n"
     ]
    }
   ],
   "source": [
    "%%time\n",
    "puzzle = \"SEND + MORE == MONEY\"\n",
    "soln = solve(puzzle)"
   ]
  },
  {
   "cell_type": "code",
   "execution_count": 3,
   "metadata": {},
   "outputs": [
    {
     "data": {
      "text/plain": [
       "{'D': 7, 'E': 5, 'M': 1, 'N': 6, 'O': 0, 'R': 8, 'S': 9, 'Y': 2}"
      ]
     },
     "execution_count": 3,
     "metadata": {},
     "output_type": "execute_result"
    }
   ],
   "source": [
    "soln"
   ]
  },
  {
   "cell_type": "code",
   "execution_count": 4,
   "metadata": {},
   "outputs": [
    {
     "name": "stdout",
     "output_type": "stream",
     "text": [
      "CPU times: user 41 s, sys: 58.7 ms, total: 41.1 s\n",
      "Wall time: 41.2 s\n"
     ]
    }
   ],
   "source": [
    "%%time\n",
    "puzzle = \"AND + A + STRONG + OFFENSE + AS + A + GOOD == DEFENSE\"\n",
    "soln = solve(puzzle)"
   ]
  },
  {
   "cell_type": "code",
   "execution_count": 5,
   "metadata": {},
   "outputs": [
    {
     "data": {
      "text/plain": [
       "{'A': 5,\n",
       " 'D': 3,\n",
       " 'E': 4,\n",
       " 'F': 7,\n",
       " 'G': 8,\n",
       " 'N': 0,\n",
       " 'O': 2,\n",
       " 'R': 1,\n",
       " 'S': 6,\n",
       " 'T': 9}"
      ]
     },
     "execution_count": 5,
     "metadata": {},
     "output_type": "execute_result"
    }
   ],
   "source": [
    "soln"
   ]
  },
  {
   "cell_type": "code",
   "execution_count": null,
   "metadata": {},
   "outputs": [],
   "source": []
  },
  {
   "cell_type": "code",
   "execution_count": null,
   "metadata": {},
   "outputs": [],
   "source": []
  },
  {
   "cell_type": "code",
   "execution_count": null,
   "metadata": {},
   "outputs": [],
   "source": [
    "# word search"
   ]
  },
  {
   "cell_type": "code",
   "execution_count": 1,
   "metadata": {},
   "outputs": [],
   "source": [
    "from collections import defaultdict\n",
    "\n",
    "\n",
    "class Point(object):\n",
    "    def __init__(self, x, y):\n",
    "        self.x = x\n",
    "        self.y = y\n",
    "\n",
    "    def __repr__(self):\n",
    "        return 'Point({}:{})'.format(self.x, self.y)\n",
    "\n",
    "\n",
    "class WordSearch(object):\n",
    "    def __init__(self, puzzle):\n",
    "        self.puz_dict = defaultdict(str)\n",
    "        for ln, line in enumerate(puzzle.split('\\n')):\n",
    "            for cn, ch in enumerate(line):\n",
    "                self.puz_dict[ln, cn] = ch\n",
    "        self.search_locs = list(self.puz_dict)\n",
    "    \n",
    "    def search(self, word):\n",
    "        dir_offsets = ((1,0), (1,1), (0,1), (-1,1), (-1,0), (-1,-1), (0,-1), (1,-1))\n",
    "        match = False\n",
    "        for ln, cn in self.search_locs:\n",
    "            if self.puz_dict[ln, cn] == word[0]:\n",
    "                ws = Point(cn, ln)\n",
    "                for do in dir_offsets:\n",
    "                    line_offset, col_offset = do\n",
    "                    match = True\n",
    "                    for wchar_num, wchar in enumerate(word):\n",
    "                        check_line = ln + wchar_num * line_offset\n",
    "                        check_col = cn + wchar_num * col_offset\n",
    "                        if self.puz_dict[check_line, check_col] != wchar:\n",
    "                            match = False\n",
    "                    if match:\n",
    "                        wf = Point(check_col, check_line)\n",
    "                        break\n",
    "            if match:\n",
    "                break\n",
    "        return (ws, wf) if match else None"
   ]
  },
  {
   "cell_type": "code",
   "execution_count": 2,
   "metadata": {},
   "outputs": [
    {
     "data": {
      "text/plain": [
       "(Point(0:0), Point(3:3))"
      ]
     },
     "execution_count": 2,
     "metadata": {},
     "output_type": "execute_result"
    }
   ],
   "source": [
    "puzzle = ('jefblpepre\\n'\n",
    "          'camdcimgtc\\n'\n",
    "          'oivokprjsm\\n'\n",
    "          'pbwasqroua\\n'\n",
    "          'rixilelhrs\\n'\n",
    "          'wolcqlirpc\\n'\n",
    "          'fortranftw\\n'\n",
    "          'alxhpburyi\\n'\n",
    "          'clojurermt\\n'\n",
    "          'jalaycalmp\\n')\n",
    "\n",
    "ws = WordSearch(puzzle)\n",
    "ws.search('java')"
   ]
  },
  {
   "cell_type": "code",
   "execution_count": 3,
   "metadata": {},
   "outputs": [
    {
     "data": {
      "text/plain": [
       "(Point(0:6), Point(6:6))"
      ]
     },
     "execution_count": 3,
     "metadata": {},
     "output_type": "execute_result"
    }
   ],
   "source": [
    "ws.search('fortran')"
   ]
  },
  {
   "cell_type": "code",
   "execution_count": 4,
   "metadata": {},
   "outputs": [],
   "source": [
    "ws.search('clojures')"
   ]
  },
  {
   "cell_type": "code",
   "execution_count": null,
   "metadata": {},
   "outputs": [],
   "source": []
  },
  {
   "cell_type": "code",
   "execution_count": null,
   "metadata": {},
   "outputs": [],
   "source": []
  },
  {
   "cell_type": "code",
   "execution_count": null,
   "metadata": {},
   "outputs": [],
   "source": [
    "# grep"
   ]
  },
  {
   "cell_type": "code",
   "execution_count": 1,
   "metadata": {},
   "outputs": [],
   "source": [
    "import os\n",
    "ILIADFILENAME = 'iliad.txt'\n",
    "ILIADCONTENTS = '''Achilles sing, O Goddess! Peleus' son;\n",
    "His wrath pernicious, who ten thousand woes\n",
    "Caused to Achaia's host, sent many a soul\n",
    "Illustrious into Ades premature,\n",
    "And Heroes gave (so stood the will of Jove)\n",
    "To dogs and to all ravening fowls a prey,\n",
    "When fierce dispute had separated once\n",
    "The noble Chief Achilles from the son\n",
    "Of Atreus, Agamemnon, King of men.\n",
    "'''\n",
    "\n",
    "MIDSUMMERNIGHTFILENAME = 'midsummer-night.txt'\n",
    "MIDSUMMERNIGHTCONTENTS = '''I do entreat your grace to pardon me.\n",
    "I know not by what power I am made bold,\n",
    "Nor how it may concern my modesty,\n",
    "In such a presence here to plead my thoughts;\n",
    "But I beseech your grace that I may know\n",
    "The worst that may befall me in this case,\n",
    "If I refuse to wed Demetrius.\n",
    "'''\n",
    "\n",
    "PARADISELOSTFILENAME = 'paradise-lost.txt'\n",
    "PARADISELOSTCONTENTS = '''Of Mans First Disobedience, and the Fruit\n",
    "Of that Forbidden Tree, whose mortal tast\n",
    "Brought Death into the World, and all our woe,\n",
    "With loss of Eden, till one greater Man\n",
    "Restore us, and regain the blissful Seat,\n",
    "Sing Heav'nly Muse, that on the secret top\n",
    "Of Oreb, or of Sinai, didst inspire\n",
    "That Shepherd, who first taught the chosen Seed\n",
    "'''\n",
    "\n",
    "\n",
    "def create_file(name, contents):\n",
    "    with open(name, 'w') as f:\n",
    "        f.write(contents)\n",
    "\n",
    "        \n",
    "def remove_file(file_name):\n",
    "    try:\n",
    "        os.remove(file_name)\n",
    "    except OSError:\n",
    "        pass\n",
    "\n",
    "    \n",
    "create_file(ILIADFILENAME, ILIADCONTENTS)\n",
    "create_file(MIDSUMMERNIGHTFILENAME, MIDSUMMERNIGHTCONTENTS)\n",
    "create_file(PARADISELOSTFILENAME, PARADISELOSTCONTENTS)"
   ]
  },
  {
   "cell_type": "code",
   "execution_count": 2,
   "metadata": {},
   "outputs": [],
   "source": [
    "def grep(pattern, files, flags=''):\n",
    "    \n",
    "    print_line_numbers = '-n' in flags\n",
    "    print_matching_filename_only = '-l' in flags\n",
    "    case_insensitive = '-i' in flags\n",
    "    invert_match = '-v' in flags\n",
    "    match_entire_line = '-x' in flags\n",
    "    \n",
    "    greport = ''\n",
    "    if case_insensitive:\n",
    "        pattern = pattern.lower()\n",
    "    for file in files:\n",
    "        with open(file) as f:\n",
    "            line_ct = 0\n",
    "            for line in f:\n",
    "                line_ct += 1\n",
    "                target = line.strip()\n",
    "                if case_insensitive:\n",
    "                    target = target.lower()\n",
    "                match = pattern in target\n",
    "                if match_entire_line:\n",
    "                    match = pattern == target\n",
    "                if invert_match:\n",
    "                    match = not match\n",
    "                if match:\n",
    "                    if print_matching_filename_only:\n",
    "                        greport += file + '\\n'\n",
    "                        break\n",
    "                    else:\n",
    "                        if len(files) > 1:\n",
    "                            greport += f'{file}:'\n",
    "                        if print_line_numbers:\n",
    "                            greport += f'{line_ct}:'\n",
    "                        greport += line.strip() + '\\n'\n",
    "    return greport"
   ]
  },
  {
   "cell_type": "code",
   "execution_count": 3,
   "metadata": {},
   "outputs": [
    {
     "data": {
      "text/plain": [
       "('midsummer-night.txt:But I beseech your grace that I may know\\n',)"
      ]
     },
     "execution_count": 3,
     "metadata": {},
     "output_type": "execute_result"
    }
   ],
   "source": [
    "grep(\"But I beseech your grace that I may know\",\n",
    "     [\"iliad.txt\", \"midsummer-night.txt\", \"paradise-lost.txt\"],\n",
    "     \"-x\"),"
   ]
  },
  {
   "cell_type": "code",
   "execution_count": 4,
   "metadata": {},
   "outputs": [
    {
     "data": {
      "text/plain": [
       "('Of that Forbidden Tree, whose mortal tast\\n',)"
      ]
     },
     "execution_count": 4,
     "metadata": {},
     "output_type": "execute_result"
    }
   ],
   "source": [
    "grep(\"FORBIDDEN\", [PARADISELOSTFILENAME], \"-i\"),"
   ]
  },
  {
   "cell_type": "code",
   "execution_count": 5,
   "metadata": {},
   "outputs": [],
   "source": [
    "remove_file(ILIADFILENAME)\n",
    "remove_file(MIDSUMMERNIGHTFILENAME)\n",
    "remove_file(PARADISELOSTFILENAME)"
   ]
  },
  {
   "cell_type": "code",
   "execution_count": null,
   "metadata": {},
   "outputs": [],
   "source": []
  },
  {
   "cell_type": "code",
   "execution_count": null,
   "metadata": {},
   "outputs": [],
   "source": []
  },
  {
   "cell_type": "code",
   "execution_count": null,
   "metadata": {
    "collapsed": true
   },
   "outputs": [],
   "source": [
    "# clock"
   ]
  },
  {
   "cell_type": "code",
   "execution_count": 1,
   "metadata": {},
   "outputs": [],
   "source": [
    "class Clock(object):\n",
    "    def __init__(self, hour, minute):\n",
    "        self.minutes = ((hour % 24) * 60 + minute) % (24 * 60)\n",
    "        self.resolve()\n",
    "        \n",
    "    def resolve(self):\n",
    "        self.minute = self.minutes % 60\n",
    "        self.hour = (self.minutes - self.minute) // 60\n",
    "\n",
    "    def __add__(self, other):\n",
    "        if type(other) == Clock:\n",
    "            self.minutes += other.minutes\n",
    "        elif type(other) == int:\n",
    "            self.minutes += other\n",
    "        self.minutes = self.minutes % (24 * 60)\n",
    "        self.resolve()\n",
    "        return self\n",
    "        \n",
    "    def __repr__(self):\n",
    "        return f'{self.hour:0>2}:{self.minute:0>2}'\n",
    "    \n",
    "    def __eq__(self, other):\n",
    "        return self.minutes == other.minutes\n"
   ]
  },
  {
   "cell_type": "code",
   "execution_count": 2,
   "metadata": {},
   "outputs": [
    {
     "data": {
      "text/plain": [
       "13:00"
      ]
     },
     "execution_count": 2,
     "metadata": {},
     "output_type": "execute_result"
    }
   ],
   "source": [
    "tc = Clock(12, 30) \n",
    "tc + Clock(0, 30)"
   ]
  },
  {
   "cell_type": "code",
   "execution_count": 3,
   "metadata": {},
   "outputs": [
    {
     "data": {
      "text/plain": [
       "True"
      ]
     },
     "execution_count": 3,
     "metadata": {},
     "output_type": "execute_result"
    }
   ],
   "source": [
    "Clock(18,7) == Clock(-54, -11513)"
   ]
  },
  {
   "cell_type": "code",
   "execution_count": 4,
   "metadata": {},
   "outputs": [
    {
     "data": {
      "text/plain": [
       "False"
      ]
     },
     "execution_count": 4,
     "metadata": {},
     "output_type": "execute_result"
    }
   ],
   "source": [
    "Clock(18,7) == Clock(-54, -11512)"
   ]
  },
  {
   "cell_type": "code",
   "execution_count": 5,
   "metadata": {},
   "outputs": [
    {
     "data": {
      "text/plain": [
       "10:03"
      ]
     },
     "execution_count": 5,
     "metadata": {},
     "output_type": "execute_result"
    }
   ],
   "source": [
    "Clock(10, 0) + 3"
   ]
  },
  {
   "cell_type": "code",
   "execution_count": 6,
   "metadata": {},
   "outputs": [
    {
     "data": {
      "text/plain": [
       "12:12"
      ]
     },
     "execution_count": 6,
     "metadata": {},
     "output_type": "execute_result"
    }
   ],
   "source": [
    "Clock(12, 12)"
   ]
  },
  {
   "cell_type": "code",
   "execution_count": null,
   "metadata": {},
   "outputs": [],
   "source": []
  },
  {
   "cell_type": "code",
   "execution_count": null,
   "metadata": {},
   "outputs": [],
   "source": []
  },
  {
   "cell_type": "code",
   "execution_count": null,
   "metadata": {},
   "outputs": [],
   "source": [
    "# all your base"
   ]
  },
  {
   "cell_type": "code",
   "execution_count": 1,
   "metadata": {},
   "outputs": [],
   "source": [
    "def rebase(from_base, digits, to_base):\n",
    "    if min(from_base, to_base) < 2:\n",
    "        raise ValueError('bases must be > 1')\n",
    "    if not digits or max(digits)==0:\n",
    "        return []\n",
    "    dec = 0\n",
    "    for di, d in enumerate(reversed(digits)):\n",
    "        if d >= from_base or d < 0:\n",
    "            raise ValueError('digits must be non-negative and less than base')\n",
    "        dec += from_base**di * d\n",
    "    pwr = 0\n",
    "    while to_base**pwr < dec:\n",
    "        pwr += 1\n",
    "    if pwr > 0:\n",
    "        pwr -= 1\n",
    "    to_base_digits = []\n",
    "    while pwr >= 0:\n",
    "        place_val = to_base**pwr\n",
    "        pwr -= 1\n",
    "        rem = dec % place_val\n",
    "        to_base_digits.append((dec-rem)//place_val)\n",
    "        dec = rem\n",
    "    return to_base_digits"
   ]
  },
  {
   "cell_type": "code",
   "execution_count": 2,
   "metadata": {},
   "outputs": [],
   "source": [
    "assert rebase(97, [3, 46, 60], 73) == [6, 10, 45]"
   ]
  },
  {
   "cell_type": "code",
   "execution_count": 3,
   "metadata": {},
   "outputs": [
    {
     "data": {
      "text/plain": [
       "[1]"
      ]
     },
     "execution_count": 3,
     "metadata": {},
     "output_type": "execute_result"
    }
   ],
   "source": [
    "rebase(2, [1], 10)"
   ]
  },
  {
   "cell_type": "code",
   "execution_count": null,
   "metadata": {},
   "outputs": [],
   "source": []
  },
  {
   "cell_type": "code",
   "execution_count": null,
   "metadata": {},
   "outputs": [],
   "source": []
  },
  {
   "cell_type": "code",
   "execution_count": null,
   "metadata": {},
   "outputs": [],
   "source": [
    "# variable length quantity"
   ]
  },
  {
   "cell_type": "code",
   "execution_count": 1,
   "metadata": {},
   "outputs": [
    {
     "data": {
      "text/plain": [
       "[10, 100, 1000]"
      ]
     },
     "execution_count": 1,
     "metadata": {},
     "output_type": "execute_result"
    }
   ],
   "source": [
    "def encode(numbers):\n",
    "    result = []\n",
    "    for number in numbers:\n",
    "        result.extend(_encode(number))\n",
    "    return result\n",
    "\n",
    "def _encode(number):\n",
    "    as_bin = bin(number)[2:]\n",
    "    parts = []\n",
    "    while as_bin:\n",
    "        end = as_bin[-7:]\n",
    "        as_bin = as_bin[:-7]\n",
    "        cbit = '1' if parts else '0'\n",
    "        as_hex = cbit + end.rjust(7, '0')\n",
    "        parts = [as_hex] + parts\n",
    "    return list(map(lambda b: int(b, 2), parts))\n",
    "\n",
    "\n",
    "def decode(bytes_):\n",
    "    numbers = []\n",
    "    bin_strs = [bin(byt)[2:].rjust(8, '0') for byt in bytes_]\n",
    "    accum = ''\n",
    "    for bs in bin_strs:\n",
    "        if bs[0] == '1':\n",
    "            accum += bs[1:]\n",
    "        else:\n",
    "            accum += bs[1:]\n",
    "            numbers.append(int(accum, 2))\n",
    "            accum = ''\n",
    "    if accum != '':\n",
    "        raise ValueError('incomplete sequence')\n",
    "    return numbers\n",
    "\n",
    "\n",
    "decode(encode([10, 100, 1000]))"
   ]
  },
  {
   "cell_type": "code",
   "execution_count": 2,
   "metadata": {},
   "outputs": [
    {
     "ename": "ValueError",
     "evalue": "incomplete sequence",
     "output_type": "error",
     "traceback": [
      "\u001b[0;31m---------------------------------------------------------------------------\u001b[0m",
      "\u001b[0;31mValueError\u001b[0m                                Traceback (most recent call last)",
      "\u001b[0;32m<ipython-input-2-ee931ed1e4b1>\u001b[0m in \u001b[0;36m<module>\u001b[0;34m()\u001b[0m\n\u001b[0;32m----> 1\u001b[0;31m \u001b[0mdecode\u001b[0m\u001b[0;34m(\u001b[0m\u001b[0;34m[\u001b[0m\u001b[0;36m0xff\u001b[0m\u001b[0;34m]\u001b[0m\u001b[0;34m)\u001b[0m\u001b[0;34m\u001b[0m\u001b[0m\n\u001b[0m",
      "\u001b[0;32m<ipython-input-1-cab5504cb135>\u001b[0m in \u001b[0;36mdecode\u001b[0;34m(bytes_)\u001b[0m\n\u001b[1;32m     29\u001b[0m             \u001b[0maccum\u001b[0m \u001b[0;34m=\u001b[0m \u001b[0;34m''\u001b[0m\u001b[0;34m\u001b[0m\u001b[0m\n\u001b[1;32m     30\u001b[0m     \u001b[0;32mif\u001b[0m \u001b[0maccum\u001b[0m \u001b[0;34m!=\u001b[0m \u001b[0;34m''\u001b[0m\u001b[0;34m:\u001b[0m\u001b[0;34m\u001b[0m\u001b[0m\n\u001b[0;32m---> 31\u001b[0;31m         \u001b[0;32mraise\u001b[0m \u001b[0mValueError\u001b[0m\u001b[0;34m(\u001b[0m\u001b[0;34m'incomplete sequence'\u001b[0m\u001b[0;34m)\u001b[0m\u001b[0;34m\u001b[0m\u001b[0m\n\u001b[0m\u001b[1;32m     32\u001b[0m     \u001b[0;32mreturn\u001b[0m \u001b[0mnumbers\u001b[0m\u001b[0;34m\u001b[0m\u001b[0m\n\u001b[1;32m     33\u001b[0m \u001b[0;34m\u001b[0m\u001b[0m\n",
      "\u001b[0;31mValueError\u001b[0m: incomplete sequence"
     ]
    }
   ],
   "source": [
    "decode([0xff])"
   ]
  },
  {
   "cell_type": "code",
   "execution_count": null,
   "metadata": {},
   "outputs": [],
   "source": []
  },
  {
   "cell_type": "code",
   "execution_count": null,
   "metadata": {},
   "outputs": [],
   "source": []
  },
  {
   "cell_type": "code",
   "execution_count": null,
   "metadata": {},
   "outputs": [],
   "source": [
    "# diamond"
   ]
  },
  {
   "cell_type": "code",
   "execution_count": 1,
   "metadata": {
    "scrolled": true
   },
   "outputs": [
    {
     "name": "stdout",
     "output_type": "stream",
     "text": [
      "    A    \n",
      "   B B   \n",
      "  C   C  \n",
      " D     D \n",
      "E       E\n",
      " D     D \n",
      "  C   C  \n",
      "   B B   \n",
      "    A    \n",
      "\n"
     ]
    }
   ],
   "source": [
    "from string import ascii_uppercase\n",
    "\n",
    "def make_diamond(letter):\n",
    "    diamond = []\n",
    "    letters = ascii_uppercase[:ascii_uppercase.index(letter)+1]\n",
    "    start_spaces = len(letters)-1\n",
    "    for sc, ch in enumerate(letters):\n",
    "        ln = (' '*(start_spaces-sc) + \n",
    "              ch + \n",
    "              ' '*(2*sc-1) +\n",
    "              (ch if ch != 'A' else '') +\n",
    "              ' '*(start_spaces-sc)\n",
    "             )\n",
    "        diamond.append(ln)\n",
    "    for sc, ch in enumerate(letters[-2::-1]):\n",
    "        ln = (' '*(sc+1) + \n",
    "              ch + \n",
    "              ' '*(2*start_spaces-2*sc-3) +\n",
    "              (ch if ch != 'A' else '') +\n",
    "              ' '*(sc+1)\n",
    "             )\n",
    "        diamond.append(ln)\n",
    "    return '\\n'.join(diamond) + '\\n'\n",
    "\n",
    "print(make_diamond('E'))"
   ]
  },
  {
   "cell_type": "code",
   "execution_count": 2,
   "metadata": {
    "scrolled": true
   },
   "outputs": [
    {
     "name": "stdout",
     "output_type": "stream",
     "text": [
      "    A    \n",
      "   B B   \n",
      "  C   C  \n",
      " D     D \n",
      "E       E\n",
      " D     D \n",
      "  C   C  \n",
      "   B B   \n",
      "    A    \n",
      "\n"
     ]
    }
   ],
   "source": [
    "from string import ascii_uppercase\n",
    "\n",
    "\n",
    "def make_diamond(letter):\n",
    "    letters = ascii_uppercase[:ascii_uppercase.index(letter)+1]\n",
    "    size = 2*len(letters)-1\n",
    "    blank = [list(' ' * size) for _ in range(size)]\n",
    "    for ci, ch in enumerate(letters):\n",
    "        for ri in (ci, size-1-ci):\n",
    "            row = blank[ri]\n",
    "            row[len(letters)-1-ci] = ch\n",
    "            row[-len(letters)+ci] = ch\n",
    "    return '\\n'.join(list(map(lambda r: ''.join(r), blank))) + '\\n'\n",
    "\n",
    "\n",
    "print(make_diamond('E'))"
   ]
  },
  {
   "cell_type": "code",
   "execution_count": null,
   "metadata": {},
   "outputs": [],
   "source": []
  },
  {
   "cell_type": "code",
   "execution_count": null,
   "metadata": {},
   "outputs": [],
   "source": []
  },
  {
   "cell_type": "code",
   "execution_count": null,
   "metadata": {},
   "outputs": [],
   "source": [
    "# reverse-string"
   ]
  },
  {
   "cell_type": "code",
   "execution_count": 1,
   "metadata": {},
   "outputs": [],
   "source": [
    "def reverse(input=''):\n",
    "    return ''.join(c for c in input[::-1])"
   ]
  },
  {
   "cell_type": "code",
   "execution_count": 2,
   "metadata": {},
   "outputs": [],
   "source": [
    "def reverse(input=''):\n",
    "    return input[::-1]"
   ]
  },
  {
   "cell_type": "code",
   "execution_count": 3,
   "metadata": {},
   "outputs": [
    {
     "data": {
      "text/plain": [
       "'tobor'"
      ]
     },
     "execution_count": 3,
     "metadata": {},
     "output_type": "execute_result"
    }
   ],
   "source": [
    "reverse('robot')"
   ]
  },
  {
   "cell_type": "code",
   "execution_count": 4,
   "metadata": {},
   "outputs": [
    {
     "data": {
      "text/plain": [
       "\"!yrgnuh m'I\""
      ]
     },
     "execution_count": 4,
     "metadata": {},
     "output_type": "execute_result"
    }
   ],
   "source": [
    "reverse('I\\'m hungry!')"
   ]
  },
  {
   "cell_type": "code",
   "execution_count": 5,
   "metadata": {},
   "outputs": [
    {
     "data": {
      "text/plain": [
       "'racecar'"
      ]
     },
     "execution_count": 5,
     "metadata": {},
     "output_type": "execute_result"
    }
   ],
   "source": [
    "reverse('racecar')"
   ]
  },
  {
   "cell_type": "code",
   "execution_count": null,
   "metadata": {},
   "outputs": [],
   "source": []
  },
  {
   "cell_type": "code",
   "execution_count": null,
   "metadata": {},
   "outputs": [],
   "source": []
  },
  {
   "cell_type": "code",
   "execution_count": 1,
   "metadata": {},
   "outputs": [],
   "source": [
    "# linked list"
   ]
  },
  {
   "cell_type": "code",
   "execution_count": 1,
   "metadata": {},
   "outputs": [],
   "source": [
    "class Node(object):\n",
    "    def __init__(self, value, next_=None, previous=None):\n",
    "        self.value = value\n",
    "        self.next_ = next_\n",
    "        self.previous = previous\n",
    "        \n",
    "\n",
    "class LinkedList(object):\n",
    "    def __init__(self):\n",
    "        self.head = None\n",
    "        self.tail = None\n",
    "    \n",
    "    def push(self, value):\n",
    "        new_head = Node(value)\n",
    "        if self.head:\n",
    "            new_head.next_ = self.head\n",
    "            self.head.previous = new_head\n",
    "        self.head = new_head\n",
    "        if not self.tail:\n",
    "            self.tail = self.head\n",
    "            \n",
    "    def unshift(self, value):\n",
    "        new_tail = Node(value)\n",
    "        if self.tail:\n",
    "            new_tail.previous = self.tail\n",
    "            self.tail.next_ = new_tail\n",
    "        self.tail = new_tail\n",
    "        if not self.head:\n",
    "            self.head = self.tail\n",
    "            \n",
    "    def pop(self):\n",
    "        new_head = self.head.next_\n",
    "        value = self.head.value\n",
    "        self.head = new_head\n",
    "        if self.head:\n",
    "            self.head.previous = None\n",
    "        return value\n",
    "    \n",
    "    def shift(self):\n",
    "        new_tail = self.tail.previous\n",
    "        value = self.tail.value\n",
    "        self.tail = new_tail\n",
    "        if new_tail:\n",
    "            new_tail.next_ = None\n",
    "        return value\n"
   ]
  },
  {
   "cell_type": "code",
   "execution_count": 2,
   "metadata": {},
   "outputs": [
    {
     "name": "stdout",
     "output_type": "stream",
     "text": [
      "20\n",
      "10\n"
     ]
    }
   ],
   "source": [
    "test = LinkedList()\n",
    "test.push(10)\n",
    "test.push(20)\n",
    "print(test.pop())\n",
    "print(test.pop())"
   ]
  },
  {
   "cell_type": "code",
   "execution_count": 3,
   "metadata": {},
   "outputs": [
    {
     "name": "stdout",
     "output_type": "stream",
     "text": [
      "10\n",
      "20\n"
     ]
    }
   ],
   "source": [
    "test = LinkedList()\n",
    "test.push(10)\n",
    "test.push(20)\n",
    "print(test.shift())\n",
    "print(test.shift())"
   ]
  },
  {
   "cell_type": "code",
   "execution_count": 4,
   "metadata": {},
   "outputs": [
    {
     "name": "stdout",
     "output_type": "stream",
     "text": [
      "20\n",
      "10\n"
     ]
    }
   ],
   "source": [
    "test = LinkedList()\n",
    "test.unshift(10)\n",
    "test.unshift(20)\n",
    "print(test.shift())\n",
    "print(test.shift())"
   ]
  },
  {
   "cell_type": "code",
   "execution_count": null,
   "metadata": {},
   "outputs": [],
   "source": []
  },
  {
   "cell_type": "code",
   "execution_count": null,
   "metadata": {},
   "outputs": [],
   "source": []
  },
  {
   "cell_type": "code",
   "execution_count": null,
   "metadata": {},
   "outputs": [],
   "source": [
    "# simple linked list"
   ]
  },
  {
   "cell_type": "code",
   "execution_count": 1,
   "metadata": {},
   "outputs": [
    {
     "name": "stdout",
     "output_type": "stream",
     "text": [
      "[5, 4, 3, 2, 1]\n",
      "[1, 2, 3, 4, 5]\n",
      "test len = 5\n",
      "5\n",
      "4\n",
      "3\n",
      "2\n",
      "1\n",
      "test len = 0\n"
     ]
    }
   ],
   "source": [
    "class Node(object):\n",
    "    def __init__(self, value):\n",
    "        self._value = value\n",
    "        self._next = None\n",
    "\n",
    "    def value(self):\n",
    "        return self._value\n",
    "\n",
    "    def next(self):\n",
    "        return self._next\n",
    "\n",
    "\n",
    "class LinkedList(object):\n",
    "    def __init__(self, values=[]):\n",
    "        self._head = None\n",
    "        for value in values:\n",
    "            self.push(value)\n",
    "            \n",
    "    def __len__(self):\n",
    "        length = 0\n",
    "        node = self._head\n",
    "        while node:\n",
    "            length += 1\n",
    "            node = node._next\n",
    "        return length\n",
    "    \n",
    "    def head(self):\n",
    "        if self._head:\n",
    "            return self._head\n",
    "        else:\n",
    "            raise EmptyListException\n",
    "    \n",
    "    def push(self, value):\n",
    "        new_head = Node(value)\n",
    "        if self._head:\n",
    "            new_head._next = self._head\n",
    "        self._head = new_head\n",
    "    \n",
    "    def pop(self):\n",
    "        if self._head:\n",
    "            value = self._head.value()\n",
    "            self._head = self._head._next\n",
    "            return value\n",
    "        else:\n",
    "            raise EmptyListException\n",
    "\n",
    "    def __iter__(self):\n",
    "        self.iter_next = self._head\n",
    "        return self\n",
    "    \n",
    "    def __next__(self):\n",
    "        if self.iter_next:\n",
    "            value = self.iter_next.value()\n",
    "            self.iter_next = self.iter_next._next\n",
    "            return value\n",
    "        else:\n",
    "            raise StopIteration\n",
    "            \n",
    "    def reversed(self):\n",
    "        values = list(self)\n",
    "        return LinkedList(values)\n",
    "\n",
    "    \n",
    "class EmptyListException(Exception):\n",
    "    pass\n",
    "\n",
    "\n",
    "test = LinkedList([1, 2, 3, 4])\n",
    "test.push(5)\n",
    "print(list(test))\n",
    "print(list(test.reversed()))\n",
    "print(f'test len = {len(test)}')\n",
    "for _ in range(5):\n",
    "    print(test.pop())\n",
    "print(f'test len = {len(test)}')"
   ]
  },
  {
   "cell_type": "code",
   "execution_count": 2,
   "metadata": {},
   "outputs": [],
   "source": [
    "sut = LinkedList([3, 4, 5])\n",
    "assert sut.pop() == 5\n",
    "assert len(sut) == 2\n",
    "assert sut.head().value() == 4"
   ]
  },
  {
   "cell_type": "code",
   "execution_count": 3,
   "metadata": {},
   "outputs": [],
   "source": [
    "sut = LinkedList([1])\n",
    "assert sut.head().next() is None"
   ]
  },
  {
   "cell_type": "code",
   "execution_count": null,
   "metadata": {},
   "outputs": [],
   "source": []
  },
  {
   "cell_type": "code",
   "execution_count": null,
   "metadata": {},
   "outputs": [],
   "source": []
  },
  {
   "cell_type": "code",
   "execution_count": null,
   "metadata": {},
   "outputs": [],
   "source": [
    "# book store"
   ]
  },
  {
   "cell_type": "markdown",
   "metadata": {},
   "source": [
    "single copy is $8\n",
    "discounts for *different* books:\n",
    "- 2 - 5%\n",
    "- 3 - 10%\n",
    "- 4 - 20%\n",
    "- 5 - 25%\n",
    "\n",
    "ex: 1 1 2 3\n",
    "- (1 2 3)@10% disc, \n",
    "- 1@$8"
   ]
  },
  {
   "cell_type": "code",
   "execution_count": 1,
   "metadata": {},
   "outputs": [],
   "source": [
    "def take_unique(books):\n",
    "    uniques = []\n",
    "    remainder = []\n",
    "    for book in books:\n",
    "        if book in uniques:\n",
    "            remainder.append(book)\n",
    "        else:\n",
    "            uniques.append(book)\n",
    "    return uniques, remainder\n",
    "\n",
    "def calculate_total(books):\n",
    "    if not books:\n",
    "        return 0\n",
    "    set_prices = dict(zip(range(1, 6),\n",
    "                          [8, 16*0.95, 24*0.9, 32*0.8, 40*0.75]))\n",
    "    set_sizes = []\n",
    "    while books:\n",
    "        uniq, books = take_unique(books)\n",
    "        set_sizes.append(len(uniq))\n",
    "    new_price = sum([set_prices[ss] for ss in set_sizes])\n",
    "    while max(set_sizes) - min(set_sizes) > 1:\n",
    "        orig_price = new_price\n",
    "        set_sizes.sort()\n",
    "        set_sizes[0] += 1\n",
    "        set_sizes[-1] -= 1\n",
    "        new_price = sum([set_prices[ss] for ss in set_sizes])\n",
    "        if orig_price < new_price:\n",
    "            return orig_price\n",
    "    return new_price"
   ]
  },
  {
   "cell_type": "code",
   "execution_count": null,
   "metadata": {},
   "outputs": [],
   "source": []
  },
  {
   "cell_type": "code",
   "execution_count": null,
   "metadata": {},
   "outputs": [],
   "source": []
  },
  {
   "cell_type": "code",
   "execution_count": null,
   "metadata": {},
   "outputs": [],
   "source": [
    "# list_ops"
   ]
  },
  {
   "cell_type": "code",
   "execution_count": 1,
   "metadata": {},
   "outputs": [],
   "source": [
    "def append(xs, ys):\n",
    "    total_len = length(xs) + length(ys)\n",
    "    output = [None] * total_len\n",
    "    for xi, x in enumerate(xs):\n",
    "        output[xi] = x\n",
    "    for yi, y in enumerate(ys):\n",
    "        output[len(xs) + yi] = y\n",
    "    return output\n",
    "\n",
    "\n",
    "def concat(lists):\n",
    "    output = []\n",
    "    for list in lists:\n",
    "        output = append(output, list)\n",
    "    return output\n",
    "\n",
    "\n",
    "def filter_clone(function, xs):\n",
    "    output = []\n",
    "    for x in xs:\n",
    "        if function(x):\n",
    "            output = append(output, [x])\n",
    "    return output\n",
    "\n",
    "\n",
    "def length(xs):\n",
    "    item_ct = 0\n",
    "    for item in xs:\n",
    "        item_ct += 1\n",
    "    return item_ct\n",
    "\n",
    "\n",
    "def map_clone(function, xs):\n",
    "    return [function(x) for x in xs]\n",
    "\n",
    "\n",
    "def foldl(function, xs, acc):\n",
    "    if xs:\n",
    "        arg_zero = xs[0]\n",
    "        for x in xs[1:]:\n",
    "            arg_zero = function(arg_zero, x)\n",
    "        return function(arg_zero, acc)\n",
    "    else:\n",
    "        return function(1, acc)\n",
    "\n",
    "\n",
    "def foldr(function, xs, acc):\n",
    "    if xs:\n",
    "        arg_zero = function(xs[-1], acc)\n",
    "        for x in reverse(xs[:-1]):\n",
    "            arg_zero = function(x, arg_zero)\n",
    "        return arg_zero\n",
    "    else:\n",
    "        return function(acc, 1)\n",
    "\n",
    "\n",
    "def reverse(xs):\n",
    "    rev = xs[:]\n",
    "    for xi, x in enumerate(xs):\n",
    "        rev[-xi-1] = x\n",
    "    return rev\n",
    "\n",
    "assert append([1, 2], [3, 4]) == [1, 2, 3, 4]\n",
    "assert append([], []) == []\n",
    "assert concat([[1, 2], [3], [], [4, 5, 6]]) == [1, 2, 3, 4, 5, 6]\n",
    "assert reverse([1, 2, 3, 4]) == [4, 3, 2, 1]\n",
    "import operator\n",
    "assert foldl(operator.add, [1, 2, 3, 4], 5) == 15\n",
    "assert foldl(operator.mul, [], 2) == 2\n",
    "assert foldl(operator.floordiv, [2, 5], 5) == 0\n",
    "assert foldr(operator.floordiv, [2, 5], 5) == 2"
   ]
  },
  {
   "cell_type": "code",
   "execution_count": null,
   "metadata": {},
   "outputs": [],
   "source": []
  },
  {
   "cell_type": "code",
   "execution_count": null,
   "metadata": {},
   "outputs": [],
   "source": []
  },
  {
   "cell_type": "code",
   "execution_count": 1,
   "metadata": {},
   "outputs": [],
   "source": [
    "# binary_search"
   ]
  },
  {
   "cell_type": "code",
   "execution_count": 1,
   "metadata": {},
   "outputs": [
    {
     "data": {
      "text/plain": [
       "3"
      ]
     },
     "execution_count": 1,
     "metadata": {},
     "output_type": "execute_result"
    }
   ],
   "source": [
    "import time\n",
    "\n",
    "def binary_search(list_of_numbers, number):\n",
    "    start_index = 0\n",
    "    end_index = len(list_of_numbers) - 1\n",
    "    while end_index >= start_index:\n",
    "        middle_index = (start_index + end_index)//2\n",
    "        middle_number = list_of_numbers[middle_index]\n",
    "        if middle_number == number:\n",
    "            return middle_index\n",
    "        elif middle_number > number:\n",
    "            end_index = middle_index - 1\n",
    "        elif middle_number < number:\n",
    "            start_index = middle_index + 1\n",
    "    raise ValueError\n",
    "       \n",
    "\n",
    "test_list = list(range(10))\n",
    "binary_search(test_list, 3)"
   ]
  },
  {
   "cell_type": "code",
   "execution_count": null,
   "metadata": {},
   "outputs": [],
   "source": []
  },
  {
   "cell_type": "code",
   "execution_count": null,
   "metadata": {},
   "outputs": [],
   "source": []
  },
  {
   "cell_type": "code",
   "execution_count": null,
   "metadata": {},
   "outputs": [],
   "source": [
    "# poker"
   ]
  },
  {
   "cell_type": "code",
   "execution_count": 1,
   "metadata": {},
   "outputs": [],
   "source": [
    "from itertools import product\n",
    "from random import sample\n",
    "\n",
    "ranks = '2 3 4 5 6 7 8 9 10 J Q K A'.split()\n",
    "suits = 'S H C D'.split()\n",
    "deck = [r+s for r, s in product(ranks, suits)]"
   ]
  },
  {
   "cell_type": "code",
   "execution_count": 14,
   "metadata": {},
   "outputs": [],
   "source": [
    "from collections import Counter\n",
    "from operator import itemgetter\n",
    "\n",
    "\n",
    "def rank_and_suit_analysis(hand):\n",
    "    ranks = '2 3 4 5 6 7 8 9 10 J Q K A'.split()\n",
    "    rank_val_dict = dict(zip(ranks, range(2, 15)))\n",
    "    suit_counts = list(Counter([card[-1] for card in hand]).values())\n",
    "    ranks_counter = Counter([rank_val_dict[card[:-1]] for card in hand])\n",
    "    ranks_mc = sorted(ranks_counter.most_common(),\n",
    "                      key=itemgetter(1, 0), reverse=True)\n",
    "    ranks_for_counts, rank_counts = zip(*ranks_mc)\n",
    "    return suit_counts, rank_counts, ranks_for_counts\n",
    "\n",
    "\n",
    "def is_sequential(ranklist):\n",
    "    return sorted(ranklist) == list(range(min(ranklist), max(ranklist)+1))\n",
    "\n",
    "\n",
    "def score(hand):\n",
    "    suit_counts, rank_counts, ranks_for_counts = rank_and_suit_analysis(hand)\n",
    "    if suit_counts == [5] and is_sequential(ranks_for_counts):\n",
    "        hand_score = 9  # straight flush\n",
    "    elif rank_counts == (4, 1):\n",
    "        hand_score = 8  # four of a kind\n",
    "    elif rank_counts == (3, 2):\n",
    "        hand_score = 7  # full house\n",
    "    elif suit_counts == [5]:\n",
    "        hand_score = 6  # flush\n",
    "    elif is_sequential(ranks_for_counts):\n",
    "        hand_score = 5  # straight\n",
    "    elif rank_counts == (3, 1, 1):\n",
    "        hand_score = 4  # three of a kind\n",
    "    elif rank_counts == (2, 2, 1):\n",
    "        hand_score = 3  # two pair\n",
    "    elif rank_counts == (2, 1, 1, 1):\n",
    "        hand_score = 2  # pair\n",
    "    else:\n",
    "        hand_score = 1  # high card\n",
    "    return hand_score, ranks_for_counts\n",
    "\n",
    "\n",
    "def poker(hands):\n",
    "    scored_hands = sorted([(score(hand), hand) for hand in hands])\n",
    "    max_score = scored_hands[-1][0]\n",
    "    return [hand\n",
    "            for score, hand in scored_hands\n",
    "            if score == max_score]\n"
   ]
  },
  {
   "cell_type": "code",
   "execution_count": 3,
   "metadata": {},
   "outputs": [
    {
     "name": "stdout",
     "output_type": "stream",
     "text": [
      "(8, (5, 4))\n",
      "(5, (9, 8, 7, 6, 5))\n"
     ]
    },
    {
     "data": {
      "text/plain": [
       "[['4S', '5H', '5S', '5D', '5C']]"
      ]
     },
     "execution_count": 3,
     "metadata": {},
     "output_type": "execute_result"
    }
   ],
   "source": [
    "a = '4S 5H 5S 5D 5C'.split()\n",
    "b = '7S 8S 9S 6S 5S'.split()\n",
    "print(score(a))\n",
    "print(score(b))\n",
    "poker([a,b])"
   ]
  },
  {
   "cell_type": "code",
   "execution_count": 4,
   "metadata": {},
   "outputs": [
    {
     "data": {
      "text/plain": [
       "[['3S', '3H', '4S', '3D', '3C']]"
      ]
     },
     "execution_count": 4,
     "metadata": {},
     "output_type": "execute_result"
    }
   ],
   "source": [
    "fourOf3low = '3S 3H 2S 3D 3C'.split()\n",
    "fourOf3high = '3S 3H 4S 3D 3C'.split()\n",
    "\n",
    "poker([fourOf3high, fourOf3low])"
   ]
  },
  {
   "cell_type": "code",
   "execution_count": 5,
   "metadata": {},
   "outputs": [],
   "source": [
    "sflush = '8S 9S 10S JS QS'.split()\n",
    "foak = '4S 4C 4D 4H 10H'.split()\n",
    "fullh = '3S 3D 5D 5H 5C'.split()\n",
    "flush = '2C 4C 7C JC AC'.split()\n",
    "straight = '3S 4H 5D 6H 7C'.split()\n",
    "throak = '2S 4C 4D 4H 10H'.split()\n",
    "twop = '8S 8D 5D 5H JC'.split()\n",
    "pair = '3S 4S 4D 6H 7C'.split()\n",
    "high = '2S 4S 5D 8H JH'.split()"
   ]
  },
  {
   "cell_type": "code",
   "execution_count": 6,
   "metadata": {},
   "outputs": [
    {
     "data": {
      "text/plain": [
       "[['8S', '8D', '5D', '5H', 'JC']]"
      ]
     },
     "execution_count": 6,
     "metadata": {},
     "output_type": "execute_result"
    }
   ],
   "source": [
    "rand = sample(deck, 5)\n",
    "rand2 = sample(deck, 5)\n",
    "poker([rand, rand2, twop, pair])"
   ]
  },
  {
   "cell_type": "markdown",
   "metadata": {},
   "source": [
    "9: straight flush: sequential ranks, same suit\n",
    "8: four of a kind: four of same rank, kicker wins tie\n",
    "7: full house: three of a kind, and one pair\n",
    "6: flush: five cards of suit, non-sequential\n",
    "5: straight: five sequential cards of differing suits\n",
    "4: three of a kind: kickers break tie\n",
    "3: two pair: kbt\n",
    "2: one pair: \n",
    "1: high card:"
   ]
  },
  {
   "cell_type": "code",
   "execution_count": null,
   "metadata": {},
   "outputs": [],
   "source": []
  },
  {
   "cell_type": "code",
   "execution_count": null,
   "metadata": {},
   "outputs": [],
   "source": []
  },
  {
   "cell_type": "code",
   "execution_count": null,
   "metadata": {},
   "outputs": [],
   "source": [
    "# tree-building"
   ]
  },
  {
   "cell_type": "code",
   "execution_count": 1,
   "metadata": {},
   "outputs": [],
   "source": [
    "class Record():\n",
    "    def __init__(self, record_id, parent_id):\n",
    "        self.record_id = record_id\n",
    "        self.parent_id = parent_id\n",
    "\n",
    "\n",
    "class Node():\n",
    "    def __init__(self, node_id):\n",
    "        self.node_id = node_id\n",
    "        self.children = []\n",
    "\n",
    "\n",
    "def BuildTree(records):\n",
    "    root = None\n",
    "    records.sort(key=lambda x: x.record_id)\n",
    "    ordered_id = [i.record_id for i in records]\n",
    "    if records:\n",
    "        if ordered_id[-1] != len(ordered_id) - 1:\n",
    "            raise ValueError\n",
    "        if ordered_id[0] != 0:\n",
    "            raise ValueError\n",
    "    trees = []\n",
    "    parent = {}\n",
    "    for i in range(len(ordered_id)):\n",
    "        for j in records:\n",
    "            if ordered_id[i] == j.record_id:\n",
    "                if j.record_id == 0:\n",
    "                    if j.parent_id != 0:\n",
    "                        raise ValueError\n",
    "                if j.record_id < j.parent_id:\n",
    "                    raise ValueError\n",
    "                if j.record_id == j.parent_id:\n",
    "                    if j.record_id != 0:\n",
    "                        raise ValueError\n",
    "                trees.append(Node(ordered_id[i]))\n",
    "    for i in range(len(ordered_id)):\n",
    "        for j in trees:\n",
    "            if i == j.node_id:\n",
    "                parent = j\n",
    "        for j in records:\n",
    "            if j.parent_id == i:\n",
    "                for k in trees:\n",
    "                    if k.node_id == 0:\n",
    "                        continue\n",
    "                    if j.record_id == k.node_id:\n",
    "                        child = k\n",
    "                        parent.children.append(child)\n",
    "    if len(trees) > 0:\n",
    "        root = trees[0]\n",
    "    return root\n"
   ]
  },
  {
   "cell_type": "code",
   "execution_count": 2,
   "metadata": {},
   "outputs": [],
   "source": [
    "def find_parent(root, p_id):\n",
    "    to_visit = [root]\n",
    "    while to_visit:\n",
    "        node = to_visit.pop()\n",
    "        if node.node_id == p_id:\n",
    "            return node\n",
    "        else:\n",
    "            to_visit.extend(node.children)\n",
    "    raise ValueError\n",
    "\n",
    "    \n",
    "def BuildTree(records):\n",
    "    if not records:\n",
    "        return None\n",
    "    if not sorted([r.record_id for r in records]) == list(range(len(records))):\n",
    "        raise ValueError\n",
    "    records.sort(key=lambda x: (x.parent_id, x.record_id))\n",
    "    root = Node(0)\n",
    "    for rec in records[1:]:\n",
    "        if rec.parent_id >= rec.record_id:\n",
    "            raise ValueError\n",
    "        node = find_parent(root, rec.parent_id)\n",
    "        node.children.append(Node(rec.record_id))\n",
    "    return root"
   ]
  },
  {
   "cell_type": "code",
   "execution_count": 3,
   "metadata": {},
   "outputs": [],
   "source": [
    "records = [\n",
    "            Record(6, 2),\n",
    "            Record(0, 0),\n",
    "            Record(3, 1),\n",
    "            Record(2, 0),\n",
    "            Record(4, 1),\n",
    "            Record(5, 2),\n",
    "            Record(1, 0)\n",
    "        ]\n",
    "\n",
    "root = BuildTree(records)"
   ]
  },
  {
   "cell_type": "code",
   "execution_count": null,
   "metadata": {},
   "outputs": [],
   "source": []
  },
  {
   "cell_type": "code",
   "execution_count": null,
   "metadata": {},
   "outputs": [],
   "source": []
  },
  {
   "cell_type": "code",
   "execution_count": null,
   "metadata": {},
   "outputs": [],
   "source": [
    "# transpose"
   ]
  },
  {
   "cell_type": "code",
   "execution_count": 1,
   "metadata": {},
   "outputs": [],
   "source": [
    "from itertools import zip_longest\n",
    "\n",
    "\n",
    "def transpose(input_lines):\n",
    "    if not input_lines:\n",
    "        return ''\n",
    "    inp = [line.replace(' ', '~') for line in input_lines.split('\\n')]\n",
    "    transpose = list(map(lambda z: ''.join(z),\n",
    "                         zip_longest(*inp, fillvalue=' ')))\n",
    "    transpose = [line.rstrip().replace('~', ' ') for line in transpose]\n",
    "    return '\\n'.join(transpose)"
   ]
  },
  {
   "cell_type": "code",
   "execution_count": 2,
   "metadata": {},
   "outputs": [
    {
     "name": "stdout",
     "output_type": "stream",
     "text": [
      "tini\n",
      "hsos\n",
      "i t \n",
      "s  i\n",
      "  st\n",
      "  o\n",
      "   \n",
      "  h\n",
      "  a\n",
      "  r\n",
      "  d\n"
     ]
    }
   ],
   "source": [
    "print(transpose('this\\nis\\nnot so hard\\nis it'))"
   ]
  },
  {
   "cell_type": "code",
   "execution_count": null,
   "metadata": {},
   "outputs": [],
   "source": []
  },
  {
   "cell_type": "code",
   "execution_count": null,
   "metadata": {},
   "outputs": [],
   "source": []
  },
  {
   "cell_type": "code",
   "execution_count": null,
   "metadata": {},
   "outputs": [],
   "source": [
    "# dot_ds"
   ]
  },
  {
   "cell_type": "code",
   "execution_count": 1,
   "metadata": {},
   "outputs": [],
   "source": [
    "NODE, EDGE, ATTR = range(3)\n",
    "\n",
    "\n",
    "class Node(object):\n",
    "    def __init__(self, name, attrs={}):\n",
    "        self.name = name\n",
    "        self.attrs = attrs\n",
    "\n",
    "    def __eq__(self, other):\n",
    "        return self.name == other.name and self.attrs == other.attrs\n",
    "\n",
    "\n",
    "class Edge(object):\n",
    "    def __init__(self, src, dst, attrs={}):\n",
    "        self.src = src\n",
    "        self.dst = dst\n",
    "        self.attrs = attrs\n",
    "\n",
    "    def __eq__(self, other):\n",
    "        return (self.src == other.src and\n",
    "                self.dst == other.dst and\n",
    "                self.attrs == other.attrs)\n",
    "\n",
    "\n",
    "def validate_graph_data(data):\n",
    "    if not type(data) == list or min(map(len, data)) < 3:\n",
    "        raise TypeError\n",
    "    for k, *d in data:\n",
    "        dtypes = list(map(type, d))\n",
    "        if k not in (ATTR, NODE, EDGE):\n",
    "            raise ValueError\n",
    "        elif (\n",
    "                (k == ATTR and dtypes != [str, str]) or\n",
    "                (k == NODE and not (dtypes == [str, dict] or\n",
    "                                    dtypes == [str, set])) or\n",
    "                (k == EDGE and dtypes != [str, str, dict])\n",
    "             ):\n",
    "            raise ValueError\n",
    "\n",
    "\n",
    "class Graph(object):\n",
    "    def __init__(self, data=[]):\n",
    "        self.attrs = {}\n",
    "        self.nodes = []\n",
    "        self.edges = []\n",
    "        if data:\n",
    "            validate_graph_data(data)\n",
    "            self.assign(data)\n",
    "\n",
    "    def assign(self, data):\n",
    "        for k, *d in data:\n",
    "            if k == ATTR:\n",
    "                self.attrs[d[0]] = d[1]\n",
    "            elif k == NODE:\n",
    "                self.nodes.append(Node(*d))\n",
    "            elif k == EDGE:\n",
    "                self.edges.append(Edge(*d))\n"
   ]
  },
  {
   "cell_type": "code",
   "execution_count": 2,
   "metadata": {},
   "outputs": [
    {
     "data": {
      "text/plain": [
       "3"
      ]
     },
     "execution_count": 2,
     "metadata": {},
     "output_type": "execute_result"
    }
   ],
   "source": [
    "data = [(ATTR, \"foo\", \"1\"),\n",
    "        (ATTR, \"title\", \"Testing Attrs\"),\n",
    "        (NODE, \"a\", {\"color\": \"green\"}),\n",
    "        (NODE, \"c\", {}),\n",
    "        (NODE, \"b\", {\"label\", \"Beta!\"}),\n",
    "        (EDGE, \"b\", \"c\", {}),\n",
    "        (EDGE, \"a\", \"b\", {\"color\": \"blue\"}),\n",
    "        (ATTR, \"bar\", \"true\"),\n",
    "        ]\n",
    "\n",
    "min(map(len, data))"
   ]
  },
  {
   "cell_type": "code",
   "execution_count": 3,
   "metadata": {},
   "outputs": [],
   "source": [
    "g = Graph(data)"
   ]
  },
  {
   "cell_type": "code",
   "execution_count": 4,
   "metadata": {},
   "outputs": [
    {
     "data": {
      "text/plain": [
       "[<__main__.Node at 0x108088668>,\n",
       " <__main__.Node at 0x108088d30>,\n",
       " <__main__.Node at 0x108088cf8>]"
      ]
     },
     "execution_count": 4,
     "metadata": {},
     "output_type": "execute_result"
    }
   ],
   "source": [
    "g.nodes"
   ]
  },
  {
   "cell_type": "code",
   "execution_count": null,
   "metadata": {},
   "outputs": [],
   "source": []
  },
  {
   "cell_type": "code",
   "execution_count": null,
   "metadata": {},
   "outputs": [],
   "source": []
  },
  {
   "cell_type": "code",
   "execution_count": 1,
   "metadata": {},
   "outputs": [],
   "source": [
    "# triangle"
   ]
  },
  {
   "cell_type": "code",
   "execution_count": 1,
   "metadata": {},
   "outputs": [],
   "source": [
    "class TriangleError(Exception):\n",
    "    pass\n",
    "\n",
    "\n",
    "class Triangle(object):\n",
    "    def __init__(self, side_a, side_b, side_c):\n",
    "        self.validate(side_a, side_b, side_c)\n",
    "        self._a = side_a\n",
    "        self._b = side_b\n",
    "        self._c = side_c\n",
    "    \n",
    "    @staticmethod\n",
    "    def validate(a, b, c):\n",
    "        if min(a, b, c) <= 0 or max(a, b, c) >= sum([a, b, c]) - max(a, b, c):\n",
    "            raise TriangleError\n",
    "\n",
    "    def kind(self):\n",
    "        uniq_to_kind = {1: 'equilateral', 2: 'isosceles', 3: 'scalene'}\n",
    "        return uniq_to_kind[len({self._a, self._b, self._c})]\n",
    " "
   ]
  },
  {
   "cell_type": "code",
   "execution_count": 2,
   "metadata": {},
   "outputs": [
    {
     "data": {
      "text/plain": [
       "'scalene'"
      ]
     },
     "execution_count": 2,
     "metadata": {},
     "output_type": "execute_result"
    }
   ],
   "source": [
    "t = Triangle(3, 4, 5)\n",
    "t.kind()"
   ]
  },
  {
   "cell_type": "code",
   "execution_count": null,
   "metadata": {},
   "outputs": [],
   "source": []
  },
  {
   "cell_type": "code",
   "execution_count": null,
   "metadata": {},
   "outputs": [],
   "source": []
  },
  {
   "cell_type": "code",
   "execution_count": 15,
   "metadata": {},
   "outputs": [],
   "source": [
    "# house"
   ]
  },
  {
   "cell_type": "code",
   "execution_count": 1,
   "metadata": {},
   "outputs": [],
   "source": [
    "def verse(vn):\n",
    "    lines = (('the house that Jack built.', ''),\n",
    "             ('the malt', 'lay in'),\n",
    "             ('the rat', 'ate'),\n",
    "             ('the cat', 'killed'),\n",
    "             ('the dog', 'worried'),\n",
    "             ('the cow with the crumpled horn', 'tossed'),\n",
    "             ('the maiden all forlorn', 'milked'),\n",
    "             ('the man all tattered and torn', 'kissed'),\n",
    "             ('the priest all shaven and shorn', 'married'),\n",
    "             ('the rooster that crowed in the morn', 'woke'),\n",
    "             ('the farmer sowing his corn', 'kept'),\n",
    "             ('the horse and the hound and the horn', 'belonged to'))\n",
    "    verse = 'This is '\n",
    "    for n in range(vn, -1 , -1):\n",
    "        noun, verb = lines[n]\n",
    "        verse += noun\n",
    "        verse += f'\\nthat {verb} ' if verb else '\\n'\n",
    "    return verse.strip()\n",
    "\n",
    "\n",
    "def rhyme():\n",
    "    return '\\n\\n'.join([verse(n) for n in range(12)])"
   ]
  },
  {
   "cell_type": "code",
   "execution_count": 2,
   "metadata": {},
   "outputs": [
    {
     "name": "stdout",
     "output_type": "stream",
     "text": [
      "This is the rat\n",
      "that ate the malt\n",
      "that lay in the house that Jack built.\n"
     ]
    }
   ],
   "source": [
    "print(verse(2))"
   ]
  },
  {
   "cell_type": "code",
   "execution_count": 3,
   "metadata": {
    "scrolled": false
   },
   "outputs": [
    {
     "name": "stdout",
     "output_type": "stream",
     "text": [
      "This is the house that Jack built.\n",
      "\n",
      "This is the malt\n",
      "that lay in the house that Jack built.\n",
      "\n",
      "This is the rat\n",
      "that ate the malt\n",
      "that lay in the house that Jack built.\n",
      "\n",
      "This is the cat\n",
      "that killed the rat\n",
      "that ate the malt\n",
      "that lay in the house that Jack built.\n",
      "\n",
      "This is the dog\n",
      "that worried the cat\n",
      "that killed the rat\n",
      "that ate the malt\n",
      "that lay in the house that Jack built.\n",
      "\n",
      "This is the cow with the crumpled horn\n",
      "that tossed the dog\n",
      "that worried the cat\n",
      "that killed the rat\n",
      "that ate the malt\n",
      "that lay in the house that Jack built.\n",
      "\n",
      "This is the maiden all forlorn\n",
      "that milked the cow with the crumpled horn\n",
      "that tossed the dog\n",
      "that worried the cat\n",
      "that killed the rat\n",
      "that ate the malt\n",
      "that lay in the house that Jack built.\n",
      "\n",
      "This is the man all tattered and torn\n",
      "that kissed the maiden all forlorn\n",
      "that milked the cow with the crumpled horn\n",
      "that tossed the dog\n",
      "that worried the cat\n",
      "that killed the rat\n",
      "that ate the malt\n",
      "that lay in the house that Jack built.\n",
      "\n",
      "This is the priest all shaven and shorn\n",
      "that married the man all tattered and torn\n",
      "that kissed the maiden all forlorn\n",
      "that milked the cow with the crumpled horn\n",
      "that tossed the dog\n",
      "that worried the cat\n",
      "that killed the rat\n",
      "that ate the malt\n",
      "that lay in the house that Jack built.\n",
      "\n",
      "This is the rooster that crowed in the morn\n",
      "that woke the priest all shaven and shorn\n",
      "that married the man all tattered and torn\n",
      "that kissed the maiden all forlorn\n",
      "that milked the cow with the crumpled horn\n",
      "that tossed the dog\n",
      "that worried the cat\n",
      "that killed the rat\n",
      "that ate the malt\n",
      "that lay in the house that Jack built.\n",
      "\n",
      "This is the farmer sowing his corn\n",
      "that kept the rooster that crowed in the morn\n",
      "that woke the priest all shaven and shorn\n",
      "that married the man all tattered and torn\n",
      "that kissed the maiden all forlorn\n",
      "that milked the cow with the crumpled horn\n",
      "that tossed the dog\n",
      "that worried the cat\n",
      "that killed the rat\n",
      "that ate the malt\n",
      "that lay in the house that Jack built.\n",
      "\n",
      "This is the horse and the hound and the horn\n",
      "that belonged to the farmer sowing his corn\n",
      "that kept the rooster that crowed in the morn\n",
      "that woke the priest all shaven and shorn\n",
      "that married the man all tattered and torn\n",
      "that kissed the maiden all forlorn\n",
      "that milked the cow with the crumpled horn\n",
      "that tossed the dog\n",
      "that worried the cat\n",
      "that killed the rat\n",
      "that ate the malt\n",
      "that lay in the house that Jack built.\n"
     ]
    }
   ],
   "source": [
    "print(rhyme())"
   ]
  },
  {
   "cell_type": "code",
   "execution_count": null,
   "metadata": {},
   "outputs": [],
   "source": []
  },
  {
   "cell_type": "code",
   "execution_count": null,
   "metadata": {},
   "outputs": [],
   "source": []
  },
  {
   "cell_type": "code",
   "execution_count": null,
   "metadata": {},
   "outputs": [],
   "source": [
    "# ocr_numbers"
   ]
  },
  {
   "cell_type": "code",
   "execution_count": 1,
   "metadata": {},
   "outputs": [],
   "source": [
    "num_grid = [\"    _  _ \",\n",
    "            \"  | _| _|\",\n",
    "            \"  ||_  _|\",\n",
    "            \"         \",\n",
    "            \"    _  _ \",\n",
    "            \"|_||_ |_ \",\n",
    "            \"  | _||_|\",\n",
    "            \"         \",\n",
    "            \" _  _  _ \",\n",
    "            \"  ||_||_|\",\n",
    "            \"  ||_| _|\",\n",
    "            \"         \",\n",
    "            ]"
   ]
  },
  {
   "cell_type": "code",
   "execution_count": 2,
   "metadata": {},
   "outputs": [],
   "source": [
    "num_grid = [\n",
    "            \"       _     _        _  _ \",\n",
    "            \"  |  || |  || |  |  || || |\",\n",
    "            \"  |  ||_|  ||_|  |  ||_||_|\",\n",
    "            \"                           \"\n",
    "        ]"
   ]
  },
  {
   "cell_type": "code",
   "execution_count": 3,
   "metadata": {},
   "outputs": [],
   "source": [
    "def convert(input_grid):\n",
    "    line_lens_vary = len(set(map(len, input_grid))) != 1\n",
    "    if line_lens_vary or len(input_grid) % 4 != 0 or len(input_grid[0]) % 3 != 0:\n",
    "        raise ValueError\n",
    "    segs_to_digit = {(' _ ', '| |', '|_|', '   '): '0',\n",
    "                     ('   ', '  |', '  |', '   '): '1',\n",
    "                     (' _ ', ' _|', '|_ ', '   '): '2',\n",
    "                     (' _ ', ' _|', ' _|', '   '): '3',\n",
    "                     ('   ', '|_|', '  |', '   '): '4',\n",
    "                     (' _ ', '|_ ', ' _|', '   '): '5',\n",
    "                     (' _ ', '|_ ', '|_|', '   '): '6',\n",
    "                     (' _ ', '  |', '  |', '   '): '7',\n",
    "                     (' _ ', '|_|', '|_|', '   '): '8',\n",
    "                     (' _ ', '|_|', ' _|', '   '): '9'}\n",
    "    row_ct = len(input_grid)//4\n",
    "    out = []\n",
    "    for drn in range(row_ct):\n",
    "        dig_row = input_grid[drn*4:drn*4+4]\n",
    "        row_digits_ct = len(dig_row[0])//3\n",
    "        row = ''\n",
    "        for rdn in range(row_digits_ct):\n",
    "            digit = [line[rdn*3:rdn*3+3] for line in dig_row]\n",
    "            row += segs_to_digit.get(tuple(digit), '?')\n",
    "        out.append(row)\n",
    "    return ','.join(out)"
   ]
  },
  {
   "cell_type": "code",
   "execution_count": 4,
   "metadata": {},
   "outputs": [
    {
     "data": {
      "text/plain": [
       "'110101100'"
      ]
     },
     "execution_count": 4,
     "metadata": {},
     "output_type": "execute_result"
    }
   ],
   "source": [
    "convert(num_grid)"
   ]
  },
  {
   "cell_type": "code",
   "execution_count": null,
   "metadata": {},
   "outputs": [],
   "source": []
  },
  {
   "cell_type": "code",
   "execution_count": null,
   "metadata": {},
   "outputs": [],
   "source": []
  },
  {
   "cell_type": "code",
   "execution_count": null,
   "metadata": {},
   "outputs": [],
   "source": [
    "# phone_number"
   ]
  },
  {
   "cell_type": "code",
   "execution_count": 1,
   "metadata": {},
   "outputs": [
    {
     "data": {
      "text/plain": [
       "(<__main__.Phone at 0x10c27f2e8>, '223', '(223) 456-7890')"
      ]
     },
     "execution_count": 1,
     "metadata": {},
     "output_type": "execute_result"
    }
   ],
   "source": [
    "class Phone(object):\n",
    "    def __init__(self, phone_number):\n",
    "        self._raw = phone_number\n",
    "        ph = ''.join(ch for ch in phone_number if ch.isdigit())\n",
    "        ph = ph[1:] if len(ph)==11 and ph[0] == '1' else ph\n",
    "        if len(ph) != 10 or int(ph[0])<2 or int(ph[3])<2:\n",
    "            raise ValueError\n",
    "        self.number = ph\n",
    "    \n",
    "    @property\n",
    "    def area_code(self):\n",
    "        return self.number[:3]\n",
    "    \n",
    "    def pretty(self):\n",
    "        ph = self.number\n",
    "        return f'({ph[:3]}) {ph[3:6]}-{ph[6:]}'\n",
    "\n",
    "ph = Phone('2234567890')\n",
    "ph, ph.area_code, ph.pretty()"
   ]
  },
  {
   "cell_type": "code",
   "execution_count": null,
   "metadata": {},
   "outputs": [],
   "source": []
  },
  {
   "cell_type": "code",
   "execution_count": null,
   "metadata": {},
   "outputs": [],
   "source": []
  },
  {
   "cell_type": "code",
   "execution_count": 1,
   "metadata": {
    "code_folding": []
   },
   "outputs": [],
   "source": [
    "# wordy"
   ]
  },
  {
   "cell_type": "code",
   "execution_count": 1,
   "metadata": {
    "code_folding": []
   },
   "outputs": [],
   "source": [
    "def split_on_digit(q):\n",
    "    f = 'X'\n",
    "    fa = ''\n",
    "    while f.isalpha():\n",
    "        fa = fa + ' ' + f\n",
    "        f, q = q.split(maxsplit=1)\n",
    "    return fa[3:], int(f), q\n",
    "\n",
    "def calculate(question):\n",
    "    q = question.replace('?', ' ?')\n",
    "    _, operand, rest = split_on_digit(q)\n",
    "    is_continuing = True\n",
    "    while is_continuing:\n",
    "        operator, operand_2, rest = split_on_digit(rest)\n",
    "        ops_dict = {'plus': operand + operand_2,\n",
    "                   'minus': operand - operand_2,\n",
    "                   'multiplied by': operand * operand_2,\n",
    "                   'divided by': operand / operand_2}\n",
    "        operand = ops_dict.get(operator, 'ERROR')\n",
    "        if operand == 'ERROR':\n",
    "            raise ValueError\n",
    "        if rest == '?':\n",
    "            is_continuing = False\n",
    "    return operand"
   ]
  },
  {
   "cell_type": "code",
   "execution_count": 2,
   "metadata": {
    "code_folding": []
   },
   "outputs": [
    {
     "data": {
      "text/plain": [
       "-77.0"
      ]
     },
     "execution_count": 2,
     "metadata": {},
     "output_type": "execute_result"
    }
   ],
   "source": [
    "question = \"What is -333 divided by 3 plus 1 minus -33?\"\n",
    "calculate(question)"
   ]
  },
  {
   "cell_type": "code",
   "execution_count": null,
   "metadata": {},
   "outputs": [],
   "source": []
  },
  {
   "cell_type": "code",
   "execution_count": null,
   "metadata": {},
   "outputs": [],
   "source": []
  },
  {
   "cell_type": "code",
   "execution_count": null,
   "metadata": {},
   "outputs": [],
   "source": [
    "# queen attack"
   ]
  },
  {
   "cell_type": "code",
   "execution_count": 1,
   "metadata": {},
   "outputs": [],
   "source": [
    "def board(white_position, black_position):\n",
    "    board = [['_']*8]*8\n",
    "    for (r, c), ch in zip((white_position, black_position), ('W', 'B')):\n",
    "        if min(r, c) < 0 or max(r, c) > 7 or white_position==black_position:\n",
    "            raise ValueError\n",
    "        rm = board[r][:]\n",
    "        rm[c] = ch\n",
    "        board[r] = rm\n",
    "    return list(map(lambda r: ''.join(r), board))\n",
    "\n",
    "\n",
    "def can_attack(white_position, black_position):\n",
    "    wr, wc = white_position\n",
    "    br, bc = black_position\n",
    "    if min(wr, wc, br, bc) < 0 or max(wr, wc, br, bc) > 7 or (wr, wc)==(br, bc):\n",
    "        raise ValueError\n",
    "    return wr==br or wc==bc or abs(wr-br)==abs(wc-bc)"
   ]
  },
  {
   "cell_type": "code",
   "execution_count": 2,
   "metadata": {},
   "outputs": [
    {
     "data": {
      "text/plain": [
       "['________',\n",
       " '________',\n",
       " '___W____',\n",
       " '________',\n",
       " '________',\n",
       " '______B_',\n",
       " '________',\n",
       " '________']"
      ]
     },
     "execution_count": 2,
     "metadata": {},
     "output_type": "execute_result"
    }
   ],
   "source": [
    "board((2, 3), (5, 6))"
   ]
  },
  {
   "cell_type": "code",
   "execution_count": null,
   "metadata": {},
   "outputs": [],
   "source": []
  },
  {
   "cell_type": "code",
   "execution_count": null,
   "metadata": {},
   "outputs": [],
   "source": []
  },
  {
   "cell_type": "code",
   "execution_count": null,
   "metadata": {},
   "outputs": [],
   "source": [
    "# minesweeper"
   ]
  },
  {
   "cell_type": "code",
   "execution_count": 1,
   "metadata": {},
   "outputs": [],
   "source": [
    "def star_ct(r, c, inp):\n",
    "    row_ct = len(inp)\n",
    "    col_ct = len(inp[0])\n",
    "    stars = 0\n",
    "    for ri in [r-1, r, r+1]:\n",
    "        for ci in [c-1, c, c+1]:\n",
    "            if 0 <= ri < row_ct and 0 <= ci < col_ct:\n",
    "                if inp[ri][ci] == '*':\n",
    "                    stars += 1\n",
    "    return str(stars) if stars else ' '\n",
    "\n",
    "def board(input_board_array):\n",
    "    if len(set(map(len, input_board_array))) > 1:\n",
    "        raise ValueError('rows are not of equal length')\n",
    "    out = []\n",
    "    for r, row in enumerate(input_board_array):\n",
    "        out_row = []\n",
    "        for c, val in enumerate(row):\n",
    "            if val == ' ':\n",
    "                out_row.append(star_ct(r, c, input_board_array))\n",
    "            elif val == '*':\n",
    "                out_row.append('*')\n",
    "            else:\n",
    "                raise ValueError('invalid char encountered')\n",
    "        out.append(''.join(out_row))\n",
    "    return out"
   ]
  },
  {
   "cell_type": "code",
   "execution_count": 2,
   "metadata": {},
   "outputs": [
    {
     "data": {
      "text/plain": [
       "['***', '*8*', '***']"
      ]
     },
     "execution_count": 2,
     "metadata": {},
     "output_type": "execute_result"
    }
   ],
   "source": [
    "inp = [\"***\", \"* *\", \"***\"]\n",
    "board(inp)"
   ]
  },
  {
   "cell_type": "code",
   "execution_count": 3,
   "metadata": {},
   "outputs": [
    {
     "data": {
      "text/plain": [
       "['1*2*1']"
      ]
     },
     "execution_count": 3,
     "metadata": {},
     "output_type": "execute_result"
    }
   ],
   "source": [
    "inp = [\" * * \"]\n",
    "board(inp)"
   ]
  },
  {
   "cell_type": "code",
   "execution_count": 4,
   "metadata": {},
   "outputs": [
    {
     "data": {
      "text/plain": [
       "['1', '*', '2', '*', '1']"
      ]
     },
     "execution_count": 4,
     "metadata": {},
     "output_type": "execute_result"
    }
   ],
   "source": [
    "inp = [\" \",\n",
    "       \"*\",\n",
    "       \" \",\n",
    "       \"*\",\n",
    "       \" \"]\n",
    "board(inp)"
   ]
  },
  {
   "cell_type": "code",
   "execution_count": 5,
   "metadata": {},
   "outputs": [
    {
     "ename": "ValueError",
     "evalue": "rows are not of equal length",
     "output_type": "error",
     "traceback": [
      "\u001b[0;31m---------------------------------------------------------------------------\u001b[0m",
      "\u001b[0;31mValueError\u001b[0m                                Traceback (most recent call last)",
      "\u001b[0;32m<ipython-input-5-75541d0135ec>\u001b[0m in \u001b[0;36m<module>\u001b[0;34m()\u001b[0m\n\u001b[1;32m      4\u001b[0m        \u001b[0;34m\" \"\u001b[0m\u001b[0;34m,\u001b[0m\u001b[0;34m\u001b[0m\u001b[0m\n\u001b[1;32m      5\u001b[0m        \"*\"]\n\u001b[0;32m----> 6\u001b[0;31m \u001b[0mboard\u001b[0m\u001b[0;34m(\u001b[0m\u001b[0minp\u001b[0m\u001b[0;34m)\u001b[0m\u001b[0;34m\u001b[0m\u001b[0m\n\u001b[0m",
      "\u001b[0;32m<ipython-input-1-68c336c4db66>\u001b[0m in \u001b[0;36mboard\u001b[0;34m(input_board_array)\u001b[0m\n\u001b[1;32m     12\u001b[0m \u001b[0;32mdef\u001b[0m \u001b[0mboard\u001b[0m\u001b[0;34m(\u001b[0m\u001b[0minput_board_array\u001b[0m\u001b[0;34m)\u001b[0m\u001b[0;34m:\u001b[0m\u001b[0;34m\u001b[0m\u001b[0m\n\u001b[1;32m     13\u001b[0m     \u001b[0;32mif\u001b[0m \u001b[0mlen\u001b[0m\u001b[0;34m(\u001b[0m\u001b[0mset\u001b[0m\u001b[0;34m(\u001b[0m\u001b[0mmap\u001b[0m\u001b[0;34m(\u001b[0m\u001b[0mlen\u001b[0m\u001b[0;34m,\u001b[0m \u001b[0minput_board_array\u001b[0m\u001b[0;34m)\u001b[0m\u001b[0;34m)\u001b[0m\u001b[0;34m)\u001b[0m \u001b[0;34m>\u001b[0m \u001b[0;36m1\u001b[0m\u001b[0;34m:\u001b[0m\u001b[0;34m\u001b[0m\u001b[0m\n\u001b[0;32m---> 14\u001b[0;31m         \u001b[0;32mraise\u001b[0m \u001b[0mValueError\u001b[0m\u001b[0;34m(\u001b[0m\u001b[0;34m'rows are not of equal length'\u001b[0m\u001b[0;34m)\u001b[0m\u001b[0;34m\u001b[0m\u001b[0m\n\u001b[0m\u001b[1;32m     15\u001b[0m     \u001b[0mout\u001b[0m \u001b[0;34m=\u001b[0m \u001b[0;34m[\u001b[0m\u001b[0;34m]\u001b[0m\u001b[0;34m\u001b[0m\u001b[0m\n\u001b[1;32m     16\u001b[0m     \u001b[0;32mfor\u001b[0m \u001b[0mr\u001b[0m\u001b[0;34m,\u001b[0m \u001b[0mrow\u001b[0m \u001b[0;32min\u001b[0m \u001b[0menumerate\u001b[0m\u001b[0;34m(\u001b[0m\u001b[0minput_board_array\u001b[0m\u001b[0;34m)\u001b[0m\u001b[0;34m:\u001b[0m\u001b[0;34m\u001b[0m\u001b[0m\n",
      "\u001b[0;31mValueError\u001b[0m: rows are not of equal length"
     ]
    }
   ],
   "source": [
    "inp = [\"*\",\n",
    "       \" \",\n",
    "       \"  \",\n",
    "       \" \",\n",
    "       \"*\"]\n",
    "board(inp)"
   ]
  },
  {
   "cell_type": "code",
   "execution_count": null,
   "metadata": {},
   "outputs": [],
   "source": []
  },
  {
   "cell_type": "code",
   "execution_count": null,
   "metadata": {},
   "outputs": [],
   "source": []
  },
  {
   "cell_type": "code",
   "execution_count": null,
   "metadata": {},
   "outputs": [],
   "source": [
    "# check_brackets"
   ]
  },
  {
   "cell_type": "code",
   "execution_count": 1,
   "metadata": {},
   "outputs": [
    {
     "data": {
      "text/plain": [
       "(False, True)"
      ]
     },
     "execution_count": 1,
     "metadata": {},
     "output_type": "execute_result"
    }
   ],
   "source": [
    "def check_brackets(input_string):\n",
    "    br_opening = '{[('\n",
    "    br_closing = '}])'\n",
    "    br_closes = dict(zip(br_closing, br_opening))\n",
    "    br_stack = []\n",
    "    for ch in input_string:\n",
    "        if ch in br_opening:\n",
    "            br_stack.append(ch)\n",
    "        if ch in br_closing:\n",
    "            if br_stack and br_closes[ch] == br_stack[-1]:\n",
    "                br_stack.pop()\n",
    "            else:\n",
    "                return False\n",
    "    return br_stack == []\n",
    "        \n",
    "\n",
    "\n",
    "check_brackets(\"[({]})\"), check_brackets(\"([{}({}[])])\")"
   ]
  },
  {
   "cell_type": "code",
   "execution_count": null,
   "metadata": {},
   "outputs": [],
   "source": []
  },
  {
   "cell_type": "code",
   "execution_count": null,
   "metadata": {},
   "outputs": [],
   "source": []
  }
 ],
 "metadata": {
  "kernelspec": {
   "display_name": "Python 3",
   "language": "python",
   "name": "python3"
  },
  "language_info": {
   "codemirror_mode": {
    "name": "ipython",
    "version": 3
   },
   "file_extension": ".py",
   "mimetype": "text/x-python",
   "name": "python",
   "nbconvert_exporter": "python",
   "pygments_lexer": "ipython3",
   "version": "3.6.3"
  }
 },
 "nbformat": 4,
 "nbformat_minor": 2
}
