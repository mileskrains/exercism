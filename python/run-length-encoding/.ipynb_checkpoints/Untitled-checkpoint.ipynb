{
 "cells": [
  {
   "cell_type": "markdown",
   "metadata": {},
   "source": [
    "need to fix the single character sequences, encoding with out the digit "
   ]
  },
  {
   "cell_type": "code",
   "execution_count": 97,
   "metadata": {},
   "outputs": [],
   "source": [
    "def encode(plaintext):\n",
    "    prior = ''\n",
    "    count = 1\n",
    "    encoding = ''\n",
    "    def _count_string(ct):\n",
    "        return str(ct) if ct > 1 else ''\n",
    "    \n",
    "    for char in plaintext:\n",
    "        if char == prior:\n",
    "            count += 1\n",
    "        else:\n",
    "            encoding = encoding + _count_string(count) + prior\n",
    "            count = 1\n",
    "        prior = char\n",
    "    encoding = encoding + _count_string(count) + prior\n",
    "    return encoding"
   ]
  },
  {
   "cell_type": "code",
   "execution_count": 98,
   "metadata": {},
   "outputs": [],
   "source": [
    "def decode(encoding):\n",
    "    digits = ''\n",
    "    decoding = ''\n",
    "    def _count_int(digits):\n",
    "        return 1 if digits == '' else int(digits)\n",
    "    for char in encoding:\n",
    "        if char in '1234567890':\n",
    "            digits = digits + char\n",
    "        else:\n",
    "            decoding = decoding + _count_int(digits) * char\n",
    "            digits = ''\n",
    "    return decoding"
   ]
  },
  {
   "cell_type": "code",
   "execution_count": 99,
   "metadata": {},
   "outputs": [
    {
     "name": "stdout",
     "output_type": "stream",
     "text": [
      "4a2b5a3b4c4bababa5b4c3babcb3c2a\n",
      "aaaabbaaaaabbbccccbbbbabababbbbbccccbbbabcbcccaa\n"
     ]
    },
    {
     "data": {
      "text/plain": [
       "True"
      ]
     },
     "execution_count": 99,
     "metadata": {},
     "output_type": "execute_result"
    }
   ],
   "source": [
    "ts = 'aaaabbaaaaabbbccccbbbbabababbbbbccccbbbabcbcccaa'\n",
    "te = encode(ts)\n",
    "print(te)\n",
    "tsc = decode(te)\n",
    "print(tsc)\n",
    "ts == tsc"
   ]
  },
  {
   "cell_type": "code",
   "execution_count": 100,
   "metadata": {},
   "outputs": [
    {
     "name": "stdout",
     "output_type": "stream",
     "text": [
      "4 5a3-2ab3c2b4_ababa2b2c3babcba\n",
      "    aaaaa---aabcccbb____abababbccbbbabcba\n"
     ]
    },
    {
     "data": {
      "text/plain": [
       "True"
      ]
     },
     "execution_count": 100,
     "metadata": {},
     "output_type": "execute_result"
    }
   ],
   "source": [
    "ts = '    aaaaa---aabcccbb____abababbccbbbabcba'\n",
    "te = encode(ts)\n",
    "print(te)\n",
    "tsc = decode(te)\n",
    "print(tsc)\n",
    "ts == tsc"
   ]
  },
  {
   "cell_type": "code",
   "execution_count": 101,
   "metadata": {},
   "outputs": [
    {
     "name": "stdout",
     "output_type": "stream",
     "text": [
      "A\n",
      "A\n"
     ]
    },
    {
     "data": {
      "text/plain": [
       "True"
      ]
     },
     "execution_count": 101,
     "metadata": {},
     "output_type": "execute_result"
    }
   ],
   "source": [
    "ts = 'A'\n",
    "te = encode(ts)\n",
    "print(te)\n",
    "tsc = decode(te)\n",
    "print(tsc)\n",
    "ts == tsc"
   ]
  },
  {
   "cell_type": "code",
   "execution_count": 102,
   "metadata": {},
   "outputs": [
    {
     "name": "stdout",
     "output_type": "stream",
     "text": [
      "\n",
      "\n"
     ]
    },
    {
     "data": {
      "text/plain": [
       "True"
      ]
     },
     "execution_count": 102,
     "metadata": {},
     "output_type": "execute_result"
    }
   ],
   "source": [
    "ts = ''\n",
    "te = encode(ts)\n",
    "print(te)\n",
    "tsc = decode(te)\n",
    "print(tsc)\n",
    "ts == tsc"
   ]
  },
  {
   "cell_type": "code",
   "execution_count": 95,
   "metadata": {},
   "outputs": [
    {
     "data": {
      "text/plain": [
       "'a'"
      ]
     },
     "execution_count": 95,
     "metadata": {},
     "output_type": "execute_result"
    }
   ],
   "source": [
    "decode('a')"
   ]
  },
  {
   "cell_type": "code",
   "execution_count": 96,
   "metadata": {},
   "outputs": [
    {
     "data": {
      "text/plain": [
       "''"
      ]
     },
     "execution_count": 96,
     "metadata": {},
     "output_type": "execute_result"
    }
   ],
   "source": [
    "decode('')"
   ]
  },
  {
   "cell_type": "code",
   "execution_count": null,
   "metadata": {},
   "outputs": [],
   "source": []
  },
  {
   "cell_type": "code",
   "execution_count": null,
   "metadata": {},
   "outputs": [],
   "source": []
  },
  {
   "cell_type": "code",
   "execution_count": null,
   "metadata": {},
   "outputs": [],
   "source": []
  },
  {
   "cell_type": "code",
   "execution_count": null,
   "metadata": {},
   "outputs": [],
   "source": []
  }
 ],
 "metadata": {
  "kernelspec": {
   "display_name": "Python 3",
   "language": "python",
   "name": "python3"
  },
  "language_info": {
   "codemirror_mode": {
    "name": "ipython",
    "version": 3
   },
   "file_extension": ".py",
   "mimetype": "text/x-python",
   "name": "python",
   "nbconvert_exporter": "python",
   "pygments_lexer": "ipython3",
   "version": "3.6.3"
  }
 },
 "nbformat": 4,
 "nbformat_minor": 2
}
