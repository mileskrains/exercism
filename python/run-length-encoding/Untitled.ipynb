{
 "cells": [
  {
   "cell_type": "code",
   "execution_count": 15,
   "metadata": {},
   "outputs": [],
   "source": [
    "def encode(plaintext):\n",
    "    prior = ''\n",
    "    count = 1\n",
    "    encoding = ''\n",
    "    for char in plaintext:\n",
    "        if char == prior:\n",
    "            count += 1\n",
    "        else:\n",
    "            encoding = encoding + str(count) + prior\n",
    "            count = 1\n",
    "        prior = char\n",
    "    encoding = encoding + str(count) + prior\n",
    "    return encoding[1:]"
   ]
  },
  {
   "cell_type": "code",
   "execution_count": 22,
   "metadata": {},
   "outputs": [],
   "source": [
    "def decode(encoding):\n",
    "    digits = ''\n",
    "    decoding = ''\n",
    "    for char in encoding:\n",
    "        if char in '1234567890':\n",
    "            digits = digits + char\n",
    "        else:\n",
    "            decoding = decoding + int(digits) * char\n",
    "            digits = ''\n",
    "    return decoding"
   ]
  },
  {
   "cell_type": "code",
   "execution_count": 29,
   "metadata": {},
   "outputs": [
    {
     "name": "stdout",
     "output_type": "stream",
     "text": [
      "4a2b5a3b4c4b1a1b1a1b1a5b4c3b1a1b1c1b3c2a\n"
     ]
    },
    {
     "data": {
      "text/plain": [
       "True"
      ]
     },
     "execution_count": 29,
     "metadata": {},
     "output_type": "execute_result"
    }
   ],
   "source": [
    "ts = 'aaaabbaaaaabbbccccbbbbabababbbbbccccbbbabcbcccaa'\n",
    "te = encode(ts)\n",
    "print(te)\n",
    "ts == decode(te)"
   ]
  },
  {
   "cell_type": "code",
   "execution_count": 30,
   "metadata": {},
   "outputs": [
    {
     "name": "stdout",
     "output_type": "stream",
     "text": [
      "4 5a3-2a1b3c2b4_1a1b1a1b1a2b2c3b1a1b1c1b1a\n"
     ]
    },
    {
     "data": {
      "text/plain": [
       "True"
      ]
     },
     "execution_count": 30,
     "metadata": {},
     "output_type": "execute_result"
    }
   ],
   "source": [
    "ts = '    aaaaa---aabcccbb____abababbccbbbabcba'\n",
    "te = encode(ts)\n",
    "print(te)\n",
    "ts == decode(te)"
   ]
  },
  {
   "cell_type": "code",
   "execution_count": 31,
   "metadata": {},
   "outputs": [
    {
     "name": "stdout",
     "output_type": "stream",
     "text": [
      "1A\n"
     ]
    },
    {
     "data": {
      "text/plain": [
       "True"
      ]
     },
     "execution_count": 31,
     "metadata": {},
     "output_type": "execute_result"
    }
   ],
   "source": [
    "ts = 'A'\n",
    "te = encode(ts)\n",
    "print(te)\n",
    "ts == decode(te)"
   ]
  },
  {
   "cell_type": "code",
   "execution_count": 32,
   "metadata": {},
   "outputs": [
    {
     "name": "stdout",
     "output_type": "stream",
     "text": [
      "\n"
     ]
    },
    {
     "data": {
      "text/plain": [
       "True"
      ]
     },
     "execution_count": 32,
     "metadata": {},
     "output_type": "execute_result"
    }
   ],
   "source": [
    "ts = ''\n",
    "te = encode(ts)\n",
    "print(te)\n",
    "ts == decode(te)"
   ]
  },
  {
   "cell_type": "code",
   "execution_count": null,
   "metadata": {},
   "outputs": [],
   "source": []
  },
  {
   "cell_type": "code",
   "execution_count": null,
   "metadata": {},
   "outputs": [],
   "source": []
  }
 ],
 "metadata": {
  "kernelspec": {
   "display_name": "Python 3",
   "language": "python",
   "name": "python3"
  },
  "language_info": {
   "codemirror_mode": {
    "name": "ipython",
    "version": 3
   },
   "file_extension": ".py",
   "mimetype": "text/x-python",
   "name": "python",
   "nbconvert_exporter": "python",
   "pygments_lexer": "ipython3",
   "version": "3.6.3"
  }
 },
 "nbformat": 4,
 "nbformat_minor": 2
}
