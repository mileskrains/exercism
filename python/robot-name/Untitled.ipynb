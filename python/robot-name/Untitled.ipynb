{
 "cells": [
  {
   "cell_type": "code",
   "execution_count": 140,
   "metadata": {},
   "outputs": [
    {
     "name": "stdout",
     "output_type": "stream",
     "text": [
      "['MK831', 'DB699', 'ZF855', 'VA670', 'RH885', 'RD081', 'VQ250', 'JU771', 'WZ862', 'JG554', 'FU606', 'OA308', 'TE001', 'KV659']\n",
      "['DB699', 'ZF855', 'VA670', 'RH885', 'RD081', 'VQ250', 'JU771', 'WZ862', 'JG554', 'FU606', 'OA308', 'TE001', 'KV659', 'EO812']\n"
     ]
    }
   ],
   "source": [
    "import random\n",
    "import string\n",
    "import time\n",
    "\n",
    "class Robot(object):\n",
    "    robot_pop = []\n",
    "    \n",
    "    def __init__(self):\n",
    "        self.assign_name()\n",
    "    \n",
    "    def make_name(self):\n",
    "        alpha_part = random.choices(string.ascii_uppercase, k=2)\n",
    "        num_part = random.choices(string.digits, k=3)\n",
    "        return ''.join(alpha_part + num_part)\n",
    "    \n",
    "    def assign_name(self):\n",
    "        name = self.make_name()\n",
    "        while name in Robot.robot_pop:\n",
    "            name = self.make_name()\n",
    "        self.name = name\n",
    "        Robot.robot_pop.append(name)\n",
    "        \n",
    "    def reset(self):\n",
    "        Robot.robot_pop.remove(self.name)\n",
    "        self.assign_name()\n",
    "        \n",
    "\n",
    "r1 = Robot()\n",
    "r1.name\n",
    "r2 = Robot()\n",
    "r2.name\n",
    "robots = []\n",
    "for _ in range(12):\n",
    "    robots.append(Robot())\n",
    "print(Robot.robot_pop)\n",
    "r1.reset()\n",
    "print(r1.robot_pop)"
   ]
  },
  {
   "cell_type": "code",
   "execution_count": 145,
   "metadata": {},
   "outputs": [
    {
     "name": "stdout",
     "output_type": "stream",
     "text": [
      "['LA397', 'DQ836', 'CY932', 'AV911', 'BK146', 'RN447', 'BM357', 'PL135', 'OT641', 'MR672', 'BA718', 'BS398', 'CT952', 'OV721']\n",
      "['DQ836', 'CY932', 'AV911', 'BK146', 'RN447', 'BM357', 'PL135', 'OT641', 'MR672', 'BA718', 'BS398', 'CT952', 'OV721', 'MM790']\n"
     ]
    }
   ],
   "source": [
    "import random\n",
    "import string\n",
    "import time\n",
    "\n",
    "class Robot(object):\n",
    "    robot_pop = []\n",
    "    \n",
    "    @staticmethod\n",
    "    def make_name():\n",
    "        random.seed(time.time())\n",
    "        alpha_part = random.choices(string.ascii_uppercase, k=2)\n",
    "        num_part = random.choices(string.digits, k=3)\n",
    "        return ''.join(alpha_part + num_part)\n",
    "    \n",
    "    @classmethod\n",
    "    def register_unique_name(cls):\n",
    "        name = cls.make_name()\n",
    "        while name in cls.robot_pop:\n",
    "            name = cls.make_name()\n",
    "        cls.robot_pop.append(name)\n",
    "        return name\n",
    "    \n",
    "    @classmethod\n",
    "    def remove_name(cls, name):\n",
    "        cls.robot_pop.remove(name)\n",
    "        \n",
    "    def __init__(self):\n",
    "        self.assign_name()\n",
    "    \n",
    "    def assign_name(self):\n",
    "        name = self.register_unique_name()\n",
    "        self.name = name\n",
    "        \n",
    "    def reset(self):\n",
    "        self.remove_name(self.name)\n",
    "        self.assign_name()\n",
    "        \n",
    "\n",
    "r1 = Robot()\n",
    "r1.name\n",
    "r2 = Robot()\n",
    "r2.name\n",
    "robots = []\n",
    "for _ in range(12):\n",
    "    robots.append(Robot())\n",
    "print(Robot.robot_pop)\n",
    "r1.reset()\n",
    "print(r1.robot_pop)"
   ]
  },
  {
   "cell_type": "markdown",
   "metadata": {},
   "source": [
    "use a class variable to keep track of the robot population, and make sure that each name is unique ..."
   ]
  },
  {
   "cell_type": "code",
   "execution_count": 146,
   "metadata": {},
   "outputs": [
    {
     "data": {
      "text/plain": [
       "('IU312', 'SZ135')"
      ]
     },
     "execution_count": 146,
     "metadata": {},
     "output_type": "execute_result"
    }
   ],
   "source": [
    "seed = 'totally random'\n",
    "random.seed(seed)\n",
    "robot = Robot()\n",
    "name = robot.name\n",
    "random.seed(seed)\n",
    "robot.reset()\n",
    "name2 = robot.name\n",
    "name, name2"
   ]
  },
  {
   "cell_type": "code",
   "execution_count": null,
   "metadata": {},
   "outputs": [],
   "source": []
  },
  {
   "cell_type": "code",
   "execution_count": null,
   "metadata": {},
   "outputs": [],
   "source": []
  },
  {
   "cell_type": "code",
   "execution_count": null,
   "metadata": {},
   "outputs": [],
   "source": []
  },
  {
   "cell_type": "code",
   "execution_count": null,
   "metadata": {},
   "outputs": [],
   "source": []
  },
  {
   "cell_type": "code",
   "execution_count": null,
   "metadata": {},
   "outputs": [],
   "source": []
  },
  {
   "cell_type": "code",
   "execution_count": null,
   "metadata": {},
   "outputs": [],
   "source": []
  },
  {
   "cell_type": "code",
   "execution_count": null,
   "metadata": {},
   "outputs": [],
   "source": []
  },
  {
   "cell_type": "code",
   "execution_count": null,
   "metadata": {},
   "outputs": [],
   "source": []
  },
  {
   "cell_type": "code",
   "execution_count": null,
   "metadata": {},
   "outputs": [],
   "source": []
  },
  {
   "cell_type": "code",
   "execution_count": null,
   "metadata": {},
   "outputs": [],
   "source": []
  },
  {
   "cell_type": "code",
   "execution_count": null,
   "metadata": {},
   "outputs": [],
   "source": []
  },
  {
   "cell_type": "code",
   "execution_count": null,
   "metadata": {},
   "outputs": [],
   "source": []
  },
  {
   "cell_type": "code",
   "execution_count": null,
   "metadata": {},
   "outputs": [],
   "source": []
  },
  {
   "cell_type": "code",
   "execution_count": null,
   "metadata": {},
   "outputs": [],
   "source": []
  }
 ],
 "metadata": {
  "kernelspec": {
   "display_name": "Python 3",
   "language": "python",
   "name": "python3"
  },
  "language_info": {
   "codemirror_mode": {
    "name": "ipython",
    "version": 3
   },
   "file_extension": ".py",
   "mimetype": "text/x-python",
   "name": "python",
   "nbconvert_exporter": "python",
   "pygments_lexer": "ipython3",
   "version": "3.6.3"
  }
 },
 "nbformat": 4,
 "nbformat_minor": 2
}
