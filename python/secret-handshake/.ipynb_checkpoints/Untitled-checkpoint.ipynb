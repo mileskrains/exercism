{
 "cells": [
  {
   "cell_type": "code",
   "execution_count": 98,
   "metadata": {},
   "outputs": [],
   "source": [
    "def handshake(number):\n",
    "    if type(number)==int:\n",
    "        number = '{:05b}'.format(number)\n",
    "    try:\n",
    "        as_int = int(number, 2)\n",
    "    except ValueError:\n",
    "        return []\n",
    "    if not 1 <= as_int <= 31:\n",
    "        return []\n",
    "    sh_mask = [bd=='1' for bd in number.rjust(5, '0')]\n",
    "    reverse = sh_mask.pop(0)\n",
    "    sh_steps = ['jump', 'close your eyes', 'double blink', 'wink']\n",
    "    actions = [a for a, b in zip(sh_steps, sh_mask) if b]\n",
    "    if not reverse:\n",
    "        actions.reverse()\n",
    "    return actions\n",
    "\n",
    "\n",
    "def code(secret_code):\n",
    "    sh_step_vals = {'jump': 8, 'close your eyes': 4, 'double blink': 2, 'wink': 1}\n",
    "    action_vals = [sh_step_vals.get(step, 0) for step in secret_code]\n",
    "    if 0 in action_vals:\n",
    "        return '0'\n",
    "    sh_int = sum(action_vals)\n",
    "    if action_vals != sorted(action_vals):\n",
    "        sh_int += 16\n",
    "    return bin(sh_int)[2:]\n"
   ]
  },
  {
   "cell_type": "code",
   "execution_count": 100,
   "metadata": {},
   "outputs": [
    {
     "data": {
      "text/plain": [
       "[]"
      ]
     },
     "execution_count": 100,
     "metadata": {},
     "output_type": "execute_result"
    }
   ],
   "source": [
    "handshake('121')"
   ]
  },
  {
   "cell_type": "code",
   "execution_count": 93,
   "metadata": {},
   "outputs": [
    {
     "data": {
      "text/plain": [
       "30"
      ]
     },
     "execution_count": 93,
     "metadata": {},
     "output_type": "execute_result"
    }
   ],
   "source": [
    "int(code(handshake(30)), 2)"
   ]
  },
  {
   "cell_type": "code",
   "execution_count": 97,
   "metadata": {},
   "outputs": [
    {
     "data": {
      "text/plain": [
       "'00101'"
      ]
     },
     "execution_count": 97,
     "metadata": {},
     "output_type": "execute_result"
    }
   ],
   "source": [
    "'101'.rjust(5, '0')"
   ]
  },
  {
   "cell_type": "code",
   "execution_count": null,
   "metadata": {},
   "outputs": [],
   "source": []
  },
  {
   "cell_type": "code",
   "execution_count": null,
   "metadata": {},
   "outputs": [],
   "source": []
  },
  {
   "cell_type": "code",
   "execution_count": null,
   "metadata": {},
   "outputs": [],
   "source": []
  },
  {
   "cell_type": "code",
   "execution_count": null,
   "metadata": {},
   "outputs": [],
   "source": []
  },
  {
   "cell_type": "code",
   "execution_count": null,
   "metadata": {},
   "outputs": [],
   "source": []
  },
  {
   "cell_type": "code",
   "execution_count": null,
   "metadata": {},
   "outputs": [],
   "source": []
  },
  {
   "cell_type": "code",
   "execution_count": null,
   "metadata": {},
   "outputs": [],
   "source": []
  },
  {
   "cell_type": "code",
   "execution_count": null,
   "metadata": {},
   "outputs": [],
   "source": []
  }
 ],
 "metadata": {
  "kernelspec": {
   "display_name": "Python 3",
   "language": "python",
   "name": "python3"
  },
  "language_info": {
   "codemirror_mode": {
    "name": "ipython",
    "version": 3
   },
   "file_extension": ".py",
   "mimetype": "text/x-python",
   "name": "python",
   "nbconvert_exporter": "python",
   "pygments_lexer": "ipython3",
   "version": "3.6.3"
  }
 },
 "nbformat": 4,
 "nbformat_minor": 2
}
