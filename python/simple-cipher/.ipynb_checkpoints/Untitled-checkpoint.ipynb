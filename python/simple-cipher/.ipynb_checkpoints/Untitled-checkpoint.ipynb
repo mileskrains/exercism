{
 "cells": [
  {
   "cell_type": "code",
   "execution_count": 2,
   "metadata": {},
   "outputs": [
    {
     "name": "stdout",
     "output_type": "stream",
     "text": [
      "adaywithoutlaughterisadaywasted\n"
     ]
    }
   ],
   "source": [
    "import random\n",
    "import string\n",
    "\n",
    "\n",
    "class Cipher():\n",
    "    def __init__(self, key=None):\n",
    "        if key == None:\n",
    "            self.key = ''.join(random.choices(string.ascii_lowercase, k=100))\n",
    "        else:\n",
    "            if key == ''.join([c.lower() for c in key if c.isalpha()]):\n",
    "                self.key = key\n",
    "            else:\n",
    "                raise ValueError\n",
    "    \n",
    "    def _enc(self, t, k):\n",
    "        eo = ord(t)+ord(k)-97\n",
    "        if eo > 122:\n",
    "            eo -= 26\n",
    "        return(chr(eo))\n",
    "\n",
    "    def _dec(self, t, k):\n",
    "        do = ord(t)-ord(k)+97\n",
    "        if do < 97:\n",
    "            do += 26\n",
    "        return(chr(do))\n",
    "    \n",
    "    def _confirm_keylength(self, num):\n",
    "        while len(self.key) < num:\n",
    "            self.key += self.key\n",
    "    \n",
    "    def encode(self, text):\n",
    "        text = ''.join([c.lower() for c in text if c.isalpha()])\n",
    "        self._confirm_keylength(len(text))\n",
    "        return ''.join([self._enc(t, k) for t, k in zip(text, self.key)])\n",
    "\n",
    "    def decode(self, text):\n",
    "        self._confirm_keylength(len(text))\n",
    "        return ''.join([self._dec(t, k) for t, k in zip(text, self.key)])\n",
    "\n",
    "    \n",
    "class Caesar(Cipher):\n",
    "    def __init__(self):\n",
    "        super().__init__(key='d')\n",
    "\n",
    "         \n",
    "c = Cipher()\n",
    "print(c.decode(c.encode('adaywithoutlaughterisadaywasted')))"
   ]
  },
  {
   "cell_type": "code",
   "execution_count": 29,
   "metadata": {},
   "outputs": [
    {
     "data": {
      "text/plain": [
       "(97, 122)"
      ]
     },
     "execution_count": 29,
     "metadata": {},
     "output_type": "execute_result"
    }
   ],
   "source": [
    "ord('a'), ord('z')"
   ]
  },
  {
   "cell_type": "code",
   "execution_count": 39,
   "metadata": {},
   "outputs": [
    {
     "data": {
      "text/plain": [
       "('c', 'z')"
      ]
     },
     "execution_count": 39,
     "metadata": {},
     "output_type": "execute_result"
    }
   ],
   "source": [
    "def enc(t, k):\n",
    "    eo = ord(t)+ord(k)-97\n",
    "    if eo > 122:\n",
    "        eo -= 26\n",
    "    return(chr(eo))\n",
    "\n",
    "def dec(t, k):\n",
    "    do = ord(t)-ord(k)+97\n",
    "    if do < 97:\n",
    "        do += 26\n",
    "    return(chr(do))\n",
    "\n",
    "enc('z', 'd'), dec('c', 'd')"
   ]
  },
  {
   "cell_type": "code",
   "execution_count": 31,
   "metadata": {},
   "outputs": [
    {
     "data": {
      "text/plain": [
       "3"
      ]
     },
     "execution_count": 31,
     "metadata": {},
     "output_type": "execute_result"
    }
   ],
   "source": [
    "ord('d')-97"
   ]
  },
  {
   "cell_type": "code",
   "execution_count": 42,
   "metadata": {},
   "outputs": [
    {
     "name": "stdout",
     "output_type": "stream",
     "text": [
      "a x\n",
      "b y\n"
     ]
    }
   ],
   "source": [
    "for a, b in zip('ab', 'xyz'):\n",
    "    print(a, b)"
   ]
  },
  {
   "cell_type": "code",
   "execution_count": null,
   "metadata": {},
   "outputs": [],
   "source": []
  },
  {
   "cell_type": "code",
   "execution_count": null,
   "metadata": {},
   "outputs": [],
   "source": []
  },
  {
   "cell_type": "code",
   "execution_count": null,
   "metadata": {},
   "outputs": [],
   "source": []
  },
  {
   "cell_type": "code",
   "execution_count": null,
   "metadata": {},
   "outputs": [],
   "source": []
  },
  {
   "cell_type": "code",
   "execution_count": null,
   "metadata": {},
   "outputs": [],
   "source": []
  },
  {
   "cell_type": "code",
   "execution_count": null,
   "metadata": {},
   "outputs": [],
   "source": []
  },
  {
   "cell_type": "code",
   "execution_count": null,
   "metadata": {},
   "outputs": [],
   "source": []
  },
  {
   "cell_type": "code",
   "execution_count": null,
   "metadata": {},
   "outputs": [],
   "source": []
  }
 ],
 "metadata": {
  "kernelspec": {
   "display_name": "Python 3",
   "language": "python",
   "name": "python3"
  },
  "language_info": {
   "codemirror_mode": {
    "name": "ipython",
    "version": 3
   },
   "file_extension": ".py",
   "mimetype": "text/x-python",
   "name": "python",
   "nbconvert_exporter": "python",
   "pygments_lexer": "ipython3",
   "version": "3.6.3"
  }
 },
 "nbformat": 4,
 "nbformat_minor": 2
}
