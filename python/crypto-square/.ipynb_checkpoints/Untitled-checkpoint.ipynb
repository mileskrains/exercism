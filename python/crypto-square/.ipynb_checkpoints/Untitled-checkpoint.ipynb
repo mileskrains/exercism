{
 "cells": [
  {
   "cell_type": "code",
   "execution_count": 187,
   "metadata": {},
   "outputs": [
    {
     "data": {
      "text/plain": [
       "'imtgdvs fearwer mayoogo anouuio ntnnlvt wttddes aohghn  sseoau '"
      ]
     },
     "execution_count": 187,
     "metadata": {},
     "output_type": "execute_result"
    }
   ],
   "source": [
    "import math\n",
    "\n",
    "\n",
    "def encode(plain_text):\n",
    "    pt_norm = [c for c in plain_text.lower() if c.isalnum()]\n",
    "    pt_char_ct = len(pt_norm)\n",
    "    if pt_char_ct < 3:\n",
    "        return ''.join(pt_norm)\n",
    "    c = r = int(round(math.sqrt(pt_char_ct),0))\n",
    "    if r**2 < pt_char_ct:\n",
    "        c += 1\n",
    "        \n",
    "    ct = ''\n",
    "    for x in range(c):\n",
    "        for y in range(r):\n",
    "            pos = x+y*c\n",
    "            if pos < pt_char_ct:\n",
    "                ct += pt_norm[pos]\n",
    "            else:\n",
    "                ct += ' '\n",
    "            if pos >= c * (r-1):\n",
    "                ct += ' '\n",
    "    return ct[:r*c+c-1]\n",
    "\n",
    "pt = 'If man was meant to stay on the ground, god would have given us roots.'\n",
    "#pt = 'this is fun'\n",
    "encode(pt)"
   ]
  },
  {
   "cell_type": "code",
   "execution_count": null,
   "metadata": {},
   "outputs": [],
   "source": []
  },
  {
   "cell_type": "code",
   "execution_count": null,
   "metadata": {},
   "outputs": [],
   "source": []
  },
  {
   "cell_type": "code",
   "execution_count": null,
   "metadata": {},
   "outputs": [],
   "source": []
  },
  {
   "cell_type": "code",
   "execution_count": null,
   "metadata": {},
   "outputs": [],
   "source": []
  },
  {
   "cell_type": "code",
   "execution_count": null,
   "metadata": {},
   "outputs": [],
   "source": []
  },
  {
   "cell_type": "code",
   "execution_count": null,
   "metadata": {},
   "outputs": [],
   "source": []
  },
  {
   "cell_type": "code",
   "execution_count": null,
   "metadata": {},
   "outputs": [],
   "source": []
  },
  {
   "cell_type": "code",
   "execution_count": null,
   "metadata": {},
   "outputs": [],
   "source": []
  },
  {
   "cell_type": "code",
   "execution_count": null,
   "metadata": {},
   "outputs": [],
   "source": []
  },
  {
   "cell_type": "code",
   "execution_count": null,
   "metadata": {},
   "outputs": [],
   "source": []
  },
  {
   "cell_type": "code",
   "execution_count": null,
   "metadata": {},
   "outputs": [],
   "source": []
  },
  {
   "cell_type": "code",
   "execution_count": null,
   "metadata": {},
   "outputs": [],
   "source": []
  },
  {
   "cell_type": "code",
   "execution_count": null,
   "metadata": {},
   "outputs": [],
   "source": []
  }
 ],
 "metadata": {
  "kernelspec": {
   "display_name": "Python 3",
   "language": "python",
   "name": "python3"
  },
  "language_info": {
   "codemirror_mode": {
    "name": "ipython",
    "version": 3
   },
   "file_extension": ".py",
   "mimetype": "text/x-python",
   "name": "python",
   "nbconvert_exporter": "python",
   "pygments_lexer": "ipython3",
   "version": "3.6.3"
  }
 },
 "nbformat": 4,
 "nbformat_minor": 2
}
