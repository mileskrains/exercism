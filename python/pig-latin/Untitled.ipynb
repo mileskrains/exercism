{
 "cells": [
  {
   "cell_type": "code",
   "execution_count": 71,
   "metadata": {},
   "outputs": [
    {
     "data": {
      "text/plain": [
       "'ickquay astfay unray awayay yttriaay aresquay'"
      ]
     },
     "execution_count": 71,
     "metadata": {},
     "output_type": "execute_result"
    }
   ],
   "source": [
    "def translate_word(word):\n",
    "    vowels = 'aeiouy'\n",
    "    start = ''\n",
    "    rest = word\n",
    "    while (rest[0] not in vowels or\n",
    "           (start.endswith('q') and rest[0] == 'u') or\n",
    "           (start == '' and rest[0] == 'y' and rest[1] in vowels)):\n",
    "        start += rest[0]\n",
    "        rest = rest[1:]\n",
    "    if rest == 'ay':\n",
    "        start = ''\n",
    "        rest = word\n",
    "    return rest + start + 'ay'\n",
    "\n",
    "def translate(text):\n",
    "    return ' '.join([translate_word(w) for w in text.split()])\n",
    "\n",
    "translate('quick fast run away yttria square')"
   ]
  },
  {
   "cell_type": "code",
   "execution_count": 39,
   "metadata": {},
   "outputs": [],
   "source": [
    "translate(\"quick fast run\")"
   ]
  },
  {
   "cell_type": "code",
   "execution_count": 69,
   "metadata": {},
   "outputs": [
    {
     "data": {
      "text/plain": [
       "True"
      ]
     },
     "execution_count": 69,
     "metadata": {},
     "output_type": "execute_result"
    }
   ],
   "source": [
    "'happy'.endswith('y')"
   ]
  },
  {
   "cell_type": "code",
   "execution_count": null,
   "metadata": {},
   "outputs": [],
   "source": []
  },
  {
   "cell_type": "code",
   "execution_count": null,
   "metadata": {},
   "outputs": [],
   "source": []
  },
  {
   "cell_type": "code",
   "execution_count": null,
   "metadata": {},
   "outputs": [],
   "source": []
  },
  {
   "cell_type": "code",
   "execution_count": null,
   "metadata": {},
   "outputs": [],
   "source": []
  },
  {
   "cell_type": "code",
   "execution_count": null,
   "metadata": {},
   "outputs": [],
   "source": []
  },
  {
   "cell_type": "code",
   "execution_count": null,
   "metadata": {},
   "outputs": [],
   "source": []
  },
  {
   "cell_type": "code",
   "execution_count": 11,
   "metadata": {},
   "outputs": [],
   "source": []
  },
  {
   "cell_type": "code",
   "execution_count": 38,
   "metadata": {},
   "outputs": [
    {
     "name": "stdout",
     "output_type": "stream",
     "text": [
      "0 22\n",
      "1 78\n",
      "2 0\n",
      "3 0\n"
     ]
    }
   ],
   "source": [
    "ts = '234242424234234234234242424234234234242424234234' \n",
    "\n",
    "cts = {0:0, 1:0, 2:0, 3:0}\n",
    "for c in ts:\n",
    "    if c == '2':\n",
    "        c3 = 0\n",
    "    if c == '3':\n",
    "        c3 += 1\n",
    "    if c == '4':\n",
    "        cts[c3] += 1\n",
    "for k, v in cts.items():\n",
    "    print(k, round(100*v/sum(cts.values())))"
   ]
  }
 ],
 "metadata": {
  "kernelspec": {
   "display_name": "Python 3",
   "language": "python",
   "name": "python3"
  },
  "language_info": {
   "codemirror_mode": {
    "name": "ipython",
    "version": 3
   },
   "file_extension": ".py",
   "mimetype": "text/x-python",
   "name": "python",
   "nbconvert_exporter": "python",
   "pygments_lexer": "ipython3",
   "version": "3.6.3"
  }
 },
 "nbformat": 4,
 "nbformat_minor": 2
}
